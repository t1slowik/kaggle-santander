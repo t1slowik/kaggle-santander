{
 "cells": [
  {
   "cell_type": "markdown",
   "metadata": {},
   "source": [
    "# Kaggle Santander competition"
   ]
  },
  {
   "cell_type": "code",
   "execution_count": 1,
   "metadata": {},
   "outputs": [],
   "source": [
    "# general & data analysis imports\n",
    "import numpy as np\n",
    "import pandas as pd\n",
    "# import matplotlib.pyplot as plt\n",
    "# import seaborn as sns\n",
    "from sklearn.model_selection import train_test_split\n",
    "from sklearn.model_selection import cross_val_score\n",
    "from sklearn.metrics import confusion_matrix\n",
    "from sklearn.model_selection import KFold\n",
    "from sklearn.metrics import roc_auc_score\n",
    "from sklearn.metrics import accuracy_score\n",
    "from sklearn.model_selection import StratifiedKFold\n",
    "# from imblearn.over_sampling import SMOTE\n",
    "\n",
    "import lightgbm as lgb\n",
    "import time\n",
    "\n",
    "from hyperopt import hp, tpe\n",
    "from hyperopt.fmin import fmin\n",
    "\n",
    "\n"
   ]
  },
  {
   "cell_type": "markdown",
   "metadata": {},
   "source": [
    "## data load"
   ]
  },
  {
   "cell_type": "code",
   "execution_count": 24,
   "metadata": {},
   "outputs": [],
   "source": [
    "train_dataset=pd.read_csv('train.csv')\n",
    "test_dataset=pd.read_csv('test.csv')"
   ]
  },
  {
   "cell_type": "markdown",
   "metadata": {},
   "source": [
    "## data analysis"
   ]
  },
  {
   "cell_type": "code",
   "execution_count": null,
   "metadata": {},
   "outputs": [],
   "source": [
    "train_dataset.info()"
   ]
  },
  {
   "cell_type": "code",
   "execution_count": null,
   "metadata": {},
   "outputs": [],
   "source": [
    "train_dataset.describe()"
   ]
  },
  {
   "cell_type": "code",
   "execution_count": null,
   "metadata": {},
   "outputs": [],
   "source": [
    "train_dataset.columns"
   ]
  },
  {
   "cell_type": "code",
   "execution_count": null,
   "metadata": {},
   "outputs": [],
   "source": [
    "train_dataset.head()"
   ]
  },
  {
   "cell_type": "code",
   "execution_count": null,
   "metadata": {},
   "outputs": [],
   "source": [
    "train_dataset.isnull().sum().sum()"
   ]
  },
  {
   "cell_type": "markdown",
   "metadata": {},
   "source": [
    "## data preprocessing"
   ]
  },
  {
   "cell_type": "code",
   "execution_count": 25,
   "metadata": {},
   "outputs": [],
   "source": [
    "# remove dependent variable from train set to have the same structure as test set\n",
    "df_target=train_dataset['target'].copy()\n",
    "df_train=train_dataset.drop(['ID_code','target'], axis=1)\n",
    "df_test=test_dataset.drop('ID_code', axis=1)"
   ]
  },
  {
   "cell_type": "code",
   "execution_count": null,
   "metadata": {},
   "outputs": [],
   "source": [
    "#sm = SMOTE(random_state=1)\n",
    "#X_train, y_train = sm.fit_resample(X_train, y_train)\n",
    "#X_val, y_val = sm.fit_resample(X_val, y_val)"
   ]
  },
  {
   "cell_type": "markdown",
   "metadata": {},
   "source": [
    "## training, tuning and evaluation - random search\n",
    "random hyperparameters search, without kfold"
   ]
  },
  {
   "cell_type": "code",
   "execution_count": null,
   "metadata": {},
   "outputs": [],
   "source": [
    "X_train,X_val,y_train,y_val=train_test_split(df_train.values,df_target.values,test_size=0.2,random_state=1, shuffle=True)\n",
    "X_test=df_test.values"
   ]
  },
  {
   "cell_type": "code",
   "execution_count": null,
   "metadata": {},
   "outputs": [],
   "source": [
    "#lgbm parameters values for random search\n",
    "param_grid = dict(\n",
    "         objective =  ['binary'],\n",
    "         learning_rate = np.logspace(-3, -1, num=50, base=10.0),\n",
    "         feature_fraction = np.logspace(-2, -1, num=50, base=10.0),\n",
    "         num_leaves = np.arange(10,30,2),\n",
    "         min_data_in_leaf = np.arange(30,150,50),\n",
    "         bagging_fraction = np.arange(0.3,0.95,0.01),\n",
    "         bagging_freq = np.arange(3, 30, 5),\n",
    "         max_depth = [-1],\n",
    "         boosting_type = ['gbdt'],\n",
    "         metric = ['auc'],\n",
    "         min_sum_hessian_in_leaf = np.logspace(-4, 2, num=50, base=10.0),\n",
    "         n_jobs = [-1],\n",
    "         num_round = [2500]\n",
    ")"
   ]
  },
  {
   "cell_type": "code",
   "execution_count": null,
   "metadata": {},
   "outputs": [],
   "source": [
    "def random_search(param_grid, X_train, X_val, y_train, y_val, iterations):\n",
    "    train_set = lgb.Dataset(X_train, label=y_train)\n",
    "    val_set = lgb.Dataset(X_val, label=y_val)\n",
    "    param_list=list(param_grid.keys())\n",
    "    metrics_list=['ROC_train','ROC_val','ROC_diff']\n",
    "    logging_list=param_list+metrics_list\n",
    "    results=[]\n",
    "    try:\n",
    "        for i in range(iterations):\n",
    "            print(f'iteration {i+1} of {iterations}')\n",
    "            # randomly select parameters\n",
    "            param = dict()\n",
    "            for key in param_grid:\n",
    "                param[key] = np.random.choice(param_grid[key])\n",
    "            print(f'selected params:{param}')\n",
    "            # train the model\n",
    "            clf = lgb.train(param, train_set, valid_sets=[train_set,val_set], verbose_eval=500,early_stopping_rounds = 400)\n",
    "            # calculate & log statistics\n",
    "            y_train_proba=clf.predict(X_train)\n",
    "            y_val_proba=clf.predict(X_val)\n",
    "            param['ROC_train']=roc_auc_score(y_train,y_train_proba)\n",
    "            param['ROC_val']=roc_auc_score(y_val,y_val_proba)\n",
    "            param['ROC_diff']=param['ROC_train']-param['ROC_val']\n",
    "            logging_list\n",
    "            # log results\n",
    "            result_line=[]\n",
    "            # log parameters\n",
    "            for key in logging_list:\n",
    "                result_line.append(param[key])\n",
    "            results.append(result_line)\n",
    "    except(KeyboardInterrupt):\n",
    "        pass\n",
    "    # save results to file\n",
    "    result_df=pd.DataFrame(results, columns=logging_list)\n",
    "    result_df.to_csv('hp_search.csv', index=False)\n",
    "\n",
    "        \n",
    "\n",
    "        \n",
    "        "
   ]
  },
  {
   "cell_type": "code",
   "execution_count": null,
   "metadata": {},
   "outputs": [],
   "source": [
    "random_search(param_grid, X_train, X_val, y_train, y_val, 400)"
   ]
  },
  {
   "cell_type": "markdown",
   "metadata": {},
   "source": [
    "## training, tuning and evaluation - hyperopt\n",
    " hyperparameters search by hyperopt"
   ]
  },
  {
   "cell_type": "code",
   "execution_count": 4,
   "metadata": {},
   "outputs": [],
   "source": [
    "X_train,X_val,y_train,y_val=train_test_split(df_train.values,df_target.values,test_size=0.15,random_state=1, shuffle=True)\n",
    "X_test=df_test.values\n",
    "train_set = lgb.Dataset(X_train, label=y_train)\n",
    "val_set = lgb.Dataset(X_val, label=y_val)"
   ]
  },
  {
   "cell_type": "code",
   "execution_count": 36,
   "metadata": {},
   "outputs": [],
   "source": [
    "space= { 'objective': 'binary', \n",
    "         'boosting_type': 'gbdt',\n",
    "         'metric': 'auc',\n",
    "         'max_depth': -1,\n",
    "         'learning_rate': 0.04,\n",
    "         # 'max_depth':hp.quniform('max_depth', 4, 14, 1),\n",
    "         'feature_fraction': hp.uniform('feature_fraction',0.01, 0.2),\n",
    "         'bagging_fraction': hp.uniform('bagging_fraction',0.2, 0.9),\n",
    "         'num_leaves': hp.quniform('num_leaves', 10, 20, 1),\n",
    "         'min_data_in_leaf': hp.quniform('min_data_in_leaf', 75, 85, 1),\n",
    "         'bagging_freq': hp.quniform('bagging_freq', 3, 10, 1),\n",
    "         'n_jobs': -1,\n",
    "         'num_round': 3000\n",
    "}"
   ]
  },
  {
   "cell_type": "code",
   "execution_count": 37,
   "metadata": {},
   "outputs": [],
   "source": [
    "def check_model(param):\n",
    "    # print received params\n",
    "    # print(f'received params: {param}')\n",
    "    # convert to integers\n",
    "    integer_params=['max_depth', 'num_leaves', 'min_data_in_leaf', 'bagging_freq']\n",
    "    for p in integer_params:\n",
    "        param[p]=int(param[p])\n",
    "    print(f'corrected params: {param}')\n",
    "    # train clasiffier\n",
    "    clf = lgb.train(param, train_set, valid_sets=[train_set,val_set], verbose_eval=1000,early_stopping_rounds = 400)\n",
    "    # calculate ROC (more is better)\n",
    "    y_val_proba=clf.predict(X_val)\n",
    "    roc=roc_auc_score(y_val,y_val_proba)\n",
    "    # return optimization result (less is better)\n",
    "    return 1-roc\n"
   ]
  },
  {
   "cell_type": "code",
   "execution_count": 38,
   "metadata": {},
   "outputs": [
    {
     "name": "stdout",
     "output_type": "stream",
     "text": [
      "corrected params: {'bagging_fraction': 0.5929718721408997, 'bagging_freq': 3, 'boosting_type': 'gbdt', 'feature_fraction': 0.16058925971284546, 'learning_rate': 0.04, 'max_depth': -1, 'metric': 'auc', 'min_data_in_leaf': 85, 'n_jobs': -1, 'num_leaves': 19, 'num_round': 3000, 'objective': 'binary'}\n",
      "Training until validation scores don't improve for 400 rounds.                                                         \n",
      "[1000]\ttraining's auc: 0.94907\tvalid_1's auc: 0.893897                                                                 \n",
      "Early stopping, best iteration is:                                                                                     \n",
      "[1331]\ttraining's auc: 0.959086\tvalid_1's auc: 0.895009\n",
      "corrected params: {'bagging_fraction': 0.5676401883525091, 'bagging_freq': 9, 'boosting_type': 'gbdt', 'feature_fraction': 0.04237930286436834, 'learning_rate': 0.04, 'max_depth': -1, 'metric': 'auc', 'min_data_in_leaf': 76, 'n_jobs': -1, 'num_leaves': 16, 'num_round': 3000, 'objective': 'binary'}\n",
      "  1%|▎                                               | 1/150 [00:36<1:30:12, 36.33s/it, best loss: 0.05504867411840997]"
     ]
    },
    {
     "name": "stderr",
     "output_type": "stream",
     "text": [
      "C:\\Users\\tslow\\Anaconda3\\lib\\site-packages\\lightgbm\\engine.py:113: UserWarning: Found `num_round` in params. Will use it instead of argument\n",
      "  warnings.warn(\"Found `{}` in params. Will use it instead of argument\".format(alias))\n",
      "\n"
     ]
    },
    {
     "name": "stdout",
     "output_type": "stream",
     "text": [
      "Training until validation scores don't improve for 400 rounds.                                                         \n",
      "[1000]\ttraining's auc: 0.934964\tvalid_1's auc: 0.894082                                                                \n",
      "[2000]\ttraining's auc: 0.955789\tvalid_1's auc: 0.89616                                                                 \n",
      "Early stopping, best iteration is:                                                                                     \n",
      "[1959]\ttraining's auc: 0.955047\tvalid_1's auc: 0.896251\n",
      "corrected params: {'bagging_fraction': 0.541424121691912, 'bagging_freq': 6, 'boosting_type': 'gbdt', 'feature_fraction': 0.010631911708499909, 'learning_rate': 0.04, 'max_depth': -1, 'metric': 'auc', 'min_data_in_leaf': 76, 'n_jobs': -1, 'num_leaves': 18, 'num_round': 3000, 'objective': 'binary'}\n",
      "  1%|▋                                               | 2/150 [01:11<1:28:24, 35.84s/it, best loss: 0.05504867411840997]"
     ]
    },
    {
     "name": "stderr",
     "output_type": "stream",
     "text": [
      "C:\\Users\\tslow\\Anaconda3\\lib\\site-packages\\lightgbm\\engine.py:113: UserWarning: Found `num_round` in params. Will use it instead of argument\n",
      "  warnings.warn(\"Found `{}` in params. Will use it instead of argument\".format(alias))\n",
      "\n"
     ]
    },
    {
     "name": "stdout",
     "output_type": "stream",
     "text": [
      "Training until validation scores don't improve for 400 rounds.                                                         \n",
      "[1000]\ttraining's auc: 0.938527\tvalid_1's auc: 0.888897                                                                \n",
      "[2000]\ttraining's auc: 0.952648\tvalid_1's auc: 0.893871                                                                \n",
      "[3000]\ttraining's auc: 0.963362\tvalid_1's auc: 0.894439                                                                \n",
      "Did not meet early stopping. Best iteration is:                                                                        \n",
      "[3000]\ttraining's auc: 0.963362\tvalid_1's auc: 0.894439\n",
      "corrected params: {'bagging_fraction': 0.8223535722910251, 'bagging_freq': 8, 'boosting_type': 'gbdt', 'feature_fraction': 0.05136731313686845, 'learning_rate': 0.04, 'max_depth': -1, 'metric': 'auc', 'min_data_in_leaf': 82, 'n_jobs': -1, 'num_leaves': 14, 'num_round': 3000, 'objective': 'binary'}\n",
      "  2%|▉                                               | 3/150 [01:53<1:32:53, 37.92s/it, best loss: 0.05153025271274847]"
     ]
    },
    {
     "name": "stderr",
     "output_type": "stream",
     "text": [
      "C:\\Users\\tslow\\Anaconda3\\lib\\site-packages\\lightgbm\\engine.py:113: UserWarning: Found `num_round` in params. Will use it instead of argument\n",
      "  warnings.warn(\"Found `{}` in params. Will use it instead of argument\".format(alias))\n",
      "\n"
     ]
    },
    {
     "name": "stdout",
     "output_type": "stream",
     "text": [
      "Training until validation scores don't improve for 400 rounds.                                                         \n",
      "[1000]\ttraining's auc: 0.931783\tvalid_1's auc: 0.893899                                                                \n",
      "[2000]\ttraining's auc: 0.952336\tvalid_1's auc: 0.896718                                                                \n",
      "Early stopping, best iteration is:                                                                                     \n",
      "[2488]\ttraining's auc: 0.960379\tvalid_1's auc: 0.896955\n",
      "corrected params: {'bagging_fraction': 0.48609394376980775, 'bagging_freq': 4, 'boosting_type': 'gbdt', 'feature_fraction': 0.17033114230947766, 'learning_rate': 0.04, 'max_depth': -1, 'metric': 'auc', 'min_data_in_leaf': 81, 'n_jobs': -1, 'num_leaves': 20, 'num_round': 3000, 'objective': 'binary'}\n",
      "  3%|█▎                                              | 4/150 [02:39<1:38:10, 40.34s/it, best loss: 0.05153025271274847]"
     ]
    },
    {
     "name": "stderr",
     "output_type": "stream",
     "text": [
      "C:\\Users\\tslow\\Anaconda3\\lib\\site-packages\\lightgbm\\engine.py:113: UserWarning: Found `num_round` in params. Will use it instead of argument\n",
      "  warnings.warn(\"Found `{}` in params. Will use it instead of argument\".format(alias))\n",
      "\n"
     ]
    },
    {
     "name": "stdout",
     "output_type": "stream",
     "text": [
      "Training until validation scores don't improve for 400 rounds.                                                         \n",
      "[1000]\ttraining's auc: 0.950969\tvalid_1's auc: 0.894034                                                                \n",
      "Early stopping, best iteration is:                                                                                     \n",
      "[1535]\ttraining's auc: 0.966568\tvalid_1's auc: 0.895041\n",
      "corrected params: {'bagging_fraction': 0.7586653886388144, 'bagging_freq': 4, 'boosting_type': 'gbdt', 'feature_fraction': 0.14330509492379906, 'learning_rate': 0.04, 'max_depth': -1, 'metric': 'auc', 'min_data_in_leaf': 81, 'n_jobs': -1, 'num_leaves': 11, 'num_round': 3000, 'objective': 'binary'}\n",
      "  3%|█▌                                              | 5/150 [03:18<1:35:59, 39.72s/it, best loss: 0.04946769607299173]"
     ]
    },
    {
     "name": "stderr",
     "output_type": "stream",
     "text": [
      "C:\\Users\\tslow\\Anaconda3\\lib\\site-packages\\lightgbm\\engine.py:113: UserWarning: Found `num_round` in params. Will use it instead of argument\n",
      "  warnings.warn(\"Found `{}` in params. Will use it instead of argument\".format(alias))\n",
      "\n"
     ]
    },
    {
     "name": "stdout",
     "output_type": "stream",
     "text": [
      "Training until validation scores don't improve for 400 rounds.                                                         \n",
      "[1000]\ttraining's auc: 0.929129\tvalid_1's auc: 0.891167                                                                \n",
      "[2000]\ttraining's auc: 0.949414\tvalid_1's auc: 0.895249                                                                \n",
      "Early stopping, best iteration is:                                                                                     \n",
      "[2298]\ttraining's auc: 0.954333\tvalid_1's auc: 0.895376\n",
      "corrected params: {'bagging_fraction': 0.25975540889649557, 'bagging_freq': 9, 'boosting_type': 'gbdt', 'feature_fraction': 0.148884839070146, 'learning_rate': 0.04, 'max_depth': -1, 'metric': 'auc', 'min_data_in_leaf': 84, 'n_jobs': -1, 'num_leaves': 17, 'num_round': 3000, 'objective': 'binary'}\n",
      "  4%|█▉                                              | 6/150 [04:08<1:42:50, 42.85s/it, best loss: 0.04946769607299173]"
     ]
    },
    {
     "name": "stderr",
     "output_type": "stream",
     "text": [
      "C:\\Users\\tslow\\Anaconda3\\lib\\site-packages\\lightgbm\\engine.py:113: UserWarning: Found `num_round` in params. Will use it instead of argument\n",
      "  warnings.warn(\"Found `{}` in params. Will use it instead of argument\".format(alias))\n",
      "\n"
     ]
    },
    {
     "name": "stdout",
     "output_type": "stream",
     "text": [
      "Training until validation scores don't improve for 400 rounds.                                                         \n",
      "[1000]\ttraining's auc: 0.940566\tvalid_1's auc: 0.893332                                                                \n",
      "Early stopping, best iteration is:                                                                                     \n",
      "[1169]\ttraining's auc: 0.945716\tvalid_1's auc: 0.893641\n",
      "corrected params: {'bagging_fraction': 0.8467576380542801, 'bagging_freq': 8, 'boosting_type': 'gbdt', 'feature_fraction': 0.09328698177808278, 'learning_rate': 0.04, 'max_depth': -1, 'metric': 'auc', 'min_data_in_leaf': 80, 'n_jobs': -1, 'num_leaves': 16, 'num_round': 3000, 'objective': 'binary'}\n",
      "  5%|██▏                                             | 7/150 [04:33<1:29:41, 37.64s/it, best loss: 0.04946769607299173]"
     ]
    },
    {
     "name": "stderr",
     "output_type": "stream",
     "text": [
      "C:\\Users\\tslow\\Anaconda3\\lib\\site-packages\\lightgbm\\engine.py:113: UserWarning: Found `num_round` in params. Will use it instead of argument\n",
      "  warnings.warn(\"Found `{}` in params. Will use it instead of argument\".format(alias))\n",
      "\n"
     ]
    },
    {
     "name": "stdout",
     "output_type": "stream",
     "text": [
      "Training until validation scores don't improve for 400 rounds.                                                         \n",
      "[1000]\ttraining's auc: 0.939932\tvalid_1's auc: 0.892899                                                                \n",
      "[2000]\ttraining's auc: 0.963598\tvalid_1's auc: 0.894996                                                                \n",
      "Early stopping, best iteration is:                                                                                     \n",
      "[2216]\ttraining's auc: 0.967468\tvalid_1's auc: 0.895081\n",
      "corrected params: {'bagging_fraction': 0.5720871491364969, 'bagging_freq': 6, 'boosting_type': 'gbdt', 'feature_fraction': 0.11699294429906013, 'learning_rate': 0.04, 'max_depth': -1, 'metric': 'auc', 'min_data_in_leaf': 80, 'n_jobs': -1, 'num_leaves': 13, 'num_round': 3000, 'objective': 'binary'}\n",
      "  5%|██▌                                             | 8/150 [05:20<1:35:27, 40.33s/it, best loss: 0.04833892848935406]"
     ]
    },
    {
     "name": "stderr",
     "output_type": "stream",
     "text": [
      "C:\\Users\\tslow\\Anaconda3\\lib\\site-packages\\lightgbm\\engine.py:113: UserWarning: Found `num_round` in params. Will use it instead of argument\n",
      "  warnings.warn(\"Found `{}` in params. Will use it instead of argument\".format(alias))\n",
      "\n"
     ]
    },
    {
     "name": "stdout",
     "output_type": "stream",
     "text": [
      "Training until validation scores don't improve for 400 rounds.                                                         \n",
      "[1000]\ttraining's auc: 0.933048\tvalid_1's auc: 0.893332                                                                \n",
      "[2000]\ttraining's auc: 0.954923\tvalid_1's auc: 0.896008                                                                \n",
      "Early stopping, best iteration is:                                                                                     \n",
      "[1777]\ttraining's auc: 0.950677\tvalid_1's auc: 0.896191\n",
      "corrected params: {'bagging_fraction': 0.3594175305272474, 'bagging_freq': 6, 'boosting_type': 'gbdt', 'feature_fraction': 0.19275706464735565, 'learning_rate': 0.04, 'max_depth': -1, 'metric': 'auc', 'min_data_in_leaf': 83, 'n_jobs': -1, 'num_leaves': 18, 'num_round': 3000, 'objective': 'binary'}\n",
      "  6%|██▉                                             | 9/150 [05:56<1:31:57, 39.13s/it, best loss: 0.04833892848935406]"
     ]
    },
    {
     "name": "stderr",
     "output_type": "stream",
     "text": [
      "C:\\Users\\tslow\\Anaconda3\\lib\\site-packages\\lightgbm\\engine.py:113: UserWarning: Found `num_round` in params. Will use it instead of argument\n",
      "  warnings.warn(\"Found `{}` in params. Will use it instead of argument\".format(alias))\n",
      "\n"
     ]
    },
    {
     "name": "stdout",
     "output_type": "stream",
     "text": [
      "Training until validation scores don't improve for 400 rounds.                                                         \n",
      "[1000]\ttraining's auc: 0.946459\tvalid_1's auc: 0.89343                                                                 \n",
      "Early stopping, best iteration is:                                                                                     \n",
      "[1488]\ttraining's auc: 0.960273\tvalid_1's auc: 0.894429\n",
      "corrected params: {'bagging_fraction': 0.6314450778774083, 'bagging_freq': 9, 'boosting_type': 'gbdt', 'feature_fraction': 0.01766889533472746, 'learning_rate': 0.04, 'max_depth': -1, 'metric': 'auc', 'min_data_in_leaf': 78, 'n_jobs': -1, 'num_leaves': 12, 'num_round': 3000, 'objective': 'binary'}\n",
      "  7%|███▏                                           | 10/150 [06:31<1:28:07, 37.76s/it, best loss: 0.04833892848935406]"
     ]
    },
    {
     "name": "stderr",
     "output_type": "stream",
     "text": [
      "C:\\Users\\tslow\\Anaconda3\\lib\\site-packages\\lightgbm\\engine.py:113: UserWarning: Found `num_round` in params. Will use it instead of argument\n",
      "  warnings.warn(\"Found `{}` in params. Will use it instead of argument\".format(alias))\n",
      "\n"
     ]
    },
    {
     "name": "stdout",
     "output_type": "stream",
     "text": [
      "Training until validation scores don't improve for 400 rounds.                                                         \n",
      "[1000]\ttraining's auc: 0.925938\tvalid_1's auc: 0.893479                                                                \n",
      "[2000]\ttraining's auc: 0.939397\tvalid_1's auc: 0.897117                                                                \n",
      "Early stopping, best iteration is:                                                                                     \n",
      "[2534]\ttraining's auc: 0.945265\tvalid_1's auc: 0.89731\n",
      "corrected params: {'bagging_fraction': 0.6681970411477403, 'bagging_freq': 6, 'boosting_type': 'gbdt', 'feature_fraction': 0.03902222722856128, 'learning_rate': 0.04, 'max_depth': -1, 'metric': 'auc', 'min_data_in_leaf': 77, 'n_jobs': -1, 'num_leaves': 20, 'num_round': 3000, 'objective': 'binary'}\n",
      "  7%|███▍                                           | 11/150 [07:12<1:29:56, 38.83s/it, best loss: 0.04833892848935406]"
     ]
    },
    {
     "name": "stderr",
     "output_type": "stream",
     "text": [
      "C:\\Users\\tslow\\Anaconda3\\lib\\site-packages\\lightgbm\\engine.py:113: UserWarning: Found `num_round` in params. Will use it instead of argument\n",
      "  warnings.warn(\"Found `{}` in params. Will use it instead of argument\".format(alias))\n",
      "\n"
     ]
    },
    {
     "name": "stdout",
     "output_type": "stream",
     "text": [
      "Training until validation scores don't improve for 400 rounds.                                                         \n",
      "[1000]\ttraining's auc: 0.942914\tvalid_1's auc: 0.894595                                                                \n",
      "Early stopping, best iteration is:                                                                                     \n",
      "[1492]\ttraining's auc: 0.95499\tvalid_1's auc: 0.896179\n",
      "corrected params: {'bagging_fraction': 0.8305976176755123, 'bagging_freq': 8, 'boosting_type': 'gbdt', 'feature_fraction': 0.10565909743241676, 'learning_rate': 0.04, 'max_depth': -1, 'metric': 'auc', 'min_data_in_leaf': 85, 'n_jobs': -1, 'num_leaves': 11, 'num_round': 3000, 'objective': 'binary'}\n",
      "  8%|███▊                                           | 12/150 [07:42<1:23:14, 36.19s/it, best loss: 0.04833892848935406]"
     ]
    },
    {
     "name": "stderr",
     "output_type": "stream",
     "text": [
      "C:\\Users\\tslow\\Anaconda3\\lib\\site-packages\\lightgbm\\engine.py:113: UserWarning: Found `num_round` in params. Will use it instead of argument\n",
      "  warnings.warn(\"Found `{}` in params. Will use it instead of argument\".format(alias))\n",
      "\n"
     ]
    },
    {
     "name": "stdout",
     "output_type": "stream",
     "text": [
      "Training until validation scores don't improve for 400 rounds.                                                         \n",
      "[1000]\ttraining's auc: 0.927819\tvalid_1's auc: 0.891799                                                                \n",
      "[2000]\ttraining's auc: 0.947475\tvalid_1's auc: 0.895968                                                                \n",
      "Early stopping, best iteration is:                                                                                     \n",
      "[2568]\ttraining's auc: 0.95641\tvalid_1's auc: 0.896218\n",
      "corrected params: {'bagging_fraction': 0.7813485385313266, 'bagging_freq': 9, 'boosting_type': 'gbdt', 'feature_fraction': 0.10513095058998685, 'learning_rate': 0.04, 'max_depth': -1, 'metric': 'auc', 'min_data_in_leaf': 83, 'n_jobs': -1, 'num_leaves': 20, 'num_round': 3000, 'objective': 'binary'}\n",
      "  9%|████                                           | 13/150 [08:33<1:32:54, 40.69s/it, best loss: 0.04833892848935406]"
     ]
    },
    {
     "name": "stderr",
     "output_type": "stream",
     "text": [
      "C:\\Users\\tslow\\Anaconda3\\lib\\site-packages\\lightgbm\\engine.py:113: UserWarning: Found `num_round` in params. Will use it instead of argument\n",
      "  warnings.warn(\"Found `{}` in params. Will use it instead of argument\".format(alias))\n",
      "\n"
     ]
    },
    {
     "name": "stdout",
     "output_type": "stream",
     "text": [
      "Training until validation scores don't improve for 400 rounds.                                                         \n",
      "[1000]\ttraining's auc: 0.949767\tvalid_1's auc: 0.894119                                                                \n",
      "[2000]\ttraining's auc: 0.974897\tvalid_1's auc: 0.895755                                                                \n",
      "Early stopping, best iteration is:                                                                                     \n",
      "[1768]\ttraining's auc: 0.970247\tvalid_1's auc: 0.895779\n",
      "corrected params: {'bagging_fraction': 0.8192839037671114, 'bagging_freq': 8, 'boosting_type': 'gbdt', 'feature_fraction': 0.16798016377672764, 'learning_rate': 0.04, 'max_depth': -1, 'metric': 'auc', 'min_data_in_leaf': 84, 'n_jobs': -1, 'num_leaves': 19, 'num_round': 3000, 'objective': 'binary'}\n",
      "  9%|████▎                                         | 14/150 [09:14<1:32:22, 40.76s/it, best loss: 0.045952160449913126]"
     ]
    },
    {
     "name": "stderr",
     "output_type": "stream",
     "text": [
      "C:\\Users\\tslow\\Anaconda3\\lib\\site-packages\\lightgbm\\engine.py:113: UserWarning: Found `num_round` in params. Will use it instead of argument\n",
      "  warnings.warn(\"Found `{}` in params. Will use it instead of argument\".format(alias))\n",
      "\n"
     ]
    },
    {
     "name": "stdout",
     "output_type": "stream",
     "text": [
      "Training until validation scores don't improve for 400 rounds.                                                         \n",
      "[1000]\ttraining's auc: 0.950853\tvalid_1's auc: 0.893806                                                                \n",
      "[2000]\ttraining's auc: 0.976059\tvalid_1's auc: 0.895447                                                                \n",
      "Early stopping, best iteration is:                                                                                     \n",
      "[1710]\ttraining's auc: 0.970138\tvalid_1's auc: 0.895551\n",
      "corrected params: {'bagging_fraction': 0.6911076909958247, 'bagging_freq': 7, 'boosting_type': 'gbdt', 'feature_fraction': 0.010839893789610217, 'learning_rate': 0.04, 'max_depth': -1, 'metric': 'auc', 'min_data_in_leaf': 83, 'n_jobs': -1, 'num_leaves': 18, 'num_round': 3000, 'objective': 'binary'}\n",
      " 10%|████▌                                         | 15/150 [10:00<1:35:21, 42.38s/it, best loss: 0.045952160449913126]"
     ]
    },
    {
     "name": "stderr",
     "output_type": "stream",
     "text": [
      "C:\\Users\\tslow\\Anaconda3\\lib\\site-packages\\lightgbm\\engine.py:113: UserWarning: Found `num_round` in params. Will use it instead of argument\n",
      "  warnings.warn(\"Found `{}` in params. Will use it instead of argument\".format(alias))\n",
      "\n"
     ]
    },
    {
     "name": "stdout",
     "output_type": "stream",
     "text": [
      "Training until validation scores don't improve for 400 rounds.                                                         \n",
      "[1000]\ttraining's auc: 0.938863\tvalid_1's auc: 0.889618                                                                \n",
      "[2000]\ttraining's auc: 0.953133\tvalid_1's auc: 0.893604                                                                \n",
      "[3000]\ttraining's auc: 0.963803\tvalid_1's auc: 0.893556                                                                \n",
      "Did not meet early stopping. Best iteration is:                                                                        \n",
      "[3000]\ttraining's auc: 0.963803\tvalid_1's auc: 0.893556\n",
      "corrected params: {'bagging_fraction': 0.3947261641760709, 'bagging_freq': 8, 'boosting_type': 'gbdt', 'feature_fraction': 0.0770040845566414, 'learning_rate': 0.04, 'max_depth': -1, 'metric': 'auc', 'min_data_in_leaf': 84, 'n_jobs': -1, 'num_leaves': 13, 'num_round': 3000, 'objective': 'binary'}\n",
      " 11%|████▉                                         | 16/150 [10:44<1:35:27, 42.75s/it, best loss: 0.045952160449913126]"
     ]
    },
    {
     "name": "stderr",
     "output_type": "stream",
     "text": [
      "C:\\Users\\tslow\\Anaconda3\\lib\\site-packages\\lightgbm\\engine.py:113: UserWarning: Found `num_round` in params. Will use it instead of argument\n",
      "  warnings.warn(\"Found `{}` in params. Will use it instead of argument\".format(alias))\n",
      "\n"
     ]
    },
    {
     "name": "stdout",
     "output_type": "stream",
     "text": [
      "Training until validation scores don't improve for 400 rounds.                                                         \n",
      "[1000]\ttraining's auc: 0.930286\tvalid_1's auc: 0.893672                                                                \n",
      "[2000]\ttraining's auc: 0.950508\tvalid_1's auc: 0.895408                                                                \n",
      "Early stopping, best iteration is:                                                                                     \n",
      "[1665]\ttraining's auc: 0.944459\tvalid_1's auc: 0.895776\n",
      "corrected params: {'bagging_fraction': 0.5455937571381401, 'bagging_freq': 5, 'boosting_type': 'gbdt', 'feature_fraction': 0.1033922543144588, 'learning_rate': 0.04, 'max_depth': -1, 'metric': 'auc', 'min_data_in_leaf': 76, 'n_jobs': -1, 'num_leaves': 18, 'num_round': 3000, 'objective': 'binary'}\n",
      " 11%|█████▏                                        | 17/150 [11:14<1:26:29, 39.02s/it, best loss: 0.045952160449913126]"
     ]
    },
    {
     "name": "stderr",
     "output_type": "stream",
     "text": [
      "C:\\Users\\tslow\\Anaconda3\\lib\\site-packages\\lightgbm\\engine.py:113: UserWarning: Found `num_round` in params. Will use it instead of argument\n",
      "  warnings.warn(\"Found `{}` in params. Will use it instead of argument\".format(alias))\n",
      "\n"
     ]
    },
    {
     "name": "stdout",
     "output_type": "stream",
     "text": [
      "Training until validation scores don't improve for 400 rounds.                                                         \n",
      "[1000]\ttraining's auc: 0.943911\tvalid_1's auc: 0.894322                                                                \n",
      "[2000]\ttraining's auc: 0.968653\tvalid_1's auc: 0.895598                                                                \n",
      "Early stopping, best iteration is:                                                                                     \n",
      "[1847]\ttraining's auc: 0.965616\tvalid_1's auc: 0.896024\n",
      "corrected params: {'bagging_fraction': 0.6607753030833152, 'bagging_freq': 5, 'boosting_type': 'gbdt', 'feature_fraction': 0.018131574033200176, 'learning_rate': 0.04, 'max_depth': -1, 'metric': 'auc', 'min_data_in_leaf': 84, 'n_jobs': -1, 'num_leaves': 16, 'num_round': 3000, 'objective': 'binary'}\n",
      " 12%|█████▌                                        | 18/150 [11:52<1:25:17, 38.77s/it, best loss: 0.045952160449913126]"
     ]
    },
    {
     "name": "stderr",
     "output_type": "stream",
     "text": [
      "C:\\Users\\tslow\\Anaconda3\\lib\\site-packages\\lightgbm\\engine.py:113: UserWarning: Found `num_round` in params. Will use it instead of argument\n",
      "  warnings.warn(\"Found `{}` in params. Will use it instead of argument\".format(alias))\n",
      "\n"
     ]
    },
    {
     "name": "stdout",
     "output_type": "stream",
     "text": [
      "Training until validation scores don't improve for 400 rounds.                                                         \n",
      "[1000]\ttraining's auc: 0.934573\tvalid_1's auc: 0.893513                                                                \n",
      "[2000]\ttraining's auc: 0.950181\tvalid_1's auc: 0.896158                                                                \n",
      "Early stopping, best iteration is:                                                                                     \n",
      "[2410]\ttraining's auc: 0.955349\tvalid_1's auc: 0.89644\n",
      "corrected params: {'bagging_fraction': 0.5818934774571114, 'bagging_freq': 8, 'boosting_type': 'gbdt', 'feature_fraction': 0.06908154905901707, 'learning_rate': 0.04, 'max_depth': -1, 'metric': 'auc', 'min_data_in_leaf': 78, 'n_jobs': -1, 'num_leaves': 11, 'num_round': 3000, 'objective': 'binary'}\n",
      " 13%|█████▊                                        | 19/150 [12:33<1:25:49, 39.31s/it, best loss: 0.045952160449913126]"
     ]
    },
    {
     "name": "stderr",
     "output_type": "stream",
     "text": [
      "C:\\Users\\tslow\\Anaconda3\\lib\\site-packages\\lightgbm\\engine.py:113: UserWarning: Found `num_round` in params. Will use it instead of argument\n",
      "  warnings.warn(\"Found `{}` in params. Will use it instead of argument\".format(alias))\n",
      "\n"
     ]
    },
    {
     "name": "stdout",
     "output_type": "stream",
     "text": [
      "Training until validation scores don't improve for 400 rounds.                                                         \n",
      "[1000]\ttraining's auc: 0.924838\tvalid_1's auc: 0.893292                                                                \n",
      "[2000]\ttraining's auc: 0.943342\tvalid_1's auc: 0.896794                                                                \n",
      "Early stopping, best iteration is:                                                                                     \n",
      "[2230]\ttraining's auc: 0.946852\tvalid_1's auc: 0.897073\n",
      "corrected params: {'bagging_fraction': 0.8927687127023095, 'bagging_freq': 7, 'boosting_type': 'gbdt', 'feature_fraction': 0.19742495849585315, 'learning_rate': 0.04, 'max_depth': -1, 'metric': 'auc', 'min_data_in_leaf': 82, 'n_jobs': -1, 'num_leaves': 20, 'num_round': 3000, 'objective': 'binary'}\n",
      " 13%|██████▏                                       | 20/150 [13:12<1:25:07, 39.29s/it, best loss: 0.045952160449913126]"
     ]
    },
    {
     "name": "stderr",
     "output_type": "stream",
     "text": [
      "C:\\Users\\tslow\\Anaconda3\\lib\\site-packages\\lightgbm\\engine.py:113: UserWarning: Found `num_round` in params. Will use it instead of argument\n",
      "  warnings.warn(\"Found `{}` in params. Will use it instead of argument\".format(alias))\n",
      "\n"
     ]
    },
    {
     "name": "stdout",
     "output_type": "stream",
     "text": [
      "Training until validation scores don't improve for 400 rounds.                                                         \n",
      "[1000]\ttraining's auc: 0.954638\tvalid_1's auc: 0.892761                                                                \n",
      "[2000]\ttraining's auc: 0.980132\tvalid_1's auc: 0.894204                                                                \n",
      "Early stopping, best iteration is:                                                                                     \n",
      "[1657]\ttraining's auc: 0.973165\tvalid_1's auc: 0.894411\n",
      "corrected params: {'bagging_fraction': 0.8948159492471323, 'bagging_freq': 10, 'boosting_type': 'gbdt', 'feature_fraction': 0.1984593849075925, 'learning_rate': 0.04, 'max_depth': -1, 'metric': 'auc', 'min_data_in_leaf': 82, 'n_jobs': -1, 'num_leaves': 20, 'num_round': 3000, 'objective': 'binary'}\n",
      " 14%|██████▌                                        | 21/150 [14:03<1:31:39, 42.63s/it, best loss: 0.04368278102716894]"
     ]
    },
    {
     "name": "stderr",
     "output_type": "stream",
     "text": [
      "C:\\Users\\tslow\\Anaconda3\\lib\\site-packages\\lightgbm\\engine.py:113: UserWarning: Found `num_round` in params. Will use it instead of argument\n",
      "  warnings.warn(\"Found `{}` in params. Will use it instead of argument\".format(alias))\n",
      "\n"
     ]
    },
    {
     "name": "stdout",
     "output_type": "stream",
     "text": [
      "Training until validation scores don't improve for 400 rounds.                                                         \n",
      "[1000]\ttraining's auc: 0.954757\tvalid_1's auc: 0.89263                                                                 \n",
      "Early stopping, best iteration is:                                                                                     \n",
      "[1516]\ttraining's auc: 0.969541\tvalid_1's auc: 0.894337\n",
      "corrected params: {'bagging_fraction': 0.7435807237665124, 'bagging_freq': 10, 'boosting_type': 'gbdt', 'feature_fraction': 0.1319883965391362, 'learning_rate': 0.04, 'max_depth': -1, 'metric': 'auc', 'min_data_in_leaf': 82, 'n_jobs': -1, 'num_leaves': 19, 'num_round': 3000, 'objective': 'binary'}\n",
      " 15%|██████▉                                        | 22/150 [14:49<1:33:15, 43.72s/it, best loss: 0.04368278102716894]"
     ]
    },
    {
     "name": "stderr",
     "output_type": "stream",
     "text": [
      "C:\\Users\\tslow\\Anaconda3\\lib\\site-packages\\lightgbm\\engine.py:113: UserWarning: Found `num_round` in params. Will use it instead of argument\n",
      "  warnings.warn(\"Found `{}` in params. Will use it instead of argument\".format(alias))\n",
      "\n"
     ]
    },
    {
     "name": "stdout",
     "output_type": "stream",
     "text": [
      "Training until validation scores don't improve for 400 rounds.                                                         \n",
      "[1000]\ttraining's auc: 0.948541\tvalid_1's auc: 0.893959                                                                \n",
      "Early stopping, best iteration is:                                                                                     \n",
      "[1559]\ttraining's auc: 0.964499\tvalid_1's auc: 0.895072\n",
      "corrected params: {'bagging_fraction': 0.8930667531643919, 'bagging_freq': 7, 'boosting_type': 'gbdt', 'feature_fraction': 0.1836822641245321, 'learning_rate': 0.04, 'max_depth': -1, 'metric': 'auc', 'min_data_in_leaf': 79, 'n_jobs': -1, 'num_leaves': 15, 'num_round': 3000, 'objective': 'binary'}\n",
      " 15%|███████▏                                       | 23/150 [15:26<1:28:32, 41.83s/it, best loss: 0.04368278102716894]"
     ]
    },
    {
     "name": "stderr",
     "output_type": "stream",
     "text": [
      "C:\\Users\\tslow\\Anaconda3\\lib\\site-packages\\lightgbm\\engine.py:113: UserWarning: Found `num_round` in params. Will use it instead of argument\n",
      "  warnings.warn(\"Found `{}` in params. Will use it instead of argument\".format(alias))\n",
      "\n"
     ]
    },
    {
     "name": "stdout",
     "output_type": "stream",
     "text": [
      "Training until validation scores don't improve for 400 rounds.                                                         \n",
      "[1000]\ttraining's auc: 0.94231\tvalid_1's auc: 0.892309                                                                 \n",
      "[2000]\ttraining's auc: 0.966341\tvalid_1's auc: 0.894587                                                                \n",
      "Early stopping, best iteration is:                                                                                     \n",
      "[1685]\ttraining's auc: 0.959826\tvalid_1's auc: 0.89469\n",
      "corrected params: {'bagging_fraction': 0.7434481830452749, 'bagging_freq': 7, 'boosting_type': 'gbdt', 'feature_fraction': 0.12825277765230508, 'learning_rate': 0.04, 'max_depth': -1, 'metric': 'auc', 'min_data_in_leaf': 81, 'n_jobs': -1, 'num_leaves': 17, 'num_round': 3000, 'objective': 'binary'}\n",
      " 16%|███████▌                                       | 24/150 [16:12<1:30:14, 42.97s/it, best loss: 0.04368278102716894]"
     ]
    },
    {
     "name": "stderr",
     "output_type": "stream",
     "text": [
      "C:\\Users\\tslow\\Anaconda3\\lib\\site-packages\\lightgbm\\engine.py:113: UserWarning: Found `num_round` in params. Will use it instead of argument\n",
      "  warnings.warn(\"Found `{}` in params. Will use it instead of argument\".format(alias))\n",
      "\n"
     ]
    },
    {
     "name": "stdout",
     "output_type": "stream",
     "text": [
      "Training until validation scores don't improve for 400 rounds.                                                         \n",
      "[1000]\ttraining's auc: 0.943924\tvalid_1's auc: 0.893473                                                                \n",
      "Early stopping, best iteration is:                                                                                     \n",
      "[1545]\ttraining's auc: 0.958733\tvalid_1's auc: 0.895711\n",
      "corrected params: {'bagging_fraction': 0.8921141602779546, 'bagging_freq': 10, 'boosting_type': 'gbdt', 'feature_fraction': 0.08370297821853487, 'learning_rate': 0.04, 'max_depth': -1, 'metric': 'auc', 'min_data_in_leaf': 83, 'n_jobs': -1, 'num_leaves': 19, 'num_round': 3000, 'objective': 'binary'}\n",
      " 17%|███████▊                                       | 25/150 [16:49<1:25:40, 41.13s/it, best loss: 0.04368278102716894]"
     ]
    },
    {
     "name": "stderr",
     "output_type": "stream",
     "text": [
      "C:\\Users\\tslow\\Anaconda3\\lib\\site-packages\\lightgbm\\engine.py:113: UserWarning: Found `num_round` in params. Will use it instead of argument\n",
      "  warnings.warn(\"Found `{}` in params. Will use it instead of argument\".format(alias))\n",
      "\n"
     ]
    },
    {
     "name": "stdout",
     "output_type": "stream",
     "text": [
      "Training until validation scores don't improve for 400 rounds.                                                         \n",
      "[1000]\ttraining's auc: 0.946004\tvalid_1's auc: 0.894471                                                                \n",
      "[2000]\ttraining's auc: 0.970506\tvalid_1's auc: 0.896226                                                                \n",
      "Early stopping, best iteration is:                                                                                     \n",
      "[1859]\ttraining's auc: 0.967696\tvalid_1's auc: 0.896375\n",
      "corrected params: {'bagging_fraction': 0.759541538311082, 'bagging_freq': 9, 'boosting_type': 'gbdt', 'feature_fraction': 0.060637806507558095, 'learning_rate': 0.04, 'max_depth': -1, 'metric': 'auc', 'min_data_in_leaf': 82, 'n_jobs': -1, 'num_leaves': 20, 'num_round': 3000, 'objective': 'binary'}\n",
      " 17%|████████▏                                      | 26/150 [17:28<1:23:59, 40.64s/it, best loss: 0.04368278102716894]"
     ]
    },
    {
     "name": "stderr",
     "output_type": "stream",
     "text": [
      "C:\\Users\\tslow\\Anaconda3\\lib\\site-packages\\lightgbm\\engine.py:113: UserWarning: Found `num_round` in params. Will use it instead of argument\n",
      "  warnings.warn(\"Found `{}` in params. Will use it instead of argument\".format(alias))\n",
      "\n"
     ]
    },
    {
     "name": "stdout",
     "output_type": "stream",
     "text": [
      "Training until validation scores don't improve for 400 rounds.                                                         \n",
      "[1000]\ttraining's auc: 0.945275\tvalid_1's auc: 0.894715                                                                \n",
      "[2000]\ttraining's auc: 0.969909\tvalid_1's auc: 0.89633                                                                 \n",
      "Early stopping, best iteration is:                                                                                     \n",
      "[1668]\ttraining's auc: 0.962942\tvalid_1's auc: 0.896466\n",
      "corrected params: {'bagging_fraction': 0.4689010007331747, 'bagging_freq': 7, 'boosting_type': 'gbdt', 'feature_fraction': 0.1826427983807467, 'learning_rate': 0.04, 'max_depth': -1, 'metric': 'auc', 'min_data_in_leaf': 79, 'n_jobs': -1, 'num_leaves': 17, 'num_round': 3000, 'objective': 'binary'}\n",
      " 18%|████████▍                                      | 27/150 [18:03<1:19:22, 38.72s/it, best loss: 0.04368278102716894]"
     ]
    },
    {
     "name": "stderr",
     "output_type": "stream",
     "text": [
      "C:\\Users\\tslow\\Anaconda3\\lib\\site-packages\\lightgbm\\engine.py:113: UserWarning: Found `num_round` in params. Will use it instead of argument\n",
      "  warnings.warn(\"Found `{}` in params. Will use it instead of argument\".format(alias))\n",
      "\n"
     ]
    },
    {
     "name": "stdout",
     "output_type": "stream",
     "text": [
      "Training until validation scores don't improve for 400 rounds.                                                         \n",
      "[1000]\ttraining's auc: 0.944699\tvalid_1's auc: 0.893737                                                                \n",
      "Early stopping, best iteration is:                                                                                     \n",
      "[1575]\ttraining's auc: 0.960663\tvalid_1's auc: 0.895163\n",
      "corrected params: {'bagging_fraction': 0.7135727527699607, 'bagging_freq': 5, 'boosting_type': 'gbdt', 'feature_fraction': 0.15495636205759689, 'learning_rate': 0.04, 'max_depth': -1, 'metric': 'auc', 'min_data_in_leaf': 85, 'n_jobs': -1, 'num_leaves': 19, 'num_round': 3000, 'objective': 'binary'}\n",
      " 19%|████████▊                                      | 28/150 [18:39<1:17:06, 37.92s/it, best loss: 0.04368278102716894]"
     ]
    },
    {
     "name": "stderr",
     "output_type": "stream",
     "text": [
      "C:\\Users\\tslow\\Anaconda3\\lib\\site-packages\\lightgbm\\engine.py:113: UserWarning: Found `num_round` in params. Will use it instead of argument\n",
      "  warnings.warn(\"Found `{}` in params. Will use it instead of argument\".format(alias))\n",
      "\n"
     ]
    },
    {
     "name": "stdout",
     "output_type": "stream",
     "text": [
      "Training until validation scores don't improve for 400 rounds.                                                         \n",
      "[1000]\ttraining's auc: 0.949539\tvalid_1's auc: 0.893953                                                                \n",
      "Early stopping, best iteration is:                                                                                     \n",
      "[1439]\ttraining's auc: 0.96253\tvalid_1's auc: 0.895289\n",
      "corrected params: {'bagging_fraction': 0.7969065661334865, 'bagging_freq': 9, 'boosting_type': 'gbdt', 'feature_fraction': 0.1372733085893121, 'learning_rate': 0.04, 'max_depth': -1, 'metric': 'auc', 'min_data_in_leaf': 83, 'n_jobs': -1, 'num_leaves': 15, 'num_round': 3000, 'objective': 'binary'}\n",
      " 19%|█████████                                      | 29/150 [19:16<1:16:18, 37.84s/it, best loss: 0.04368278102716894]"
     ]
    },
    {
     "name": "stderr",
     "output_type": "stream",
     "text": [
      "C:\\Users\\tslow\\Anaconda3\\lib\\site-packages\\lightgbm\\engine.py:113: UserWarning: Found `num_round` in params. Will use it instead of argument\n",
      "  warnings.warn(\"Found `{}` in params. Will use it instead of argument\".format(alias))\n",
      "\n"
     ]
    },
    {
     "name": "stdout",
     "output_type": "stream",
     "text": [
      "Training until validation scores don't improve for 400 rounds.                                                         \n",
      "[1000]\ttraining's auc: 0.939737\tvalid_1's auc: 0.892881                                                                \n",
      "[2000]\ttraining's auc: 0.963337\tvalid_1's auc: 0.895357                                                                \n",
      "Early stopping, best iteration is:                                                                                     \n",
      "[1973]\ttraining's auc: 0.962796\tvalid_1's auc: 0.895427\n",
      "corrected params: {'bagging_fraction': 0.20711362041123105, 'bagging_freq': 3, 'boosting_type': 'gbdt', 'feature_fraction': 0.03684961420242419, 'learning_rate': 0.04, 'max_depth': -1, 'metric': 'auc', 'min_data_in_leaf': 81, 'n_jobs': -1, 'num_leaves': 19, 'num_round': 3000, 'objective': 'binary'}\n",
      " 20%|█████████▍                                     | 30/150 [20:00<1:19:20, 39.67s/it, best loss: 0.04368278102716894]"
     ]
    },
    {
     "name": "stderr",
     "output_type": "stream",
     "text": [
      "C:\\Users\\tslow\\Anaconda3\\lib\\site-packages\\lightgbm\\engine.py:113: UserWarning: Found `num_round` in params. Will use it instead of argument\n",
      "  warnings.warn(\"Found `{}` in params. Will use it instead of argument\".format(alias))\n",
      "\n"
     ]
    },
    {
     "name": "stdout",
     "output_type": "stream",
     "text": [
      "Training until validation scores don't improve for 400 rounds.                                                         \n",
      "[1000]\ttraining's auc: 0.936483\tvalid_1's auc: 0.89204                                                                 \n",
      "Early stopping, best iteration is:                                                                                     \n",
      "[1514]\ttraining's auc: 0.948258\tvalid_1's auc: 0.893052\n",
      "corrected params: {'bagging_fraction': 0.6250187197566539, 'bagging_freq': 10, 'boosting_type': 'gbdt', 'feature_fraction': 0.12007512101104545, 'learning_rate': 0.04, 'max_depth': -1, 'metric': 'auc', 'min_data_in_leaf': 85, 'n_jobs': -1, 'num_leaves': 16, 'num_round': 3000, 'objective': 'binary'}\n",
      " 21%|█████████▋                                     | 31/150 [20:27<1:11:15, 35.93s/it, best loss: 0.04368278102716894]"
     ]
    },
    {
     "name": "stderr",
     "output_type": "stream",
     "text": [
      "C:\\Users\\tslow\\Anaconda3\\lib\\site-packages\\lightgbm\\engine.py:113: UserWarning: Found `num_round` in params. Will use it instead of argument\n",
      "  warnings.warn(\"Found `{}` in params. Will use it instead of argument\".format(alias))\n",
      "\n"
     ]
    },
    {
     "name": "stdout",
     "output_type": "stream",
     "text": [
      "Training until validation scores don't improve for 400 rounds.                                                         \n",
      "[1000]\ttraining's auc: 0.940881\tvalid_1's auc: 0.89327                                                                 \n",
      "[2000]\ttraining's auc: 0.964772\tvalid_1's auc: 0.894989                                                                \n",
      "Early stopping, best iteration is:                                                                                     \n",
      "[2173]\ttraining's auc: 0.96803\tvalid_1's auc: 0.895061\n",
      "corrected params: {'bagging_fraction': 0.8616799052176513, 'bagging_freq': 9, 'boosting_type': 'gbdt', 'feature_fraction': 0.15883416889464802, 'learning_rate': 0.04, 'max_depth': -1, 'metric': 'auc', 'min_data_in_leaf': 79, 'n_jobs': -1, 'num_leaves': 18, 'num_round': 3000, 'objective': 'binary'}\n",
      " 21%|██████████                                     | 32/150 [21:11<1:15:01, 38.15s/it, best loss: 0.04368278102716894]"
     ]
    },
    {
     "name": "stderr",
     "output_type": "stream",
     "text": [
      "C:\\Users\\tslow\\Anaconda3\\lib\\site-packages\\lightgbm\\engine.py:113: UserWarning: Found `num_round` in params. Will use it instead of argument\n",
      "  warnings.warn(\"Found `{}` in params. Will use it instead of argument\".format(alias))\n",
      "\n"
     ]
    },
    {
     "name": "stdout",
     "output_type": "stream",
     "text": [
      "Training until validation scores don't improve for 400 rounds.                                                         \n",
      "[1000]\ttraining's auc: 0.948411\tvalid_1's auc: 0.893731                                                                \n",
      "[2000]\ttraining's auc: 0.973647\tvalid_1's auc: 0.895121                                                                \n",
      "Early stopping, best iteration is:                                                                                     \n",
      "[1649]\ttraining's auc: 0.966227\tvalid_1's auc: 0.89522\n",
      "corrected params: {'bagging_fraction': 0.7816361577227959, 'bagging_freq': 7, 'boosting_type': 'gbdt', 'feature_fraction': 0.17632203617844083, 'learning_rate': 0.04, 'max_depth': -1, 'metric': 'auc', 'min_data_in_leaf': 82, 'n_jobs': -1, 'num_leaves': 14, 'num_round': 3000, 'objective': 'binary'}\n",
      " 22%|██████████▎                                    | 33/150 [21:54<1:17:15, 39.62s/it, best loss: 0.04368278102716894]"
     ]
    },
    {
     "name": "stderr",
     "output_type": "stream",
     "text": [
      "C:\\Users\\tslow\\Anaconda3\\lib\\site-packages\\lightgbm\\engine.py:113: UserWarning: Found `num_round` in params. Will use it instead of argument\n",
      "  warnings.warn(\"Found `{}` in params. Will use it instead of argument\".format(alias))\n",
      "\n"
     ]
    },
    {
     "name": "stdout",
     "output_type": "stream",
     "text": [
      "Training until validation scores don't improve for 400 rounds.                                                         \n",
      "[1000]\ttraining's auc: 0.939226\tvalid_1's auc: 0.892512                                                                \n",
      "[2000]\ttraining's auc: 0.962396\tvalid_1's auc: 0.894589                                                                \n",
      "Early stopping, best iteration is:                                                                                     \n",
      "[1866]\ttraining's auc: 0.959732\tvalid_1's auc: 0.894649\n",
      "corrected params: {'bagging_fraction': 0.4867715882251125, 'bagging_freq': 4, 'boosting_type': 'gbdt', 'feature_fraction': 0.102286669094523, 'learning_rate': 0.04, 'max_depth': -1, 'metric': 'auc', 'min_data_in_leaf': 80, 'n_jobs': -1, 'num_leaves': 20, 'num_round': 3000, 'objective': 'binary'}\n",
      " 23%|██████████▋                                    | 34/150 [22:39<1:19:52, 41.31s/it, best loss: 0.04368278102716894]"
     ]
    },
    {
     "name": "stderr",
     "output_type": "stream",
     "text": [
      "C:\\Users\\tslow\\Anaconda3\\lib\\site-packages\\lightgbm\\engine.py:113: UserWarning: Found `num_round` in params. Will use it instead of argument\n",
      "  warnings.warn(\"Found `{}` in params. Will use it instead of argument\".format(alias))\n",
      "\n"
     ]
    },
    {
     "name": "stdout",
     "output_type": "stream",
     "text": [
      "Training until validation scores don't improve for 400 rounds.                                                         \n",
      "[1000]\ttraining's auc: 0.947992\tvalid_1's auc: 0.895018                                                                \n",
      "Early stopping, best iteration is:                                                                                     \n",
      "[1493]\ttraining's auc: 0.961876\tvalid_1's auc: 0.896231\n",
      "corrected params: {'bagging_fraction': 0.8608170348319997, 'bagging_freq': 6, 'boosting_type': 'gbdt', 'feature_fraction': 0.06022219824816194, 'learning_rate': 0.04, 'max_depth': -1, 'metric': 'auc', 'min_data_in_leaf': 81, 'n_jobs': -1, 'num_leaves': 17, 'num_round': 3000, 'objective': 'binary'}\n",
      " 23%|██████████▉                                    | 35/150 [23:12<1:14:09, 38.69s/it, best loss: 0.04368278102716894]"
     ]
    },
    {
     "name": "stderr",
     "output_type": "stream",
     "text": [
      "C:\\Users\\tslow\\Anaconda3\\lib\\site-packages\\lightgbm\\engine.py:113: UserWarning: Found `num_round` in params. Will use it instead of argument\n",
      "  warnings.warn(\"Found `{}` in params. Will use it instead of argument\".format(alias))\n",
      "\n"
     ]
    },
    {
     "name": "stdout",
     "output_type": "stream",
     "text": [
      "Training until validation scores don't improve for 400 rounds.                                                         \n",
      "[1000]\ttraining's auc: 0.939532\tvalid_1's auc: 0.894432                                                                \n",
      "[2000]\ttraining's auc: 0.962955\tvalid_1's auc: 0.896497                                                                \n",
      "Early stopping, best iteration is:                                                                                     \n",
      "[1676]\ttraining's auc: 0.956436\tvalid_1's auc: 0.896554\n",
      "corrected params: {'bagging_fraction': 0.7222229222871914, 'bagging_freq': 9, 'boosting_type': 'gbdt', 'feature_fraction': 0.03052378491797697, 'learning_rate': 0.04, 'max_depth': -1, 'metric': 'auc', 'min_data_in_leaf': 75, 'n_jobs': -1, 'num_leaves': 20, 'num_round': 3000, 'objective': 'binary'}\n",
      " 24%|███████████▎                                   | 36/150 [23:47<1:11:28, 37.62s/it, best loss: 0.04368278102716894]"
     ]
    },
    {
     "name": "stderr",
     "output_type": "stream",
     "text": [
      "C:\\Users\\tslow\\Anaconda3\\lib\\site-packages\\lightgbm\\engine.py:113: UserWarning: Found `num_round` in params. Will use it instead of argument\n",
      "  warnings.warn(\"Found `{}` in params. Will use it instead of argument\".format(alias))\n",
      "\n"
     ]
    },
    {
     "name": "stdout",
     "output_type": "stream",
     "text": [
      "Training until validation scores don't improve for 400 rounds.                                                         \n",
      "[1000]\ttraining's auc: 0.942741\tvalid_1's auc: 0.89524                                                                 \n",
      "[2000]\ttraining's auc: 0.964018\tvalid_1's auc: 0.896497                                                                \n",
      "Early stopping, best iteration is:                                                                                     \n",
      "[1625]\ttraining's auc: 0.956989\tvalid_1's auc: 0.896764\n",
      "corrected params: {'bagging_fraction': 0.7958245534174043, 'bagging_freq': 8, 'boosting_type': 'gbdt', 'feature_fraction': 0.05003827847743484, 'learning_rate': 0.04, 'max_depth': -1, 'metric': 'auc', 'min_data_in_leaf': 83, 'n_jobs': -1, 'num_leaves': 10, 'num_round': 3000, 'objective': 'binary'}\n",
      " 25%|███████████▌                                   | 37/150 [24:18<1:07:03, 35.61s/it, best loss: 0.04368278102716894]"
     ]
    },
    {
     "name": "stderr",
     "output_type": "stream",
     "text": [
      "C:\\Users\\tslow\\Anaconda3\\lib\\site-packages\\lightgbm\\engine.py:113: UserWarning: Found `num_round` in params. Will use it instead of argument\n",
      "  warnings.warn(\"Found `{}` in params. Will use it instead of argument\".format(alias))\n",
      "\n"
     ]
    },
    {
     "name": "stdout",
     "output_type": "stream",
     "text": [
      "Training until validation scores don't improve for 400 rounds.                                                         \n",
      "[1000]\ttraining's auc: 0.921302\tvalid_1's auc: 0.892202                                                                \n",
      "[2000]\ttraining's auc: 0.938544\tvalid_1's auc: 0.896614                                                                \n",
      "[3000]\ttraining's auc: 0.951607\tvalid_1's auc: 0.89712                                                                 \n",
      "Did not meet early stopping. Best iteration is:                                                                        \n",
      "[3000]\ttraining's auc: 0.951607\tvalid_1's auc: 0.89712\n",
      "corrected params: {'bagging_fraction': 0.5219981759986895, 'bagging_freq': 3, 'boosting_type': 'gbdt', 'feature_fraction': 0.14597045737767766, 'learning_rate': 0.04, 'max_depth': -1, 'metric': 'auc', 'min_data_in_leaf': 84, 'n_jobs': -1, 'num_leaves': 14, 'num_round': 3000, 'objective': 'binary'}\n",
      " 25%|███████████▉                                   | 38/150 [25:03<1:11:52, 38.50s/it, best loss: 0.04368278102716894]"
     ]
    },
    {
     "name": "stderr",
     "output_type": "stream",
     "text": [
      "C:\\Users\\tslow\\Anaconda3\\lib\\site-packages\\lightgbm\\engine.py:113: UserWarning: Found `num_round` in params. Will use it instead of argument\n",
      "  warnings.warn(\"Found `{}` in params. Will use it instead of argument\".format(alias))\n",
      "\n"
     ]
    },
    {
     "name": "stdout",
     "output_type": "stream",
     "text": [
      "Training until validation scores don't improve for 400 rounds.                                                         \n",
      "[1000]\ttraining's auc: 0.936576\tvalid_1's auc: 0.893858                                                                \n",
      "[2000]\ttraining's auc: 0.959341\tvalid_1's auc: 0.895348                                                                \n",
      "Early stopping, best iteration is:                                                                                     \n",
      "[1842]\ttraining's auc: 0.956164\tvalid_1's auc: 0.895656\n",
      "corrected params: {'bagging_fraction': 0.3987182691884782, 'bagging_freq': 5, 'boosting_type': 'gbdt', 'feature_fraction': 0.1993267932697396, 'learning_rate': 0.04, 'max_depth': -1, 'metric': 'auc', 'min_data_in_leaf': 81, 'n_jobs': -1, 'num_leaves': 18, 'num_round': 3000, 'objective': 'binary'}\n",
      " 26%|████████████▏                                  | 39/150 [25:43<1:12:01, 38.93s/it, best loss: 0.04368278102716894]"
     ]
    },
    {
     "name": "stderr",
     "output_type": "stream",
     "text": [
      "C:\\Users\\tslow\\Anaconda3\\lib\\site-packages\\lightgbm\\engine.py:113: UserWarning: Found `num_round` in params. Will use it instead of argument\n",
      "  warnings.warn(\"Found `{}` in params. Will use it instead of argument\".format(alias))\n",
      "\n"
     ]
    },
    {
     "name": "stdout",
     "output_type": "stream",
     "text": [
      "Training until validation scores don't improve for 400 rounds.                                                         \n",
      "[1000]\ttraining's auc: 0.946489\tvalid_1's auc: 0.892699                                                                \n",
      "Early stopping, best iteration is:                                                                                     \n",
      "[1455]\ttraining's auc: 0.959704\tvalid_1's auc: 0.893484\n",
      "corrected params: {'bagging_fraction': 0.3152971286688187, 'bagging_freq': 6, 'boosting_type': 'gbdt', 'feature_fraction': 0.08551620741526572, 'learning_rate': 0.04, 'max_depth': -1, 'metric': 'auc', 'min_data_in_leaf': 82, 'n_jobs': -1, 'num_leaves': 16, 'num_round': 3000, 'objective': 'binary'}\n",
      " 27%|████████████▌                                  | 40/150 [26:17<1:08:42, 37.48s/it, best loss: 0.04368278102716894]"
     ]
    },
    {
     "name": "stderr",
     "output_type": "stream",
     "text": [
      "C:\\Users\\tslow\\Anaconda3\\lib\\site-packages\\lightgbm\\engine.py:113: UserWarning: Found `num_round` in params. Will use it instead of argument\n",
      "  warnings.warn(\"Found `{}` in params. Will use it instead of argument\".format(alias))\n",
      "\n"
     ]
    },
    {
     "name": "stdout",
     "output_type": "stream",
     "text": [
      "Training until validation scores don't improve for 400 rounds.                                                         \n",
      "[1000]\ttraining's auc: 0.936471\tvalid_1's auc: 0.894474                                                                \n",
      "Early stopping, best iteration is:                                                                                     \n",
      "[1399]\ttraining's auc: 0.946797\tvalid_1's auc: 0.895389\n",
      "corrected params: {'bagging_fraction': 0.6182569649737214, 'bagging_freq': 9, 'boosting_type': 'gbdt', 'feature_fraction': 0.16733849668871695, 'learning_rate': 0.04, 'max_depth': -1, 'metric': 'auc', 'min_data_in_leaf': 80, 'n_jobs': -1, 'num_leaves': 19, 'num_round': 3000, 'objective': 'binary'}\n",
      " 27%|████████████▊                                  | 41/150 [26:44<1:02:24, 34.36s/it, best loss: 0.04368278102716894]"
     ]
    },
    {
     "name": "stderr",
     "output_type": "stream",
     "text": [
      "C:\\Users\\tslow\\Anaconda3\\lib\\site-packages\\lightgbm\\engine.py:113: UserWarning: Found `num_round` in params. Will use it instead of argument\n",
      "  warnings.warn(\"Found `{}` in params. Will use it instead of argument\".format(alias))\n",
      "\n"
     ]
    },
    {
     "name": "stdout",
     "output_type": "stream",
     "text": [
      "Training until validation scores don't improve for 400 rounds.                                                         \n",
      "[1000]\ttraining's auc: 0.949354\tvalid_1's auc: 0.892962                                                                \n",
      "[2000]\ttraining's auc: 0.975291\tvalid_1's auc: 0.894172                                                                \n",
      "Early stopping, best iteration is:                                                                                     \n",
      "[1782]\ttraining's auc: 0.970713\tvalid_1's auc: 0.894332\n",
      "corrected params: {'bagging_fraction': 0.8698154598582446, 'bagging_freq': 10, 'boosting_type': 'gbdt', 'feature_fraction': 0.11787349810338368, 'learning_rate': 0.04, 'max_depth': -1, 'metric': 'auc', 'min_data_in_leaf': 85, 'n_jobs': -1, 'num_leaves': 17, 'num_round': 3000, 'objective': 'binary'}\n",
      " 28%|█████████████▏                                 | 42/150 [27:26<1:05:57, 36.64s/it, best loss: 0.04368278102716894]"
     ]
    },
    {
     "name": "stderr",
     "output_type": "stream",
     "text": [
      "C:\\Users\\tslow\\Anaconda3\\lib\\site-packages\\lightgbm\\engine.py:113: UserWarning: Found `num_round` in params. Will use it instead of argument\n",
      "  warnings.warn(\"Found `{}` in params. Will use it instead of argument\".format(alias))\n",
      "\n"
     ]
    },
    {
     "name": "stdout",
     "output_type": "stream",
     "text": [
      "Training until validation scores don't improve for 400 rounds.                                                         \n",
      "[1000]\ttraining's auc: 0.944197\tvalid_1's auc: 0.892806                                                                \n",
      "[2000]\ttraining's auc: 0.968315\tvalid_1's auc: 0.895207                                                                \n",
      "Early stopping, best iteration is:                                                                                     \n",
      "[2183]\ttraining's auc: 0.971728\tvalid_1's auc: 0.895344\n",
      "corrected params: {'bagging_fraction': 0.8736300253422871, 'bagging_freq': 4, 'boosting_type': 'gbdt', 'feature_fraction': 0.11512857225049708, 'learning_rate': 0.04, 'max_depth': -1, 'metric': 'auc', 'min_data_in_leaf': 84, 'n_jobs': -1, 'num_leaves': 14, 'num_round': 3000, 'objective': 'binary'}\n",
      " 29%|█████████████▍                                 | 43/150 [28:13<1:10:57, 39.79s/it, best loss: 0.04368278102716894]"
     ]
    },
    {
     "name": "stderr",
     "output_type": "stream",
     "text": [
      "C:\\Users\\tslow\\Anaconda3\\lib\\site-packages\\lightgbm\\engine.py:113: UserWarning: Found `num_round` in params. Will use it instead of argument\n",
      "  warnings.warn(\"Found `{}` in params. Will use it instead of argument\".format(alias))\n",
      "\n"
     ]
    },
    {
     "name": "stdout",
     "output_type": "stream",
     "text": [
      "Training until validation scores don't improve for 400 rounds.                                                         \n",
      "[1000]\ttraining's auc: 0.936875\tvalid_1's auc: 0.892559                                                                \n",
      "[2000]\ttraining's auc: 0.959543\tvalid_1's auc: 0.895427                                                                \n",
      "Early stopping, best iteration is:                                                                                     \n",
      "[2383]\ttraining's auc: 0.966148\tvalid_1's auc: 0.895771\n",
      "corrected params: {'bagging_fraction': 0.831651848342463, 'bagging_freq': 10, 'boosting_type': 'gbdt', 'feature_fraction': 0.19039287775047514, 'learning_rate': 0.04, 'max_depth': -1, 'metric': 'auc', 'min_data_in_leaf': 85, 'n_jobs': -1, 'num_leaves': 13, 'num_round': 3000, 'objective': 'binary'}\n",
      " 29%|█████████████▊                                 | 44/150 [29:06<1:17:11, 43.70s/it, best loss: 0.04368278102716894]"
     ]
    },
    {
     "name": "stderr",
     "output_type": "stream",
     "text": [
      "C:\\Users\\tslow\\Anaconda3\\lib\\site-packages\\lightgbm\\engine.py:113: UserWarning: Found `num_round` in params. Will use it instead of argument\n",
      "  warnings.warn(\"Found `{}` in params. Will use it instead of argument\".format(alias))\n",
      "\n"
     ]
    },
    {
     "name": "stdout",
     "output_type": "stream",
     "text": [
      "Training until validation scores don't improve for 400 rounds.                                                         \n",
      "[1000]\ttraining's auc: 0.936764\tvalid_1's auc: 0.891608                                                                \n",
      "[2000]\ttraining's auc: 0.959188\tvalid_1's auc: 0.895006                                                                \n",
      "Early stopping, best iteration is:                                                                                     \n",
      "[2257]\ttraining's auc: 0.963875\tvalid_1's auc: 0.895324\n",
      "corrected params: {'bagging_fraction': 0.6801055571645739, 'bagging_freq': 4, 'boosting_type': 'gbdt', 'feature_fraction': 0.09390648877915987, 'learning_rate': 0.04, 'max_depth': -1, 'metric': 'auc', 'min_data_in_leaf': 84, 'n_jobs': -1, 'num_leaves': 15, 'num_round': 3000, 'objective': 'binary'}\n",
      " 30%|██████████████                                 | 45/150 [30:00<1:22:04, 46.90s/it, best loss: 0.04368278102716894]"
     ]
    },
    {
     "name": "stderr",
     "output_type": "stream",
     "text": [
      "C:\\Users\\tslow\\Anaconda3\\lib\\site-packages\\lightgbm\\engine.py:113: UserWarning: Found `num_round` in params. Will use it instead of argument\n",
      "  warnings.warn(\"Found `{}` in params. Will use it instead of argument\".format(alias))\n",
      "\n"
     ]
    },
    {
     "name": "stdout",
     "output_type": "stream",
     "text": [
      "Training until validation scores don't improve for 400 rounds.                                                         \n",
      "[1000]\ttraining's auc: 0.937077\tvalid_1's auc: 0.89317                                                                 \n",
      "Early stopping, best iteration is:                                                                                     \n",
      "[1427]\ttraining's auc: 0.947931\tvalid_1's auc: 0.895386\n",
      "corrected params: {'bagging_fraction': 0.23793430213128652, 'bagging_freq': 3, 'boosting_type': 'gbdt', 'feature_fraction': 0.15089909529960777, 'learning_rate': 0.04, 'max_depth': -1, 'metric': 'auc', 'min_data_in_leaf': 78, 'n_jobs': -1, 'num_leaves': 17, 'num_round': 3000, 'objective': 'binary'}\n",
      " 31%|██████████████▍                                | 46/150 [30:33<1:13:46, 42.56s/it, best loss: 0.04368278102716894]"
     ]
    },
    {
     "name": "stderr",
     "output_type": "stream",
     "text": [
      "C:\\Users\\tslow\\Anaconda3\\lib\\site-packages\\lightgbm\\engine.py:113: UserWarning: Found `num_round` in params. Will use it instead of argument\n",
      "  warnings.warn(\"Found `{}` in params. Will use it instead of argument\".format(alias))\n",
      "\n"
     ]
    },
    {
     "name": "stdout",
     "output_type": "stream",
     "text": [
      "Training until validation scores don't improve for 400 rounds.                                                         \n",
      "[1000]\ttraining's auc: 0.941085\tvalid_1's auc: 0.89389                                                                 \n",
      "Early stopping, best iteration is:                                                                                     \n",
      "[1062]\ttraining's auc: 0.942768\tvalid_1's auc: 0.894019\n",
      "corrected params: {'bagging_fraction': 0.4485724047116295, 'bagging_freq': 6, 'boosting_type': 'gbdt', 'feature_fraction': 0.12055179430331772, 'learning_rate': 0.04, 'max_depth': -1, 'metric': 'auc', 'min_data_in_leaf': 85, 'n_jobs': -1, 'num_leaves': 12, 'num_round': 3000, 'objective': 'binary'}\n",
      " 31%|██████████████▋                                | 47/150 [30:57<1:03:33, 37.02s/it, best loss: 0.04368278102716894]"
     ]
    },
    {
     "name": "stderr",
     "output_type": "stream",
     "text": [
      "C:\\Users\\tslow\\Anaconda3\\lib\\site-packages\\lightgbm\\engine.py:113: UserWarning: Found `num_round` in params. Will use it instead of argument\n",
      "  warnings.warn(\"Found `{}` in params. Will use it instead of argument\".format(alias))\n",
      "\n"
     ]
    },
    {
     "name": "stdout",
     "output_type": "stream",
     "text": [
      "Training until validation scores don't improve for 400 rounds.                                                         \n",
      "[1000]\ttraining's auc: 0.929822\tvalid_1's auc: 0.89319                                                                 \n",
      "[2000]\ttraining's auc: 0.95056\tvalid_1's auc: 0.895019                                                                 \n",
      "Early stopping, best iteration is:                                                                                     \n",
      "[1668]\ttraining's auc: 0.944494\tvalid_1's auc: 0.895246\n",
      "corrected params: {'bagging_fraction': 0.32118588164866035, 'bagging_freq': 7, 'boosting_type': 'gbdt', 'feature_fraction': 0.13836541730127494, 'learning_rate': 0.04, 'max_depth': -1, 'metric': 'auc', 'min_data_in_leaf': 83, 'n_jobs': -1, 'num_leaves': 16, 'num_round': 3000, 'objective': 'binary'}\n",
      " 32%|███████████████                                | 48/150 [31:29<1:00:37, 35.66s/it, best loss: 0.04368278102716894]"
     ]
    },
    {
     "name": "stderr",
     "output_type": "stream",
     "text": [
      "C:\\Users\\tslow\\Anaconda3\\lib\\site-packages\\lightgbm\\engine.py:113: UserWarning: Found `num_round` in params. Will use it instead of argument\n",
      "  warnings.warn(\"Found `{}` in params. Will use it instead of argument\".format(alias))\n",
      "\n"
     ]
    },
    {
     "name": "stdout",
     "output_type": "stream",
     "text": [
      "Training until validation scores don't improve for 400 rounds.                                                         \n",
      "[1000]\ttraining's auc: 0.939238\tvalid_1's auc: 0.894332                                                                \n",
      "Early stopping, best iteration is:                                                                                     \n",
      "[1533]\ttraining's auc: 0.952962\tvalid_1's auc: 0.895095\n",
      "corrected params: {'bagging_fraction': 0.82396021897999, 'bagging_freq': 8, 'boosting_type': 'gbdt', 'feature_fraction': 0.16722582013013726, 'learning_rate': 0.04, 'max_depth': -1, 'metric': 'auc', 'min_data_in_leaf': 77, 'n_jobs': -1, 'num_leaves': 18, 'num_round': 3000, 'objective': 'binary'}\n",
      " 33%|████████████████                                 | 49/150 [32:00<57:30, 34.17s/it, best loss: 0.04368278102716894]"
     ]
    },
    {
     "name": "stderr",
     "output_type": "stream",
     "text": [
      "C:\\Users\\tslow\\Anaconda3\\lib\\site-packages\\lightgbm\\engine.py:113: UserWarning: Found `num_round` in params. Will use it instead of argument\n",
      "  warnings.warn(\"Found `{}` in params. Will use it instead of argument\".format(alias))\n",
      "\n"
     ]
    },
    {
     "name": "stdout",
     "output_type": "stream",
     "text": [
      "Training until validation scores don't improve for 400 rounds.                                                         \n",
      "[1000]\ttraining's auc: 0.948576\tvalid_1's auc: 0.893226                                                                \n",
      "[2000]\ttraining's auc: 0.973979\tvalid_1's auc: 0.894565                                                                \n",
      "Early stopping, best iteration is:                                                                                     \n",
      "[1796]\ttraining's auc: 0.969793\tvalid_1's auc: 0.894743\n",
      "corrected params: {'bagging_fraction': 0.6111923877632165, 'bagging_freq': 5, 'boosting_type': 'gbdt', 'feature_fraction': 0.025904494978229345, 'learning_rate': 0.04, 'max_depth': -1, 'metric': 'auc', 'min_data_in_leaf': 75, 'n_jobs': -1, 'num_leaves': 17, 'num_round': 3000, 'objective': 'binary'}\n",
      " 33%|███████████████▋                               | 50/150 [32:47<1:03:08, 37.88s/it, best loss: 0.04368278102716894]"
     ]
    },
    {
     "name": "stderr",
     "output_type": "stream",
     "text": [
      "C:\\Users\\tslow\\Anaconda3\\lib\\site-packages\\lightgbm\\engine.py:113: UserWarning: Found `num_round` in params. Will use it instead of argument\n",
      "  warnings.warn(\"Found `{}` in params. Will use it instead of argument\".format(alias))\n",
      "\n"
     ]
    },
    {
     "name": "stdout",
     "output_type": "stream",
     "text": [
      "Training until validation scores don't improve for 400 rounds.                                                         \n",
      "[1000]\ttraining's auc: 0.936745\tvalid_1's auc: 0.895246                                                                \n",
      "[2000]\ttraining's auc: 0.95535\tvalid_1's auc: 0.896777                                                                 \n",
      "Early stopping, best iteration is:                                                                                     \n",
      "[1793]\ttraining's auc: 0.951849\tvalid_1's auc: 0.896885\n",
      "corrected params: {'bagging_fraction': 0.6495077658954447, 'bagging_freq': 10, 'boosting_type': 'gbdt', 'feature_fraction': 0.11167071192367625, 'learning_rate': 0.04, 'max_depth': -1, 'metric': 'auc', 'min_data_in_leaf': 80, 'n_jobs': -1, 'num_leaves': 18, 'num_round': 3000, 'objective': 'binary'}\n",
      " 34%|████████████████▋                                | 51/150 [33:19<59:52, 36.29s/it, best loss: 0.04368278102716894]"
     ]
    },
    {
     "name": "stderr",
     "output_type": "stream",
     "text": [
      "C:\\Users\\tslow\\Anaconda3\\lib\\site-packages\\lightgbm\\engine.py:113: UserWarning: Found `num_round` in params. Will use it instead of argument\n",
      "  warnings.warn(\"Found `{}` in params. Will use it instead of argument\".format(alias))\n",
      "\n"
     ]
    },
    {
     "name": "stdout",
     "output_type": "stream",
     "text": [
      "Training until validation scores don't improve for 400 rounds.                                                         \n",
      "[1000]\ttraining's auc: 0.945471\tvalid_1's auc: 0.893729                                                                \n",
      "Early stopping, best iteration is:                                                                                     \n",
      "[1494]\ttraining's auc: 0.958914\tvalid_1's auc: 0.895172\n",
      "corrected params: {'bagging_fraction': 0.723736794623907, 'bagging_freq': 8, 'boosting_type': 'gbdt', 'feature_fraction': 0.12719731615302346, 'learning_rate': 0.04, 'max_depth': -1, 'metric': 'auc', 'min_data_in_leaf': 81, 'n_jobs': -1, 'num_leaves': 15, 'num_round': 3000, 'objective': 'binary'}\n",
      " 35%|████████████████▉                                | 52/150 [33:52<57:47, 35.39s/it, best loss: 0.04368278102716894]"
     ]
    },
    {
     "name": "stderr",
     "output_type": "stream",
     "text": [
      "C:\\Users\\tslow\\Anaconda3\\lib\\site-packages\\lightgbm\\engine.py:113: UserWarning: Found `num_round` in params. Will use it instead of argument\n",
      "  warnings.warn(\"Found `{}` in params. Will use it instead of argument\".format(alias))\n",
      "\n"
     ]
    },
    {
     "name": "stdout",
     "output_type": "stream",
     "text": [
      "Training until validation scores don't improve for 400 rounds.                                                         \n",
      "[1000]\ttraining's auc: 0.939329\tvalid_1's auc: 0.892836                                                                \n",
      "[2000]\ttraining's auc: 0.962846\tvalid_1's auc: 0.895209                                                                \n",
      "Early stopping, best iteration is:                                                                                     \n",
      "[2027]\ttraining's auc: 0.963386\tvalid_1's auc: 0.895244\n",
      "corrected params: {'bagging_fraction': 0.89884353971482, 'bagging_freq': 5, 'boosting_type': 'gbdt', 'feature_fraction': 0.07094657400704137, 'learning_rate': 0.04, 'max_depth': -1, 'metric': 'auc', 'min_data_in_leaf': 85, 'n_jobs': -1, 'num_leaves': 12, 'num_round': 3000, 'objective': 'binary'}\n",
      " 35%|███████████████▉                             | 53/150 [53:18<10:05:29, 374.53s/it, best loss: 0.04368278102716894]"
     ]
    },
    {
     "name": "stderr",
     "output_type": "stream",
     "text": [
      "C:\\Users\\tslow\\Anaconda3\\lib\\site-packages\\lightgbm\\engine.py:113: UserWarning: Found `num_round` in params. Will use it instead of argument\n",
      "  warnings.warn(\"Found `{}` in params. Will use it instead of argument\".format(alias))\n",
      "\n"
     ]
    },
    {
     "name": "stdout",
     "output_type": "stream",
     "text": [
      "Training until validation scores don't improve for 400 rounds.                                                         \n",
      "[1000]\ttraining's auc: 0.928645\tvalid_1's auc: 0.892127                                                                \n",
      "[2000]\ttraining's auc: 0.948695\tvalid_1's auc: 0.896224                                                                \n",
      "Early stopping, best iteration is:                                                                                     \n",
      "[2508]\ttraining's auc: 0.956837\tvalid_1's auc: 0.896318\n",
      "corrected params: {'bagging_fraction': 0.5237306104690024, 'bagging_freq': 7, 'boosting_type': 'gbdt', 'feature_fraction': 0.17646176325882096, 'learning_rate': 0.04, 'max_depth': -1, 'metric': 'auc', 'min_data_in_leaf': 79, 'n_jobs': -1, 'num_leaves': 19, 'num_round': 3000, 'objective': 'binary'}\n",
      " 36%|████████████████▌                             | 54/150 [54:09<7:23:44, 277.34s/it, best loss: 0.04368278102716894]"
     ]
    },
    {
     "name": "stderr",
     "output_type": "stream",
     "text": [
      "C:\\Users\\tslow\\Anaconda3\\lib\\site-packages\\lightgbm\\engine.py:113: UserWarning: Found `num_round` in params. Will use it instead of argument\n",
      "  warnings.warn(\"Found `{}` in params. Will use it instead of argument\".format(alias))\n",
      "\n"
     ]
    },
    {
     "name": "stdout",
     "output_type": "stream",
     "text": [
      "Training until validation scores don't improve for 400 rounds.                                                         \n",
      "[1000]\ttraining's auc: 0.948983\tvalid_1's auc: 0.893932                                                                \n",
      "Early stopping, best iteration is:                                                                                     \n",
      "[1489]\ttraining's auc: 0.963463\tvalid_1's auc: 0.894815\n",
      "corrected params: {'bagging_fraction': 0.7000722135610621, 'bagging_freq': 6, 'boosting_type': 'gbdt', 'feature_fraction': 0.09457763379461726, 'learning_rate': 0.04, 'max_depth': -1, 'metric': 'auc', 'min_data_in_leaf': 77, 'n_jobs': -1, 'num_leaves': 17, 'num_round': 3000, 'objective': 'binary'}\n",
      " 37%|████████████████▊                             | 55/150 [54:46<5:24:55, 205.21s/it, best loss: 0.04368278102716894]"
     ]
    },
    {
     "name": "stderr",
     "output_type": "stream",
     "text": [
      "C:\\Users\\tslow\\Anaconda3\\lib\\site-packages\\lightgbm\\engine.py:113: UserWarning: Found `num_round` in params. Will use it instead of argument\n",
      "  warnings.warn(\"Found `{}` in params. Will use it instead of argument\".format(alias))\n",
      "\n"
     ]
    },
    {
     "name": "stdout",
     "output_type": "stream",
     "text": [
      "Training until validation scores don't improve for 400 rounds.                                                         \n",
      "[1000]\ttraining's auc: 0.941625\tvalid_1's auc: 0.893307                                                                \n",
      "[2000]\ttraining's auc: 0.965906\tvalid_1's auc: 0.895357                                                                \n",
      "Early stopping, best iteration is:                                                                                     \n",
      "[1937]\ttraining's auc: 0.964651\tvalid_1's auc: 0.895533\n",
      "corrected params: {'bagging_fraction': 0.7556152385065203, 'bagging_freq': 8, 'boosting_type': 'gbdt', 'feature_fraction': 0.052415964520994715, 'learning_rate': 0.04, 'max_depth': -1, 'metric': 'auc', 'min_data_in_leaf': 84, 'n_jobs': -1, 'num_leaves': 10, 'num_round': 3000, 'objective': 'binary'}\n",
      " 37%|█████████████████▏                            | 56/150 [55:26<4:04:09, 155.84s/it, best loss: 0.04368278102716894]"
     ]
    },
    {
     "name": "stderr",
     "output_type": "stream",
     "text": [
      "C:\\Users\\tslow\\Anaconda3\\lib\\site-packages\\lightgbm\\engine.py:113: UserWarning: Found `num_round` in params. Will use it instead of argument\n",
      "  warnings.warn(\"Found `{}` in params. Will use it instead of argument\".format(alias))\n",
      "\n"
     ]
    },
    {
     "name": "stdout",
     "output_type": "stream",
     "text": [
      "Training until validation scores don't improve for 400 rounds.                                                         \n",
      "[1000]\ttraining's auc: 0.921192\tvalid_1's auc: 0.89234                                                                 \n",
      "[2000]\ttraining's auc: 0.938552\tvalid_1's auc: 0.896991                                                                \n",
      "[3000]\ttraining's auc: 0.951419\tvalid_1's auc: 0.89739                                                                 \n",
      "Did not meet early stopping. Best iteration is:                                                                        \n",
      "[3000]\ttraining's auc: 0.951419\tvalid_1's auc: 0.89739\n",
      "corrected params: {'bagging_fraction': 0.8514333033881984, 'bagging_freq': 10, 'boosting_type': 'gbdt', 'feature_fraction': 0.16257525170335027, 'learning_rate': 0.04, 'max_depth': -1, 'metric': 'auc', 'min_data_in_leaf': 78, 'n_jobs': -1, 'num_leaves': 13, 'num_round': 3000, 'objective': 'binary'}\n",
      " 38%|█████████████████▍                            | 57/150 [56:12<3:10:05, 122.63s/it, best loss: 0.04368278102716894]"
     ]
    },
    {
     "name": "stderr",
     "output_type": "stream",
     "text": [
      "C:\\Users\\tslow\\Anaconda3\\lib\\site-packages\\lightgbm\\engine.py:113: UserWarning: Found `num_round` in params. Will use it instead of argument\n",
      "  warnings.warn(\"Found `{}` in params. Will use it instead of argument\".format(alias))\n",
      "\n"
     ]
    },
    {
     "name": "stdout",
     "output_type": "stream",
     "text": [
      "Training until validation scores don't improve for 400 rounds.                                                         \n",
      "[1000]\ttraining's auc: 0.935855\tvalid_1's auc: 0.892222                                                                \n",
      "[2000]\ttraining's auc: 0.958437\tvalid_1's auc: 0.895176                                                                \n",
      "Early stopping, best iteration is:                                                                                     \n",
      "[1955]\ttraining's auc: 0.957618\tvalid_1's auc: 0.895225\n",
      "corrected params: {'bagging_fraction': 0.5966640861003291, 'bagging_freq': 9, 'boosting_type': 'gbdt', 'feature_fraction': 0.19491224276006702, 'learning_rate': 0.04, 'max_depth': -1, 'metric': 'auc', 'min_data_in_leaf': 76, 'n_jobs': -1, 'num_leaves': 16, 'num_round': 3000, 'objective': 'binary'}\n",
      " 39%|█████████████████▊                            | 58/150 [57:00<2:34:00, 100.44s/it, best loss: 0.04368278102716894]"
     ]
    },
    {
     "name": "stderr",
     "output_type": "stream",
     "text": [
      "C:\\Users\\tslow\\Anaconda3\\lib\\site-packages\\lightgbm\\engine.py:113: UserWarning: Found `num_round` in params. Will use it instead of argument\n",
      "  warnings.warn(\"Found `{}` in params. Will use it instead of argument\".format(alias))\n",
      "\n"
     ]
    },
    {
     "name": "stdout",
     "output_type": "stream",
     "text": [
      "Training until validation scores don't improve for 400 rounds.                                                         \n",
      "[1000]\ttraining's auc: 0.943405\tvalid_1's auc: 0.893517                                                                \n",
      "[2000]\ttraining's auc: 0.968169\tvalid_1's auc: 0.89531                                                                 \n",
      "Early stopping, best iteration is:                                                                                     \n",
      "[2162]\ttraining's auc: 0.971381\tvalid_1's auc: 0.895527\n",
      "corrected params: {'bagging_fraction': 0.6512664960258379, 'bagging_freq': 4, 'boosting_type': 'gbdt', 'feature_fraction': 0.14027690681766009, 'learning_rate': 0.04, 'max_depth': -1, 'metric': 'auc', 'min_data_in_leaf': 83, 'n_jobs': -1, 'num_leaves': 18, 'num_round': 3000, 'objective': 'binary'}\n",
      " 39%|██████████████████▍                            | 59/150 [57:53<2:10:49, 86.25s/it, best loss: 0.04368278102716894]"
     ]
    },
    {
     "name": "stderr",
     "output_type": "stream",
     "text": [
      "C:\\Users\\tslow\\Anaconda3\\lib\\site-packages\\lightgbm\\engine.py:113: UserWarning: Found `num_round` in params. Will use it instead of argument\n",
      "  warnings.warn(\"Found `{}` in params. Will use it instead of argument\".format(alias))\n",
      "\n"
     ]
    },
    {
     "name": "stdout",
     "output_type": "stream",
     "text": [
      "Training until validation scores don't improve for 400 rounds.                                                         \n",
      "[1000]\ttraining's auc: 0.946539\tvalid_1's auc: 0.893974                                                                \n",
      "[2000]\ttraining's auc: 0.971729\tvalid_1's auc: 0.895608                                                                \n",
      "Early stopping, best iteration is:                                                                                     \n",
      "[1817]\ttraining's auc: 0.967854\tvalid_1's auc: 0.89582\n",
      "corrected params: {'bagging_fraction': 0.8048437849225307, 'bagging_freq': 8, 'boosting_type': 'gbdt', 'feature_fraction': 0.010278575145365731, 'learning_rate': 0.04, 'max_depth': -1, 'metric': 'auc', 'min_data_in_leaf': 82, 'n_jobs': -1, 'num_leaves': 19, 'num_round': 3000, 'objective': 'binary'}\n",
      " 40%|██████████████████▊                            | 60/150 [58:37<1:50:06, 73.40s/it, best loss: 0.04368278102716894]"
     ]
    },
    {
     "name": "stderr",
     "output_type": "stream",
     "text": [
      "C:\\Users\\tslow\\Anaconda3\\lib\\site-packages\\lightgbm\\engine.py:113: UserWarning: Found `num_round` in params. Will use it instead of argument\n",
      "  warnings.warn(\"Found `{}` in params. Will use it instead of argument\".format(alias))\n",
      "\n"
     ]
    },
    {
     "name": "stdout",
     "output_type": "stream",
     "text": [
      "Training until validation scores don't improve for 400 rounds.                                                         \n",
      "[1000]\ttraining's auc: 0.941458\tvalid_1's auc: 0.890192                                                                \n",
      "[2000]\ttraining's auc: 0.955585\tvalid_1's auc: 0.893779                                                                \n",
      "[3000]\ttraining's auc: 0.966226\tvalid_1's auc: 0.894033                                                                \n",
      "Did not meet early stopping. Best iteration is:                                                                        \n",
      "[3000]\ttraining's auc: 0.966226\tvalid_1's auc: 0.894033\n",
      "corrected params: {'bagging_fraction': 0.8820830526391661, 'bagging_freq': 7, 'boosting_type': 'gbdt', 'feature_fraction': 0.0821819351659999, 'learning_rate': 0.04, 'max_depth': -1, 'metric': 'auc', 'min_data_in_leaf': 84, 'n_jobs': -1, 'num_leaves': 20, 'num_round': 3000, 'objective': 'binary'}\n",
      " 41%|███████████████████                            | 61/150 [59:25<1:37:49, 65.95s/it, best loss: 0.04368278102716894]"
     ]
    },
    {
     "name": "stderr",
     "output_type": "stream",
     "text": [
      "C:\\Users\\tslow\\Anaconda3\\lib\\site-packages\\lightgbm\\engine.py:113: UserWarning: Found `num_round` in params. Will use it instead of argument\n",
      "  warnings.warn(\"Found `{}` in params. Will use it instead of argument\".format(alias))\n",
      "\n"
     ]
    },
    {
     "name": "stdout",
     "output_type": "stream",
     "text": [
      "Training until validation scores don't improve for 400 rounds.                                                         \n",
      "[1000]\ttraining's auc: 0.947806\tvalid_1's auc: 0.893882                                                                \n",
      "[2000]\ttraining's auc: 0.972677\tvalid_1's auc: 0.895963                                                                \n",
      "Early stopping, best iteration is:                                                                                     \n",
      "[1880]\ttraining's auc: 0.970332\tvalid_1's auc: 0.896123\n",
      "corrected params: {'bagging_fraction': 0.5575326597464669, 'bagging_freq': 10, 'boosting_type': 'gbdt', 'feature_fraction': 0.18283025328804525, 'learning_rate': 0.04, 'max_depth': -1, 'metric': 'auc', 'min_data_in_leaf': 82, 'n_jobs': -1, 'num_leaves': 16, 'num_round': 3000, 'objective': 'binary'}\n",
      " 41%|██████████████████▌                          | 62/150 [1:00:11<1:27:53, 59.92s/it, best loss: 0.04368278102716894]"
     ]
    },
    {
     "name": "stderr",
     "output_type": "stream",
     "text": [
      "C:\\Users\\tslow\\Anaconda3\\lib\\site-packages\\lightgbm\\engine.py:113: UserWarning: Found `num_round` in params. Will use it instead of argument\n",
      "  warnings.warn(\"Found `{}` in params. Will use it instead of argument\".format(alias))\n",
      "\n"
     ]
    },
    {
     "name": "stdout",
     "output_type": "stream",
     "text": [
      "Training until validation scores don't improve for 400 rounds.                                                         \n",
      "[1000]\ttraining's auc: 0.94248\tvalid_1's auc: 0.893479                                                                 \n",
      "Early stopping, best iteration is:                                                                                     \n",
      "[1578]\ttraining's auc: 0.958199\tvalid_1's auc: 0.895035\n",
      "corrected params: {'bagging_fraction': 0.7755195337037221, 'bagging_freq': 6, 'boosting_type': 'gbdt', 'feature_fraction': 0.15286717128784144, 'learning_rate': 0.04, 'max_depth': -1, 'metric': 'auc', 'min_data_in_leaf': 81, 'n_jobs': -1, 'num_leaves': 14, 'num_round': 3000, 'objective': 'binary'}\n",
      " 42%|██████████████████▉                          | 63/150 [1:00:53<1:19:11, 54.61s/it, best loss: 0.04368278102716894]"
     ]
    },
    {
     "name": "stderr",
     "output_type": "stream",
     "text": [
      "C:\\Users\\tslow\\Anaconda3\\lib\\site-packages\\lightgbm\\engine.py:113: UserWarning: Found `num_round` in params. Will use it instead of argument\n",
      "  warnings.warn(\"Found `{}` in params. Will use it instead of argument\".format(alias))\n",
      "\n"
     ]
    },
    {
     "name": "stdout",
     "output_type": "stream",
     "text": [
      "Training until validation scores don't improve for 400 rounds.                                                         \n",
      "[1000]\ttraining's auc: 0.937779\tvalid_1's auc: 0.893038                                                                \n",
      "[2000]\ttraining's auc: 0.960698\tvalid_1's auc: 0.895152                                                                \n",
      "Early stopping, best iteration is:                                                                                     \n",
      "[2034]\ttraining's auc: 0.961337\tvalid_1's auc: 0.895212\n",
      "corrected params: {'bagging_fraction': 0.4008498508371684, 'bagging_freq': 7, 'boosting_type': 'gbdt', 'feature_fraction': 0.17483117638423712, 'learning_rate': 0.04, 'max_depth': -1, 'metric': 'auc', 'min_data_in_leaf': 83, 'n_jobs': -1, 'num_leaves': 17, 'num_round': 3000, 'objective': 'binary'}\n",
      " 43%|███████████████████▏                         | 64/150 [1:01:44<1:16:10, 53.15s/it, best loss: 0.04368278102716894]"
     ]
    },
    {
     "name": "stderr",
     "output_type": "stream",
     "text": [
      "C:\\Users\\tslow\\Anaconda3\\lib\\site-packages\\lightgbm\\engine.py:113: UserWarning: Found `num_round` in params. Will use it instead of argument\n",
      "  warnings.warn(\"Found `{}` in params. Will use it instead of argument\".format(alias))\n",
      "\n"
     ]
    },
    {
     "name": "stdout",
     "output_type": "stream",
     "text": [
      "Training until validation scores don't improve for 400 rounds.                                                         \n",
      "[1000]\ttraining's auc: 0.943276\tvalid_1's auc: 0.893804                                                                \n",
      "Early stopping, best iteration is:                                                                                     \n",
      "[1579]\ttraining's auc: 0.958996\tvalid_1's auc: 0.894733\n",
      "corrected params: {'bagging_fraction': 0.5941797556775773, 'bagging_freq': 9, 'boosting_type': 'gbdt', 'feature_fraction': 0.19603900443852312, 'learning_rate': 0.04, 'max_depth': -1, 'metric': 'auc', 'min_data_in_leaf': 76, 'n_jobs': -1, 'num_leaves': 16, 'num_round': 3000, 'objective': 'binary'}\n",
      " 43%|███████████████████▌                         | 65/150 [1:02:20<1:08:26, 48.31s/it, best loss: 0.04368278102716894]"
     ]
    },
    {
     "name": "stderr",
     "output_type": "stream",
     "text": [
      "C:\\Users\\tslow\\Anaconda3\\lib\\site-packages\\lightgbm\\engine.py:113: UserWarning: Found `num_round` in params. Will use it instead of argument\n",
      "  warnings.warn(\"Found `{}` in params. Will use it instead of argument\".format(alias))\n",
      "\n"
     ]
    },
    {
     "name": "stdout",
     "output_type": "stream",
     "text": [
      "Training until validation scores don't improve for 400 rounds.                                                         \n",
      "[1000]\ttraining's auc: 0.943354\tvalid_1's auc: 0.893565                                                                \n",
      "Early stopping, best iteration is:                                                                                     \n",
      "[1581]\ttraining's auc: 0.959365\tvalid_1's auc: 0.894936\n",
      "corrected params: {'bagging_fraction': 0.30193299621935943, 'bagging_freq': 9, 'boosting_type': 'gbdt', 'feature_fraction': 0.1875079537799737, 'learning_rate': 0.04, 'max_depth': -1, 'metric': 'auc', 'min_data_in_leaf': 76, 'n_jobs': -1, 'num_leaves': 15, 'num_round': 3000, 'objective': 'binary'}\n",
      " 44%|███████████████████▊                         | 66/150 [1:03:02<1:04:48, 46.29s/it, best loss: 0.04368278102716894]"
     ]
    },
    {
     "name": "stderr",
     "output_type": "stream",
     "text": [
      "C:\\Users\\tslow\\Anaconda3\\lib\\site-packages\\lightgbm\\engine.py:113: UserWarning: Found `num_round` in params. Will use it instead of argument\n",
      "  warnings.warn(\"Found `{}` in params. Will use it instead of argument\".format(alias))\n",
      "\n"
     ]
    },
    {
     "name": "stdout",
     "output_type": "stream",
     "text": [
      "Training until validation scores don't improve for 400 rounds.                                                         \n",
      "[1000]\ttraining's auc: 0.938566\tvalid_1's auc: 0.893364                                                                \n",
      "Early stopping, best iteration is:                                                                                     \n",
      "[1472]\ttraining's auc: 0.951006\tvalid_1's auc: 0.894687\n",
      "corrected params: {'bagging_fraction': 0.3637741069602233, 'bagging_freq': 9, 'boosting_type': 'gbdt', 'feature_fraction': 0.16019013157930423, 'learning_rate': 0.04, 'max_depth': -1, 'metric': 'auc', 'min_data_in_leaf': 77, 'n_jobs': -1, 'num_leaves': 15, 'num_round': 3000, 'objective': 'binary'}\n",
      " 45%|████████████████████▉                          | 67/150 [1:03:35<58:28, 42.28s/it, best loss: 0.04368278102716894]"
     ]
    },
    {
     "name": "stderr",
     "output_type": "stream",
     "text": [
      "C:\\Users\\tslow\\Anaconda3\\lib\\site-packages\\lightgbm\\engine.py:113: UserWarning: Found `num_round` in params. Will use it instead of argument\n",
      "  warnings.warn(\"Found `{}` in params. Will use it instead of argument\".format(alias))\n",
      "\n"
     ]
    },
    {
     "name": "stdout",
     "output_type": "stream",
     "text": [
      "Training until validation scores don't improve for 400 rounds.                                                         \n",
      "[1000]\ttraining's auc: 0.938304\tvalid_1's auc: 0.893342                                                                \n",
      "Early stopping, best iteration is:                                                                                     \n",
      "[1427]\ttraining's auc: 0.949551\tvalid_1's auc: 0.894393\n",
      "corrected params: {'bagging_fraction': 0.4495339842907789, 'bagging_freq': 10, 'boosting_type': 'gbdt', 'feature_fraction': 0.1986822950198922, 'learning_rate': 0.04, 'max_depth': -1, 'metric': 'auc', 'min_data_in_leaf': 79, 'n_jobs': -1, 'num_leaves': 16, 'num_round': 3000, 'objective': 'binary'}\n",
      " 45%|█████████████████████▎                         | 68/150 [1:04:14<56:41, 41.48s/it, best loss: 0.04368278102716894]"
     ]
    },
    {
     "name": "stderr",
     "output_type": "stream",
     "text": [
      "C:\\Users\\tslow\\Anaconda3\\lib\\site-packages\\lightgbm\\engine.py:113: UserWarning: Found `num_round` in params. Will use it instead of argument\n",
      "  warnings.warn(\"Found `{}` in params. Will use it instead of argument\".format(alias))\n",
      "\n"
     ]
    },
    {
     "name": "stdout",
     "output_type": "stream",
     "text": [
      "Training until validation scores don't improve for 400 rounds.                                                         \n",
      "[1000]\ttraining's auc: 0.942502\tvalid_1's auc: 0.893494                                                                \n",
      "[2000]\ttraining's auc: 0.967362\tvalid_1's auc: 0.894777                                                                \n",
      "Early stopping, best iteration is:                                                                                     \n",
      "[1767]\ttraining's auc: 0.96234\tvalid_1's auc: 0.894933\n",
      "corrected params: {'bagging_fraction': 0.5053219543268481, 'bagging_freq': 8, 'boosting_type': 'gbdt', 'feature_fraction': 0.13318931379140853, 'learning_rate': 0.04, 'max_depth': -1, 'metric': 'auc', 'min_data_in_leaf': 76, 'n_jobs': -1, 'num_leaves': 14, 'num_round': 3000, 'objective': 'binary'}\n",
      " 46%|█████████████████████▌                         | 69/150 [1:05:01<58:18, 43.19s/it, best loss: 0.04368278102716894]"
     ]
    },
    {
     "name": "stderr",
     "output_type": "stream",
     "text": [
      "C:\\Users\\tslow\\Anaconda3\\lib\\site-packages\\lightgbm\\engine.py:113: UserWarning: Found `num_round` in params. Will use it instead of argument\n",
      "  warnings.warn(\"Found `{}` in params. Will use it instead of argument\".format(alias))\n",
      "\n"
     ]
    },
    {
     "name": "stdout",
     "output_type": "stream",
     "text": [
      "Training until validation scores don't improve for 400 rounds.                                                         \n",
      "[1000]\ttraining's auc: 0.935889\tvalid_1's auc: 0.89287                                                                 \n",
      "[2000]\ttraining's auc: 0.958647\tvalid_1's auc: 0.89471                                                                 \n",
      "Early stopping, best iteration is:                                                                                     \n",
      "[1973]\ttraining's auc: 0.958085\tvalid_1's auc: 0.894845\n",
      "corrected params: {'bagging_fraction': 0.8386124569651346, 'bagging_freq': 10, 'boosting_type': 'gbdt', 'feature_fraction': 0.19374157734231012, 'learning_rate': 0.04, 'max_depth': -1, 'metric': 'auc', 'min_data_in_leaf': 75, 'n_jobs': -1, 'num_leaves': 17, 'num_round': 3000, 'objective': 'binary'}\n",
      " 47%|█████████████████████▉                         | 70/150 [1:05:45<57:37, 43.22s/it, best loss: 0.04368278102716894]"
     ]
    },
    {
     "name": "stderr",
     "output_type": "stream",
     "text": [
      "C:\\Users\\tslow\\Anaconda3\\lib\\site-packages\\lightgbm\\engine.py:113: UserWarning: Found `num_round` in params. Will use it instead of argument\n",
      "  warnings.warn(\"Found `{}` in params. Will use it instead of argument\".format(alias))\n",
      "\n"
     ]
    },
    {
     "name": "stdout",
     "output_type": "stream",
     "text": [
      "Training until validation scores don't improve for 400 rounds.                                                         \n",
      "[1000]\ttraining's auc: 0.947317\tvalid_1's auc: 0.892865                                                                \n",
      "[2000]\ttraining's auc: 0.972352\tvalid_1's auc: 0.894475                                                                \n",
      "Early stopping, best iteration is:                                                                                     \n",
      "[1721]\ttraining's auc: 0.966676\tvalid_1's auc: 0.894798\n",
      "corrected params: {'bagging_fraction': 0.4313915956792309, 'bagging_freq': 9, 'boosting_type': 'gbdt', 'feature_fraction': 0.1714358048787998, 'learning_rate': 0.04, 'max_depth': -1, 'metric': 'auc', 'min_data_in_leaf': 78, 'n_jobs': -1, 'num_leaves': 18, 'num_round': 3000, 'objective': 'binary'}\n",
      " 47%|█████████████████████▎                       | 71/150 [1:06:42<1:02:28, 47.44s/it, best loss: 0.04368278102716894]"
     ]
    },
    {
     "name": "stderr",
     "output_type": "stream",
     "text": [
      "C:\\Users\\tslow\\Anaconda3\\lib\\site-packages\\lightgbm\\engine.py:113: UserWarning: Found `num_round` in params. Will use it instead of argument\n",
      "  warnings.warn(\"Found `{}` in params. Will use it instead of argument\".format(alias))\n",
      "\n"
     ]
    },
    {
     "name": "stdout",
     "output_type": "stream",
     "text": [
      "Training until validation scores don't improve for 400 rounds.                                                         \n",
      "[1000]\ttraining's auc: 0.946079\tvalid_1's auc: 0.893901                                                                \n",
      "Early stopping, best iteration is:                                                                                     \n",
      "[1325]\ttraining's auc: 0.955756\tvalid_1's auc: 0.894783\n",
      "corrected params: {'bagging_fraction': 0.5963561276541915, 'bagging_freq': 9, 'boosting_type': 'gbdt', 'feature_fraction': 0.1874823998654867, 'learning_rate': 0.04, 'max_depth': -1, 'metric': 'auc', 'min_data_in_leaf': 80, 'n_jobs': -1, 'num_leaves': 20, 'num_round': 3000, 'objective': 'binary'}\n",
      " 48%|██████████████████████▌                        | 72/150 [1:07:20<57:47, 44.46s/it, best loss: 0.04368278102716894]"
     ]
    },
    {
     "name": "stderr",
     "output_type": "stream",
     "text": [
      "C:\\Users\\tslow\\Anaconda3\\lib\\site-packages\\lightgbm\\engine.py:113: UserWarning: Found `num_round` in params. Will use it instead of argument\n",
      "  warnings.warn(\"Found `{}` in params. Will use it instead of argument\".format(alias))\n",
      "\n"
     ]
    },
    {
     "name": "stdout",
     "output_type": "stream",
     "text": [
      "Training until validation scores don't improve for 400 rounds.                                                         \n",
      "[1000]\ttraining's auc: 0.952358\tvalid_1's auc: 0.894017                                                                \n",
      "Early stopping, best iteration is:                                                                                     \n",
      "[1501]\ttraining's auc: 0.967427\tvalid_1's auc: 0.894895\n",
      "corrected params: {'bagging_fraction': 0.7370277420478157, 'bagging_freq': 10, 'boosting_type': 'gbdt', 'feature_fraction': 0.14659836329387016, 'learning_rate': 0.04, 'max_depth': -1, 'metric': 'auc', 'min_data_in_leaf': 85, 'n_jobs': -1, 'num_leaves': 13, 'num_round': 3000, 'objective': 'binary'}\n",
      " 49%|██████████████████████▊                        | 73/150 [1:08:07<58:06, 45.27s/it, best loss: 0.04368278102716894]"
     ]
    },
    {
     "name": "stderr",
     "output_type": "stream",
     "text": [
      "C:\\Users\\tslow\\Anaconda3\\lib\\site-packages\\lightgbm\\engine.py:113: UserWarning: Found `num_round` in params. Will use it instead of argument\n",
      "  warnings.warn(\"Found `{}` in params. Will use it instead of argument\".format(alias))\n",
      "\n"
     ]
    },
    {
     "name": "stdout",
     "output_type": "stream",
     "text": [
      "Training until validation scores don't improve for 400 rounds.                                                         \n",
      "[1000]\ttraining's auc: 0.934739\tvalid_1's auc: 0.892932                                                                \n",
      "[2000]\ttraining's auc: 0.956795\tvalid_1's auc: 0.895294                                                                \n",
      "Early stopping, best iteration is:                                                                                     \n",
      "[1744]\ttraining's auc: 0.951812\tvalid_1's auc: 0.895399\n",
      "corrected params: {'bagging_fraction': 0.5735802271350847, 'bagging_freq': 8, 'boosting_type': 'gbdt', 'feature_fraction': 0.18053838737861744, 'learning_rate': 0.04, 'max_depth': -1, 'metric': 'auc', 'min_data_in_leaf': 77, 'n_jobs': -1, 'num_leaves': 16, 'num_round': 3000, 'objective': 'binary'}\n",
      " 49%|███████████████████████▏                       | 74/150 [1:08:54<58:16, 46.01s/it, best loss: 0.04368278102716894]"
     ]
    },
    {
     "name": "stderr",
     "output_type": "stream",
     "text": [
      "C:\\Users\\tslow\\Anaconda3\\lib\\site-packages\\lightgbm\\engine.py:113: UserWarning: Found `num_round` in params. Will use it instead of argument\n",
      "  warnings.warn(\"Found `{}` in params. Will use it instead of argument\".format(alias))\n",
      "\n"
     ]
    },
    {
     "name": "stdout",
     "output_type": "stream",
     "text": [
      "Training until validation scores don't improve for 400 rounds.                                                         \n",
      "[1000]\ttraining's auc: 0.942773\tvalid_1's auc: 0.89336                                                                 \n",
      "[2000]\ttraining's auc: 0.967775\tvalid_1's auc: 0.894649                                                                \n",
      "Early stopping, best iteration is:                                                                                     \n",
      "[1704]\ttraining's auc: 0.961255\tvalid_1's auc: 0.894964\n",
      "corrected params: {'bagging_fraction': 0.6970520842071736, 'bagging_freq': 9, 'boosting_type': 'gbdt', 'feature_fraction': 0.11051074085885285, 'learning_rate': 0.04, 'max_depth': -1, 'metric': 'auc', 'min_data_in_leaf': 79, 'n_jobs': -1, 'num_leaves': 19, 'num_round': 3000, 'objective': 'binary'}\n",
      " 50%|███████████████████████▌                       | 75/150 [1:09:42<58:13, 46.58s/it, best loss: 0.04368278102716894]"
     ]
    },
    {
     "name": "stderr",
     "output_type": "stream",
     "text": [
      "C:\\Users\\tslow\\Anaconda3\\lib\\site-packages\\lightgbm\\engine.py:113: UserWarning: Found `num_round` in params. Will use it instead of argument\n",
      "  warnings.warn(\"Found `{}` in params. Will use it instead of argument\".format(alias))\n",
      "\n"
     ]
    },
    {
     "name": "stdout",
     "output_type": "stream",
     "text": [
      "Training until validation scores don't improve for 400 rounds.                                                         \n",
      "[1000]\ttraining's auc: 0.947507\tvalid_1's auc: 0.892743                                                                \n",
      "[2000]\ttraining's auc: 0.972856\tvalid_1's auc: 0.894389                                                                \n",
      "Early stopping, best iteration is:                                                                                     \n",
      "[1784]\ttraining's auc: 0.968323\tvalid_1's auc: 0.89464\n",
      "corrected params: {'bagging_fraction': 0.8070804504060639, 'bagging_freq': 8, 'boosting_type': 'gbdt', 'feature_fraction': 0.12221490797147241, 'learning_rate': 0.04, 'max_depth': -1, 'metric': 'auc', 'min_data_in_leaf': 81, 'n_jobs': -1, 'num_leaves': 17, 'num_round': 3000, 'objective': 'binary'}\n",
      " 51%|███████████████████████▊                       | 76/150 [1:10:29<57:37, 46.72s/it, best loss: 0.04368278102716894]"
     ]
    },
    {
     "name": "stderr",
     "output_type": "stream",
     "text": [
      "C:\\Users\\tslow\\Anaconda3\\lib\\site-packages\\lightgbm\\engine.py:113: UserWarning: Found `num_round` in params. Will use it instead of argument\n",
      "  warnings.warn(\"Found `{}` in params. Will use it instead of argument\".format(alias))\n",
      "\n"
     ]
    },
    {
     "name": "stdout",
     "output_type": "stream",
     "text": [
      "Training until validation scores don't improve for 400 rounds.                                                         \n",
      "[1000]\ttraining's auc: 0.944457\tvalid_1's auc: 0.893045                                                                \n",
      "[2000]\ttraining's auc: 0.968636\tvalid_1's auc: 0.895227                                                                \n",
      "Early stopping, best iteration is:                                                                                     \n",
      "[2195]\ttraining's auc: 0.972249\tvalid_1's auc: 0.895289\n",
      "corrected params: {'bagging_fraction': 0.8054063818644055, 'bagging_freq': 7, 'boosting_type': 'gbdt', 'feature_fraction': 0.12481884322230623, 'learning_rate': 0.04, 'max_depth': -1, 'metric': 'auc', 'min_data_in_leaf': 81, 'n_jobs': -1, 'num_leaves': 18, 'num_round': 3000, 'objective': 'binary'}\n",
      " 51%|███████████████████████                      | 77/150 [1:11:28<1:01:01, 50.15s/it, best loss: 0.04368278102716894]"
     ]
    },
    {
     "name": "stderr",
     "output_type": "stream",
     "text": [
      "C:\\Users\\tslow\\Anaconda3\\lib\\site-packages\\lightgbm\\engine.py:113: UserWarning: Found `num_round` in params. Will use it instead of argument\n",
      "  warnings.warn(\"Found `{}` in params. Will use it instead of argument\".format(alias))\n",
      "\n"
     ]
    },
    {
     "name": "stdout",
     "output_type": "stream",
     "text": [
      "Training until validation scores don't improve for 400 rounds.                                                         \n",
      "[1000]\ttraining's auc: 0.946479\tvalid_1's auc: 0.893485                                                                \n",
      "[2000]\ttraining's auc: 0.971242\tvalid_1's auc: 0.895295                                                                \n",
      "Early stopping, best iteration is:                                                                                     \n",
      "[1866]\ttraining's auc: 0.968626\tvalid_1's auc: 0.895504\n",
      "corrected params: {'bagging_fraction': 0.7693314110552872, 'bagging_freq': 6, 'boosting_type': 'gbdt', 'feature_fraction': 0.09897087949088434, 'learning_rate': 0.04, 'max_depth': -1, 'metric': 'auc', 'min_data_in_leaf': 82, 'n_jobs': -1, 'num_leaves': 17, 'num_round': 3000, 'objective': 'binary'}\n",
      " 52%|███████████████████████▍                     | 78/150 [1:12:20<1:00:56, 50.78s/it, best loss: 0.04368278102716894]"
     ]
    },
    {
     "name": "stderr",
     "output_type": "stream",
     "text": [
      "C:\\Users\\tslow\\Anaconda3\\lib\\site-packages\\lightgbm\\engine.py:113: UserWarning: Found `num_round` in params. Will use it instead of argument\n",
      "  warnings.warn(\"Found `{}` in params. Will use it instead of argument\".format(alias))\n",
      "\n"
     ]
    },
    {
     "name": "stdout",
     "output_type": "stream",
     "text": [
      "Training until validation scores don't improve for 400 rounds.                                                         \n",
      "[1000]\ttraining's auc: 0.942539\tvalid_1's auc: 0.893711                                                                \n",
      "[2000]\ttraining's auc: 0.96641\tvalid_1's auc: 0.895854                                                                 \n",
      "Early stopping, best iteration is:                                                                                     \n",
      "[1963]\ttraining's auc: 0.965696\tvalid_1's auc: 0.895905\n",
      "corrected params: {'bagging_fraction': 0.8684189708535477, 'bagging_freq': 7, 'boosting_type': 'gbdt', 'feature_fraction': 0.08710264310022112, 'learning_rate': 0.04, 'max_depth': -1, 'metric': 'auc', 'min_data_in_leaf': 80, 'n_jobs': -1, 'num_leaves': 20, 'num_round': 3000, 'objective': 'binary'}\n",
      " 53%|████████████████████████▊                      | 79/150 [1:13:09<59:40, 50.42s/it, best loss: 0.04368278102716894]"
     ]
    },
    {
     "name": "stderr",
     "output_type": "stream",
     "text": [
      "C:\\Users\\tslow\\Anaconda3\\lib\\site-packages\\lightgbm\\engine.py:113: UserWarning: Found `num_round` in params. Will use it instead of argument\n",
      "  warnings.warn(\"Found `{}` in params. Will use it instead of argument\".format(alias))\n",
      "\n"
     ]
    },
    {
     "name": "stdout",
     "output_type": "stream",
     "text": [
      "Training until validation scores don't improve for 400 rounds.                                                         \n",
      "[1000]\ttraining's auc: 0.948375\tvalid_1's auc: 0.893934                                                                \n",
      "[2000]\ttraining's auc: 0.973484\tvalid_1's auc: 0.895316                                                                \n",
      "Early stopping, best iteration is:                                                                                     \n",
      "[1639]\ttraining's auc: 0.965874\tvalid_1's auc: 0.895624\n",
      "corrected params: {'bagging_fraction': 0.8473451066164421, 'bagging_freq': 8, 'boosting_type': 'gbdt', 'feature_fraction': 0.07335305920648236, 'learning_rate': 0.04, 'max_depth': -1, 'metric': 'auc', 'min_data_in_leaf': 83, 'n_jobs': -1, 'num_leaves': 18, 'num_round': 3000, 'objective': 'binary'}\n",
      " 53%|████████████████████████                     | 80/150 [1:14:03<1:00:05, 51.50s/it, best loss: 0.04368278102716894]"
     ]
    },
    {
     "name": "stderr",
     "output_type": "stream",
     "text": [
      "C:\\Users\\tslow\\Anaconda3\\lib\\site-packages\\lightgbm\\engine.py:113: UserWarning: Found `num_round` in params. Will use it instead of argument\n",
      "  warnings.warn(\"Found `{}` in params. Will use it instead of argument\".format(alias))\n",
      "\n"
     ]
    },
    {
     "name": "stdout",
     "output_type": "stream",
     "text": [
      "Training until validation scores don't improve for 400 rounds.                                                         \n",
      "[1000]\ttraining's auc: 0.942556\tvalid_1's auc: 0.893179                                                                \n",
      "[2000]\ttraining's auc: 0.966558\tvalid_1's auc: 0.895728                                                                \n",
      "Early stopping, best iteration is:                                                                                     \n",
      "[2132]\ttraining's auc: 0.968991\tvalid_1's auc: 0.895836\n",
      "corrected params: {'bagging_fraction': 0.8998749507172847, 'bagging_freq': 7, 'boosting_type': 'gbdt', 'feature_fraction': 0.06149683790654539, 'learning_rate': 0.04, 'max_depth': -1, 'metric': 'auc', 'min_data_in_leaf': 82, 'n_jobs': -1, 'num_leaves': 19, 'num_round': 3000, 'objective': 'binary'}\n",
      " 54%|█████████████████████████▍                     | 81/150 [1:14:56<59:37, 51.85s/it, best loss: 0.04368278102716894]"
     ]
    },
    {
     "name": "stderr",
     "output_type": "stream",
     "text": [
      "C:\\Users\\tslow\\Anaconda3\\lib\\site-packages\\lightgbm\\engine.py:113: UserWarning: Found `num_round` in params. Will use it instead of argument\n",
      "  warnings.warn(\"Found `{}` in params. Will use it instead of argument\".format(alias))\n",
      "\n"
     ]
    },
    {
     "name": "stdout",
     "output_type": "stream",
     "text": [
      "Training until validation scores don't improve for 400 rounds.                                                         \n",
      "[1000]\ttraining's auc: 0.943984\tvalid_1's auc: 0.894132                                                                \n",
      "[2000]\ttraining's auc: 0.96813\tvalid_1's auc: 0.896441                                                                 \n",
      "Early stopping, best iteration is:                                                                                     \n",
      "[2214]\ttraining's auc: 0.971997\tvalid_1's auc: 0.896615\n",
      "corrected params: {'bagging_fraction': 0.8989470058991178, 'bagging_freq': 7, 'boosting_type': 'gbdt', 'feature_fraction': 0.05582267587515265, 'learning_rate': 0.04, 'max_depth': -1, 'metric': 'auc', 'min_data_in_leaf': 82, 'n_jobs': -1, 'num_leaves': 19, 'num_round': 3000, 'objective': 'binary'}\n",
      " 55%|█████████████████████████▋                     | 82/150 [1:15:50<59:33, 52.56s/it, best loss: 0.04368278102716894]"
     ]
    },
    {
     "name": "stderr",
     "output_type": "stream",
     "text": [
      "C:\\Users\\tslow\\Anaconda3\\lib\\site-packages\\lightgbm\\engine.py:113: UserWarning: Found `num_round` in params. Will use it instead of argument\n",
      "  warnings.warn(\"Found `{}` in params. Will use it instead of argument\".format(alias))\n",
      "\n"
     ]
    },
    {
     "name": "stdout",
     "output_type": "stream",
     "text": [
      "Training until validation scores don't improve for 400 rounds.                                                         \n",
      "[1000]\ttraining's auc: 0.943351\tvalid_1's auc: 0.894567                                                                \n",
      "[2000]\ttraining's auc: 0.967139\tvalid_1's auc: 0.896209                                                                \n",
      "Early stopping, best iteration is:                                                                                     \n",
      "[2057]\ttraining's auc: 0.968248\tvalid_1's auc: 0.896309\n",
      "corrected params: {'bagging_fraction': 0.8166863125944175, 'bagging_freq': 6, 'boosting_type': 'gbdt', 'feature_fraction': 0.06388394108222467, 'learning_rate': 0.04, 'max_depth': -1, 'metric': 'auc', 'min_data_in_leaf': 81, 'n_jobs': -1, 'num_leaves': 19, 'num_round': 3000, 'objective': 'binary'}\n",
      " 55%|██████████████████████████                     | 83/150 [1:16:42<58:31, 52.42s/it, best loss: 0.04368278102716894]"
     ]
    },
    {
     "name": "stderr",
     "output_type": "stream",
     "text": [
      "C:\\Users\\tslow\\Anaconda3\\lib\\site-packages\\lightgbm\\engine.py:113: UserWarning: Found `num_round` in params. Will use it instead of argument\n",
      "  warnings.warn(\"Found `{}` in params. Will use it instead of argument\".format(alias))\n",
      "\n"
     ]
    },
    {
     "name": "stdout",
     "output_type": "stream",
     "text": [
      "Training until validation scores don't improve for 400 rounds.                                                         \n",
      "[1000]\ttraining's auc: 0.943558\tvalid_1's auc: 0.894031                                                                \n",
      "[2000]\ttraining's auc: 0.967695\tvalid_1's auc: 0.895576                                                                \n",
      "Early stopping, best iteration is:                                                                                     \n",
      "[2312]\ttraining's auc: 0.973132\tvalid_1's auc: 0.895728\n",
      "corrected params: {'bagging_fraction': 0.677782003395872, 'bagging_freq': 5, 'boosting_type': 'gbdt', 'feature_fraction': 0.04547632275848653, 'learning_rate': 0.04, 'max_depth': -1, 'metric': 'auc', 'min_data_in_leaf': 80, 'n_jobs': -1, 'num_leaves': 20, 'num_round': 3000, 'objective': 'binary'}\n",
      " 56%|██████████████████████████▎                    | 84/150 [1:17:38<58:48, 53.46s/it, best loss: 0.04368278102716894]"
     ]
    },
    {
     "name": "stderr",
     "output_type": "stream",
     "text": [
      "C:\\Users\\tslow\\Anaconda3\\lib\\site-packages\\lightgbm\\engine.py:113: UserWarning: Found `num_round` in params. Will use it instead of argument\n",
      "  warnings.warn(\"Found `{}` in params. Will use it instead of argument\".format(alias))\n",
      "\n"
     ]
    },
    {
     "name": "stdout",
     "output_type": "stream",
     "text": [
      "Training until validation scores don't improve for 400 rounds.                                                         \n",
      "[1000]\ttraining's auc: 0.944106\tvalid_1's auc: 0.895024                                                                \n",
      "[2000]\ttraining's auc: 0.96757\tvalid_1's auc: 0.896363                                                                 \n",
      "Early stopping, best iteration is:                                                                                     \n",
      "[2064]\ttraining's auc: 0.968753\tvalid_1's auc: 0.896508\n",
      "corrected params: {'bagging_fraction': 0.8198333744962739, 'bagging_freq': 6, 'boosting_type': 'gbdt', 'feature_fraction': 0.06574013768347968, 'learning_rate': 0.04, 'max_depth': -1, 'metric': 'auc', 'min_data_in_leaf': 82, 'n_jobs': -1, 'num_leaves': 19, 'num_round': 3000, 'objective': 'binary'}\n",
      " 57%|██████████████████████████▋                    | 85/150 [1:18:28<56:36, 52.26s/it, best loss: 0.04368278102716894]"
     ]
    },
    {
     "name": "stderr",
     "output_type": "stream",
     "text": [
      "C:\\Users\\tslow\\Anaconda3\\lib\\site-packages\\lightgbm\\engine.py:113: UserWarning: Found `num_round` in params. Will use it instead of argument\n",
      "  warnings.warn(\"Found `{}` in params. Will use it instead of argument\".format(alias))\n",
      "\n"
     ]
    },
    {
     "name": "stdout",
     "output_type": "stream",
     "text": [
      "Training until validation scores don't improve for 400 rounds.                                                         \n",
      "[1000]\ttraining's auc: 0.944191\tvalid_1's auc: 0.894031                                                                \n",
      "[2000]\ttraining's auc: 0.968409\tvalid_1's auc: 0.896293                                                                \n",
      "Early stopping, best iteration is:                                                                                     \n",
      "[2395]\ttraining's auc: 0.975218\tvalid_1's auc: 0.896387\n",
      "corrected params: {'bagging_fraction': 0.823173975630324, 'bagging_freq': 5, 'boosting_type': 'gbdt', 'feature_fraction': 0.06452724514559598, 'learning_rate': 0.04, 'max_depth': -1, 'metric': 'auc', 'min_data_in_leaf': 81, 'n_jobs': -1, 'num_leaves': 20, 'num_round': 3000, 'objective': 'binary'}\n",
      " 57%|██████████████████████████▉                    | 86/150 [1:19:26<57:47, 54.17s/it, best loss: 0.04173368583042114]"
     ]
    },
    {
     "name": "stderr",
     "output_type": "stream",
     "text": [
      "C:\\Users\\tslow\\Anaconda3\\lib\\site-packages\\lightgbm\\engine.py:113: UserWarning: Found `num_round` in params. Will use it instead of argument\n",
      "  warnings.warn(\"Found `{}` in params. Will use it instead of argument\".format(alias))\n",
      "\n"
     ]
    },
    {
     "name": "stdout",
     "output_type": "stream",
     "text": [
      "Training until validation scores don't improve for 400 rounds.                                                         \n",
      "[1000]\ttraining's auc: 0.94544\tvalid_1's auc: 0.895172                                                                 \n",
      "[2000]\ttraining's auc: 0.970242\tvalid_1's auc: 0.896674                                                                \n",
      "Early stopping, best iteration is:                                                                                     \n",
      "[1831]\ttraining's auc: 0.966954\tvalid_1's auc: 0.896846\n",
      "corrected params: {'bagging_fraction': 0.7879409973342593, 'bagging_freq': 6, 'boosting_type': 'gbdt', 'feature_fraction': 0.01624832022602206, 'learning_rate': 0.04, 'max_depth': -1, 'metric': 'auc', 'min_data_in_leaf': 81, 'n_jobs': -1, 'num_leaves': 19, 'num_round': 3000, 'objective': 'binary'}\n",
      " 58%|███████████████████████████▎                   | 87/150 [1:20:14<54:55, 52.30s/it, best loss: 0.04173368583042114]"
     ]
    },
    {
     "name": "stderr",
     "output_type": "stream",
     "text": [
      "C:\\Users\\tslow\\Anaconda3\\lib\\site-packages\\lightgbm\\engine.py:113: UserWarning: Found `num_round` in params. Will use it instead of argument\n",
      "  warnings.warn(\"Found `{}` in params. Will use it instead of argument\".format(alias))\n",
      "\n"
     ]
    },
    {
     "name": "stdout",
     "output_type": "stream",
     "text": [
      "Training until validation scores don't improve for 400 rounds.                                                         \n",
      "[1000]\ttraining's auc: 0.940968\tvalid_1's auc: 0.893288                                                                \n",
      "[2000]\ttraining's auc: 0.957606\tvalid_1's auc: 0.895902                                                                \n",
      "Early stopping, best iteration is:                                                                                     \n",
      "[2525]\ttraining's auc: 0.964673\tvalid_1's auc: 0.896139\n",
      "corrected params: {'bagging_fraction': 0.6425475111469936, 'bagging_freq': 5, 'boosting_type': 'gbdt', 'feature_fraction': 0.03466287274947705, 'learning_rate': 0.04, 'max_depth': -1, 'metric': 'auc', 'min_data_in_leaf': 82, 'n_jobs': -1, 'num_leaves': 20, 'num_round': 3000, 'objective': 'binary'}\n",
      " 59%|███████████████████████████▌                   | 88/150 [1:21:13<56:08, 54.33s/it, best loss: 0.04173368583042114]"
     ]
    },
    {
     "name": "stderr",
     "output_type": "stream",
     "text": [
      "C:\\Users\\tslow\\Anaconda3\\lib\\site-packages\\lightgbm\\engine.py:113: UserWarning: Found `num_round` in params. Will use it instead of argument\n",
      "  warnings.warn(\"Found `{}` in params. Will use it instead of argument\".format(alias))\n",
      "\n"
     ]
    },
    {
     "name": "stdout",
     "output_type": "stream",
     "text": [
      "Training until validation scores don't improve for 400 rounds.                                                         \n",
      "[1000]\ttraining's auc: 0.942513\tvalid_1's auc: 0.895412                                                                \n",
      "Early stopping, best iteration is:                                                                                     \n",
      "[1497]\ttraining's auc: 0.954167\tvalid_1's auc: 0.896774\n",
      "corrected params: {'bagging_fraction': 0.7552066228419257, 'bagging_freq': 6, 'boosting_type': 'gbdt', 'feature_fraction': 0.04248493558242994, 'learning_rate': 0.04, 'max_depth': -1, 'metric': 'auc', 'min_data_in_leaf': 83, 'n_jobs': -1, 'num_leaves': 19, 'num_round': 3000, 'objective': 'binary'}\n",
      " 59%|███████████████████████████▉                   | 89/150 [1:21:49<49:38, 48.82s/it, best loss: 0.04173368583042114]"
     ]
    },
    {
     "name": "stderr",
     "output_type": "stream",
     "text": [
      "C:\\Users\\tslow\\Anaconda3\\lib\\site-packages\\lightgbm\\engine.py:113: UserWarning: Found `num_round` in params. Will use it instead of argument\n",
      "  warnings.warn(\"Found `{}` in params. Will use it instead of argument\".format(alias))\n",
      "\n"
     ]
    },
    {
     "name": "stdout",
     "output_type": "stream",
     "text": [
      "Training until validation scores don't improve for 400 rounds.                                                         \n",
      "[1000]\ttraining's auc: 0.941366\tvalid_1's auc: 0.894456                                                                \n",
      "[2000]\ttraining's auc: 0.963943\tvalid_1's auc: 0.896263                                                                \n",
      "Early stopping, best iteration is:                                                                                     \n",
      "[2284]\ttraining's auc: 0.968897\tvalid_1's auc: 0.896407\n",
      "corrected params: {'bagging_fraction': 0.7288747459880254, 'bagging_freq': 6, 'boosting_type': 'gbdt', 'feature_fraction': 0.07936835721364788, 'learning_rate': 0.04, 'max_depth': -1, 'metric': 'auc', 'min_data_in_leaf': 84, 'n_jobs': -1, 'num_leaves': 19, 'num_round': 3000, 'objective': 'binary'}\n",
      " 60%|████████████████████████████▏                  | 90/150 [1:22:42<50:03, 50.05s/it, best loss: 0.04173368583042114]"
     ]
    },
    {
     "name": "stderr",
     "output_type": "stream",
     "text": [
      "C:\\Users\\tslow\\Anaconda3\\lib\\site-packages\\lightgbm\\engine.py:113: UserWarning: Found `num_round` in params. Will use it instead of argument\n",
      "  warnings.warn(\"Found `{}` in params. Will use it instead of argument\".format(alias))\n",
      "\n"
     ]
    },
    {
     "name": "stdout",
     "output_type": "stream",
     "text": [
      "Training until validation scores don't improve for 400 rounds.                                                         \n",
      "[1000]\ttraining's auc: 0.944807\tvalid_1's auc: 0.893873                                                                \n",
      "[2000]\ttraining's auc: 0.9695\tvalid_1's auc: 0.895541                                                                  \n",
      "Early stopping, best iteration is:                                                                                     \n",
      "[1732]\ttraining's auc: 0.963985\tvalid_1's auc: 0.895989\n",
      "corrected params: {'bagging_fraction': 0.6698383176741647, 'bagging_freq': 4, 'boosting_type': 'gbdt', 'feature_fraction': 0.021351094828767583, 'learning_rate': 0.04, 'max_depth': -1, 'metric': 'auc', 'min_data_in_leaf': 79, 'n_jobs': -1, 'num_leaves': 11, 'num_round': 3000, 'objective': 'binary'}\n",
      " 61%|████████████████████████████▌                  | 91/150 [1:23:28<47:48, 48.62s/it, best loss: 0.04173368583042114]"
     ]
    },
    {
     "name": "stderr",
     "output_type": "stream",
     "text": [
      "C:\\Users\\tslow\\Anaconda3\\lib\\site-packages\\lightgbm\\engine.py:113: UserWarning: Found `num_round` in params. Will use it instead of argument\n",
      "  warnings.warn(\"Found `{}` in params. Will use it instead of argument\".format(alias))\n",
      "\n"
     ]
    },
    {
     "name": "stdout",
     "output_type": "stream",
     "text": [
      "Training until validation scores don't improve for 400 rounds.                                                         \n",
      "[1000]\ttraining's auc: 0.923607\tvalid_1's auc: 0.894585                                                                \n",
      "[2000]\ttraining's auc: 0.937079\tvalid_1's auc: 0.896937                                                                \n",
      "[3000]\ttraining's auc: 0.948059\tvalid_1's auc: 0.897525                                                                \n",
      "Did not meet early stopping. Best iteration is:                                                                        \n",
      "[3000]\ttraining's auc: 0.948059\tvalid_1's auc: 0.897525\n",
      "corrected params: {'bagging_fraction': 0.7160800278132753, 'bagging_freq': 5, 'boosting_type': 'gbdt', 'feature_fraction': 0.08861470826819659, 'learning_rate': 0.04, 'max_depth': -1, 'metric': 'auc', 'min_data_in_leaf': 80, 'n_jobs': -1, 'num_leaves': 20, 'num_round': 3000, 'objective': 'binary'}\n",
      " 61%|████████████████████████████▊                  | 92/150 [1:24:21<48:29, 50.16s/it, best loss: 0.04173368583042114]"
     ]
    },
    {
     "name": "stderr",
     "output_type": "stream",
     "text": [
      "C:\\Users\\tslow\\Anaconda3\\lib\\site-packages\\lightgbm\\engine.py:113: UserWarning: Found `num_round` in params. Will use it instead of argument\n",
      "  warnings.warn(\"Found `{}` in params. Will use it instead of argument\".format(alias))\n",
      "\n"
     ]
    },
    {
     "name": "stdout",
     "output_type": "stream",
     "text": [
      "Training until validation scores don't improve for 400 rounds.                                                         \n",
      "[1000]\ttraining's auc: 0.94765\tvalid_1's auc: 0.894498                                                                 \n",
      "[2000]\ttraining's auc: 0.973183\tvalid_1's auc: 0.895698                                                                \n",
      "Early stopping, best iteration is:                                                                                     \n",
      "[1638]\ttraining's auc: 0.965387\tvalid_1's auc: 0.896104\n",
      "corrected params: {'bagging_fraction': 0.8866474207958918, 'bagging_freq': 6, 'boosting_type': 'gbdt', 'feature_fraction': 0.0481421395724318, 'learning_rate': 0.04, 'max_depth': -1, 'metric': 'auc', 'min_data_in_leaf': 83, 'n_jobs': -1, 'num_leaves': 18, 'num_round': 3000, 'objective': 'binary'}\n",
      " 62%|█████████████████████████████▏                 | 93/150 [1:25:07<46:27, 48.90s/it, best loss: 0.04173368583042114]"
     ]
    },
    {
     "name": "stderr",
     "output_type": "stream",
     "text": [
      "C:\\Users\\tslow\\Anaconda3\\lib\\site-packages\\lightgbm\\engine.py:113: UserWarning: Found `num_round` in params. Will use it instead of argument\n",
      "  warnings.warn(\"Found `{}` in params. Will use it instead of argument\".format(alias))\n",
      "\n"
     ]
    },
    {
     "name": "stdout",
     "output_type": "stream",
     "text": [
      "Training until validation scores don't improve for 400 rounds.                                                         \n",
      "[1000]\ttraining's auc: 0.940318\tvalid_1's auc: 0.894726                                                                \n",
      "[2000]\ttraining's auc: 0.962932\tvalid_1's auc: 0.896451                                                                \n",
      "Early stopping, best iteration is:                                                                                     \n",
      "[1612]\ttraining's auc: 0.955263\tvalid_1's auc: 0.896493\n",
      "corrected params: {'bagging_fraction': 0.8562071677972781, 'bagging_freq': 6, 'boosting_type': 'gbdt', 'feature_fraction': 0.07608340582489422, 'learning_rate': 0.04, 'max_depth': -1, 'metric': 'auc', 'min_data_in_leaf': 81, 'n_jobs': -1, 'num_leaves': 20, 'num_round': 3000, 'objective': 'binary'}\n",
      " 63%|█████████████████████████████▍                 | 94/150 [1:25:51<44:16, 47.43s/it, best loss: 0.04173368583042114]"
     ]
    },
    {
     "name": "stderr",
     "output_type": "stream",
     "text": [
      "C:\\Users\\tslow\\Anaconda3\\lib\\site-packages\\lightgbm\\engine.py:113: UserWarning: Found `num_round` in params. Will use it instead of argument\n",
      "  warnings.warn(\"Found `{}` in params. Will use it instead of argument\".format(alias))\n",
      "\n"
     ]
    },
    {
     "name": "stdout",
     "output_type": "stream",
     "text": [
      "Training until validation scores don't improve for 400 rounds.                                                         \n",
      "[1000]\ttraining's auc: 0.947502\tvalid_1's auc: 0.893837                                                                \n",
      "[2000]\ttraining's auc: 0.97226\tvalid_1's auc: 0.895794                                                                 \n",
      "Early stopping, best iteration is:                                                                                     \n",
      "[1846]\ttraining's auc: 0.96922\tvalid_1's auc: 0.895955\n",
      "corrected params: {'bagging_fraction': 0.8149218895998515, 'bagging_freq': 3, 'boosting_type': 'gbdt', 'feature_fraction': 0.056604654347989114, 'learning_rate': 0.04, 'max_depth': -1, 'metric': 'auc', 'min_data_in_leaf': 82, 'n_jobs': -1, 'num_leaves': 19, 'num_round': 3000, 'objective': 'binary'}\n",
      " 63%|█████████████████████████████▊                 | 95/150 [1:26:42<44:20, 48.36s/it, best loss: 0.04173368583042114]"
     ]
    },
    {
     "name": "stderr",
     "output_type": "stream",
     "text": [
      "C:\\Users\\tslow\\Anaconda3\\lib\\site-packages\\lightgbm\\engine.py:113: UserWarning: Found `num_round` in params. Will use it instead of argument\n",
      "  warnings.warn(\"Found `{}` in params. Will use it instead of argument\".format(alias))\n",
      "\n"
     ]
    },
    {
     "name": "stdout",
     "output_type": "stream",
     "text": [
      "Training until validation scores don't improve for 400 rounds.                                                         \n",
      "[1000]\ttraining's auc: 0.943413\tvalid_1's auc: 0.894418                                                                \n",
      "[2000]\ttraining's auc: 0.967256\tvalid_1's auc: 0.896592                                                                \n",
      "Early stopping, best iteration is:                                                                                     \n",
      "[1953]\ttraining's auc: 0.966332\tvalid_1's auc: 0.896647\n",
      "corrected params: {'bagging_fraction': 0.7032404418304913, 'bagging_freq': 5, 'boosting_type': 'gbdt', 'feature_fraction': 0.034419952804499374, 'learning_rate': 0.04, 'max_depth': -1, 'metric': 'auc', 'min_data_in_leaf': 81, 'n_jobs': -1, 'num_leaves': 18, 'num_round': 3000, 'objective': 'binary'}\n",
      " 64%|██████████████████████████████                 | 96/150 [1:27:34<44:29, 49.43s/it, best loss: 0.04173368583042114]"
     ]
    },
    {
     "name": "stderr",
     "output_type": "stream",
     "text": [
      "C:\\Users\\tslow\\Anaconda3\\lib\\site-packages\\lightgbm\\engine.py:113: UserWarning: Found `num_round` in params. Will use it instead of argument\n",
      "  warnings.warn(\"Found `{}` in params. Will use it instead of argument\".format(alias))\n",
      "\n"
     ]
    },
    {
     "name": "stdout",
     "output_type": "stream",
     "text": [
      "Training until validation scores don't improve for 400 rounds.                                                         \n",
      "[1000]\ttraining's auc: 0.938556\tvalid_1's auc: 0.894883                                                                \n",
      "[2000]\ttraining's auc: 0.959001\tvalid_1's auc: 0.896438                                                                \n",
      "Early stopping, best iteration is:                                                                                     \n",
      "[1862]\ttraining's auc: 0.956602\tvalid_1's auc: 0.896662\n",
      "corrected params: {'bagging_fraction': 0.7627256154325939, 'bagging_freq': 6, 'boosting_type': 'gbdt', 'feature_fraction': 0.06617067532046683, 'learning_rate': 0.04, 'max_depth': -1, 'metric': 'auc', 'min_data_in_leaf': 80, 'n_jobs': -1, 'num_leaves': 20, 'num_round': 3000, 'objective': 'binary'}\n",
      " 65%|██████████████████████████████▍                | 97/150 [1:28:16<41:48, 47.33s/it, best loss: 0.04173368583042114]"
     ]
    },
    {
     "name": "stderr",
     "output_type": "stream",
     "text": [
      "C:\\Users\\tslow\\Anaconda3\\lib\\site-packages\\lightgbm\\engine.py:113: UserWarning: Found `num_round` in params. Will use it instead of argument\n",
      "  warnings.warn(\"Found `{}` in params. Will use it instead of argument\".format(alias))\n",
      "\n"
     ]
    },
    {
     "name": "stdout",
     "output_type": "stream",
     "text": [
      "Training until validation scores don't improve for 400 rounds.                                                         \n",
      "[1000]\ttraining's auc: 0.946276\tvalid_1's auc: 0.894066                                                                \n",
      "[2000]\ttraining's auc: 0.970938\tvalid_1's auc: 0.895561                                                                \n",
      "Early stopping, best iteration is:                                                                                     \n",
      "[1970]\ttraining's auc: 0.970368\tvalid_1's auc: 0.895664\n",
      "corrected params: {'bagging_fraction': 0.7853970454810446, 'bagging_freq': 4, 'boosting_type': 'gbdt', 'feature_fraction': 0.09837149523536462, 'learning_rate': 0.04, 'max_depth': -1, 'metric': 'auc', 'min_data_in_leaf': 83, 'n_jobs': -1, 'num_leaves': 20, 'num_round': 3000, 'objective': 'binary'}\n",
      " 65%|██████████████████████████████▋                | 98/150 [1:29:06<41:35, 47.99s/it, best loss: 0.04173368583042114]"
     ]
    },
    {
     "name": "stderr",
     "output_type": "stream",
     "text": [
      "C:\\Users\\tslow\\Anaconda3\\lib\\site-packages\\lightgbm\\engine.py:113: UserWarning: Found `num_round` in params. Will use it instead of argument\n",
      "  warnings.warn(\"Found `{}` in params. Will use it instead of argument\".format(alias))\n",
      "\n"
     ]
    },
    {
     "name": "stdout",
     "output_type": "stream",
     "text": [
      "Training until validation scores don't improve for 400 rounds.                                                         \n",
      "[1000]\ttraining's auc: 0.949284\tvalid_1's auc: 0.893945                                                                \n",
      "[2000]\ttraining's auc: 0.974133\tvalid_1's auc: 0.895468                                                                \n",
      "Early stopping, best iteration is:                                                                                     \n",
      "[1770]\ttraining's auc: 0.969468\tvalid_1's auc: 0.895579\n",
      "corrected params: {'bagging_fraction': 0.8365737133183747, 'bagging_freq': 5, 'boosting_type': 'gbdt', 'feature_fraction': 0.06719045357232535, 'learning_rate': 0.04, 'max_depth': -1, 'metric': 'auc', 'min_data_in_leaf': 82, 'n_jobs': -1, 'num_leaves': 19, 'num_round': 3000, 'objective': 'binary'}\n",
      " 66%|███████████████████████████████                | 99/150 [1:29:56<41:18, 48.60s/it, best loss: 0.04173368583042114]"
     ]
    },
    {
     "name": "stderr",
     "output_type": "stream",
     "text": [
      "C:\\Users\\tslow\\Anaconda3\\lib\\site-packages\\lightgbm\\engine.py:113: UserWarning: Found `num_round` in params. Will use it instead of argument\n",
      "  warnings.warn(\"Found `{}` in params. Will use it instead of argument\".format(alias))\n",
      "\n"
     ]
    },
    {
     "name": "stdout",
     "output_type": "stream",
     "text": [
      "Training until validation scores don't improve for 400 rounds.                                                         \n",
      "[1000]\ttraining's auc: 0.944271\tvalid_1's auc: 0.89387                                                                 \n",
      "Early stopping, best iteration is:                                                                                     \n",
      "[1569]\ttraining's auc: 0.959517\tvalid_1's auc: 0.896011\n",
      "corrected params: {'bagging_fraction': 0.6342029836099086, 'bagging_freq': 7, 'boosting_type': 'gbdt', 'feature_fraction': 0.02482612364870842, 'learning_rate': 0.04, 'max_depth': -1, 'metric': 'auc', 'min_data_in_leaf': 83, 'n_jobs': -1, 'num_leaves': 18, 'num_round': 3000, 'objective': 'binary'}\n",
      " 67%|██████████████████████████████▋               | 100/150 [1:30:39<39:05, 46.91s/it, best loss: 0.04173368583042114]"
     ]
    },
    {
     "name": "stderr",
     "output_type": "stream",
     "text": [
      "C:\\Users\\tslow\\Anaconda3\\lib\\site-packages\\lightgbm\\engine.py:113: UserWarning: Found `num_round` in params. Will use it instead of argument\n",
      "  warnings.warn(\"Found `{}` in params. Will use it instead of argument\".format(alias))\n",
      "\n"
     ]
    },
    {
     "name": "stdout",
     "output_type": "stream",
     "text": [
      "Training until validation scores don't improve for 400 rounds.                                                         \n",
      "[1000]\ttraining's auc: 0.938602\tvalid_1's auc: 0.894632                                                                \n",
      "[2000]\ttraining's auc: 0.956291\tvalid_1's auc: 0.896027                                                                \n",
      "Early stopping, best iteration is:                                                                                     \n",
      "[1933]\ttraining's auc: 0.955267\tvalid_1's auc: 0.896195\n",
      "corrected params: {'bagging_fraction': 0.8843730920299937, 'bagging_freq': 7, 'boosting_type': 'gbdt', 'feature_fraction': 0.10927676501456156, 'learning_rate': 0.04, 'max_depth': -1, 'metric': 'auc', 'min_data_in_leaf': 84, 'n_jobs': -1, 'num_leaves': 19, 'num_round': 3000, 'objective': 'binary'}\n",
      " 67%|██████████████████████████████▉               | 101/150 [1:31:20<36:58, 45.28s/it, best loss: 0.04173368583042114]"
     ]
    },
    {
     "name": "stderr",
     "output_type": "stream",
     "text": [
      "C:\\Users\\tslow\\Anaconda3\\lib\\site-packages\\lightgbm\\engine.py:113: UserWarning: Found `num_round` in params. Will use it instead of argument\n",
      "  warnings.warn(\"Found `{}` in params. Will use it instead of argument\".format(alias))\n",
      "\n"
     ]
    },
    {
     "name": "stdout",
     "output_type": "stream",
     "text": [
      "Training until validation scores don't improve for 400 rounds.                                                         \n",
      "[1000]\ttraining's auc: 0.947856\tvalid_1's auc: 0.893353                                                                \n",
      "[2000]\ttraining's auc: 0.972821\tvalid_1's auc: 0.895084                                                                \n",
      "Early stopping, best iteration is:                                                                                     \n",
      "[1663]\ttraining's auc: 0.965816\tvalid_1's auc: 0.895262\n",
      "corrected params: {'bagging_fraction': 0.7438051170662459, 'bagging_freq': 6, 'boosting_type': 'gbdt', 'feature_fraction': 0.04270800320935198, 'learning_rate': 0.04, 'max_depth': -1, 'metric': 'auc', 'min_data_in_leaf': 79, 'n_jobs': -1, 'num_leaves': 18, 'num_round': 3000, 'objective': 'binary'}\n",
      " 68%|███████████████████████████████▎              | 102/150 [1:32:10<37:25, 46.77s/it, best loss: 0.04173368583042114]"
     ]
    },
    {
     "name": "stderr",
     "output_type": "stream",
     "text": [
      "C:\\Users\\tslow\\Anaconda3\\lib\\site-packages\\lightgbm\\engine.py:113: UserWarning: Found `num_round` in params. Will use it instead of argument\n",
      "  warnings.warn(\"Found `{}` in params. Will use it instead of argument\".format(alias))\n",
      "\n"
     ]
    },
    {
     "name": "stdout",
     "output_type": "stream",
     "text": [
      "Training until validation scores don't improve for 400 rounds.                                                         \n",
      "[1000]\ttraining's auc: 0.939356\tvalid_1's auc: 0.894609                                                                \n",
      "[2000]\ttraining's auc: 0.961669\tvalid_1's auc: 0.895634                                                                \n",
      "Early stopping, best iteration is:                                                                                     \n",
      "[1649]\ttraining's auc: 0.954754\tvalid_1's auc: 0.896237\n",
      "corrected params: {'bagging_fraction': 0.6142238511602727, 'bagging_freq': 6, 'boosting_type': 'gbdt', 'feature_fraction': 0.09099423552703993, 'learning_rate': 0.04, 'max_depth': -1, 'metric': 'auc', 'min_data_in_leaf': 82, 'n_jobs': -1, 'num_leaves': 20, 'num_round': 3000, 'objective': 'binary'}\n",
      " 69%|███████████████████████████████▌              | 103/150 [1:32:51<35:14, 45.00s/it, best loss: 0.04173368583042114]"
     ]
    },
    {
     "name": "stderr",
     "output_type": "stream",
     "text": [
      "C:\\Users\\tslow\\Anaconda3\\lib\\site-packages\\lightgbm\\engine.py:113: UserWarning: Found `num_round` in params. Will use it instead of argument\n",
      "  warnings.warn(\"Found `{}` in params. Will use it instead of argument\".format(alias))\n",
      "\n"
     ]
    },
    {
     "name": "stdout",
     "output_type": "stream",
     "text": [
      "Training until validation scores don't improve for 400 rounds.                                                         \n",
      "[1000]\ttraining's auc: 0.947742\tvalid_1's auc: 0.893833                                                                \n",
      "Early stopping, best iteration is:                                                                                     \n",
      "[1343]\ttraining's auc: 0.95771\tvalid_1's auc: 0.89479\n",
      "corrected params: {'bagging_fraction': 0.5389329542796145, 'bagging_freq': 5, 'boosting_type': 'gbdt', 'feature_fraction': 0.07996836062058882, 'learning_rate': 0.04, 'max_depth': -1, 'metric': 'auc', 'min_data_in_leaf': 80, 'n_jobs': -1, 'num_leaves': 17, 'num_round': 3000, 'objective': 'binary'}\n",
      " 69%|███████████████████████████████▉              | 104/150 [1:33:29<32:54, 42.91s/it, best loss: 0.04173368583042114]"
     ]
    },
    {
     "name": "stderr",
     "output_type": "stream",
     "text": [
      "C:\\Users\\tslow\\Anaconda3\\lib\\site-packages\\lightgbm\\engine.py:113: UserWarning: Found `num_round` in params. Will use it instead of argument\n",
      "  warnings.warn(\"Found `{}` in params. Will use it instead of argument\".format(alias))\n",
      "\n"
     ]
    },
    {
     "name": "stdout",
     "output_type": "stream",
     "text": [
      "Training until validation scores don't improve for 400 rounds.                                                         \n",
      "[1000]\ttraining's auc: 0.93982\tvalid_1's auc: 0.894072                                                                 \n",
      "[2000]\ttraining's auc: 0.963367\tvalid_1's auc: 0.89589                                                                 \n",
      "Early stopping, best iteration is:                                                                                     \n",
      "[1855]\ttraining's auc: 0.960424\tvalid_1's auc: 0.89603\n",
      "corrected params: {'bagging_fraction': 0.6604053956066095, 'bagging_freq': 7, 'boosting_type': 'gbdt', 'feature_fraction': 0.07229100789135146, 'learning_rate': 0.04, 'max_depth': -1, 'metric': 'auc', 'min_data_in_leaf': 82, 'n_jobs': -1, 'num_leaves': 20, 'num_round': 3000, 'objective': 'binary'}\n",
      " 70%|████████████████████████████████▏             | 105/150 [1:34:14<32:28, 43.30s/it, best loss: 0.04173368583042114]"
     ]
    },
    {
     "name": "stderr",
     "output_type": "stream",
     "text": [
      "C:\\Users\\tslow\\Anaconda3\\lib\\site-packages\\lightgbm\\engine.py:113: UserWarning: Found `num_round` in params. Will use it instead of argument\n",
      "  warnings.warn(\"Found `{}` in params. Will use it instead of argument\".format(alias))\n",
      "\n"
     ]
    },
    {
     "name": "stdout",
     "output_type": "stream",
     "text": [
      "Training until validation scores don't improve for 400 rounds.                                                         \n",
      "[1000]\ttraining's auc: 0.946269\tvalid_1's auc: 0.894083                                                                \n",
      "Early stopping, best iteration is:                                                                                     \n",
      "[1420]\ttraining's auc: 0.95813\tvalid_1's auc: 0.895448\n",
      "corrected params: {'bagging_fraction': 0.7973438662002419, 'bagging_freq': 4, 'boosting_type': 'gbdt', 'feature_fraction': 0.03110854961587515, 'learning_rate': 0.04, 'max_depth': -1, 'metric': 'auc', 'min_data_in_leaf': 81, 'n_jobs': -1, 'num_leaves': 18, 'num_round': 3000, 'objective': 'binary'}\n",
      " 71%|████████████████████████████████▌             | 106/150 [1:34:51<30:32, 41.65s/it, best loss: 0.04173368583042114]"
     ]
    },
    {
     "name": "stderr",
     "output_type": "stream",
     "text": [
      "C:\\Users\\tslow\\Anaconda3\\lib\\site-packages\\lightgbm\\engine.py:113: UserWarning: Found `num_round` in params. Will use it instead of argument\n",
      "  warnings.warn(\"Found `{}` in params. Will use it instead of argument\".format(alias))\n",
      "\n"
     ]
    },
    {
     "name": "stdout",
     "output_type": "stream",
     "text": [
      "Training until validation scores don't improve for 400 rounds.                                                         \n",
      "[1000]\ttraining's auc: 0.938776\tvalid_1's auc: 0.894888                                                                \n",
      "[2000]\ttraining's auc: 0.959323\tvalid_1's auc: 0.896959                                                                \n",
      "Early stopping, best iteration is:                                                                                     \n",
      "[1859]\ttraining's auc: 0.956838\tvalid_1's auc: 0.897135\n",
      "corrected params: {'bagging_fraction': 0.23279651059507006, 'bagging_freq': 6, 'boosting_type': 'gbdt', 'feature_fraction': 0.015931412938218335, 'learning_rate': 0.04, 'max_depth': -1, 'metric': 'auc', 'min_data_in_leaf': 84, 'n_jobs': -1, 'num_leaves': 19, 'num_round': 3000, 'objective': 'binary'}\n",
      " 71%|████████████████████████████████▊             | 107/150 [1:35:37<30:40, 42.81s/it, best loss: 0.04173368583042114]"
     ]
    },
    {
     "name": "stderr",
     "output_type": "stream",
     "text": [
      "C:\\Users\\tslow\\Anaconda3\\lib\\site-packages\\lightgbm\\engine.py:113: UserWarning: Found `num_round` in params. Will use it instead of argument\n",
      "  warnings.warn(\"Found `{}` in params. Will use it instead of argument\".format(alias))\n",
      "\n"
     ]
    },
    {
     "name": "stdout",
     "output_type": "stream",
     "text": [
      "Training until validation scores don't improve for 400 rounds.                                                         \n",
      "[1000]\ttraining's auc: 0.935117\tvalid_1's auc: 0.888458                                                                \n",
      "[2000]\ttraining's auc: 0.952447\tvalid_1's auc: 0.891746                                                                \n",
      "Early stopping, best iteration is:                                                                                     \n",
      "[2008]\ttraining's auc: 0.952553\tvalid_1's auc: 0.891846\n",
      "corrected params: {'bagging_fraction': 0.8690819148569049, 'bagging_freq': 7, 'boosting_type': 'gbdt', 'feature_fraction': 0.038820877331280715, 'learning_rate': 0.04, 'max_depth': -1, 'metric': 'auc', 'min_data_in_leaf': 83, 'n_jobs': -1, 'num_leaves': 12, 'num_round': 3000, 'objective': 'binary'}\n",
      " 72%|█████████████████████████████████             | 108/150 [1:36:22<30:28, 43.53s/it, best loss: 0.04173368583042114]"
     ]
    },
    {
     "name": "stderr",
     "output_type": "stream",
     "text": [
      "C:\\Users\\tslow\\Anaconda3\\lib\\site-packages\\lightgbm\\engine.py:113: UserWarning: Found `num_round` in params. Will use it instead of argument\n",
      "  warnings.warn(\"Found `{}` in params. Will use it instead of argument\".format(alias))\n",
      "\n"
     ]
    },
    {
     "name": "stdout",
     "output_type": "stream",
     "text": [
      "Training until validation scores don't improve for 400 rounds.                                                         \n",
      "[1000]\ttraining's auc: 0.925465\tvalid_1's auc: 0.893345                                                                \n",
      "[2000]\ttraining's auc: 0.94321\tvalid_1's auc: 0.896681                                                                 \n",
      "[3000]\ttraining's auc: 0.956921\tvalid_1's auc: 0.896832                                                                \n",
      "Did not meet early stopping. Best iteration is:                                                                        \n",
      "[3000]\ttraining's auc: 0.956921\tvalid_1's auc: 0.896832\n",
      "corrected params: {'bagging_fraction': 0.6906021586198379, 'bagging_freq': 6, 'boosting_type': 'gbdt', 'feature_fraction': 0.053554389771615536, 'learning_rate': 0.04, 'max_depth': -1, 'metric': 'auc', 'min_data_in_leaf': 81, 'n_jobs': -1, 'num_leaves': 17, 'num_round': 3000, 'objective': 'binary'}\n",
      " 73%|█████████████████████████████████▍            | 109/150 [1:37:29<34:31, 50.53s/it, best loss: 0.04173368583042114]"
     ]
    },
    {
     "name": "stderr",
     "output_type": "stream",
     "text": [
      "C:\\Users\\tslow\\Anaconda3\\lib\\site-packages\\lightgbm\\engine.py:113: UserWarning: Found `num_round` in params. Will use it instead of argument\n",
      "  warnings.warn(\"Found `{}` in params. Will use it instead of argument\".format(alias))\n",
      "\n"
     ]
    },
    {
     "name": "stdout",
     "output_type": "stream",
     "text": [
      "Training until validation scores don't improve for 400 rounds.                                                         \n",
      "[1000]\ttraining's auc: 0.938314\tvalid_1's auc: 0.894877                                                                \n",
      "[2000]\ttraining's auc: 0.960687\tvalid_1's auc: 0.896235                                                                \n",
      "Early stopping, best iteration is:                                                                                     \n",
      "[1691]\ttraining's auc: 0.954649\tvalid_1's auc: 0.896421\n",
      "corrected params: {'bagging_fraction': 0.7469978966148986, 'bagging_freq': 8, 'boosting_type': 'gbdt', 'feature_fraction': 0.10664092052334712, 'learning_rate': 0.04, 'max_depth': -1, 'metric': 'auc', 'min_data_in_leaf': 79, 'n_jobs': -1, 'num_leaves': 11, 'num_round': 3000, 'objective': 'binary'}\n",
      " 73%|█████████████████████████████████▋            | 110/150 [1:38:10<31:50, 47.77s/it, best loss: 0.04173368583042114]"
     ]
    },
    {
     "name": "stderr",
     "output_type": "stream",
     "text": [
      "C:\\Users\\tslow\\Anaconda3\\lib\\site-packages\\lightgbm\\engine.py:113: UserWarning: Found `num_round` in params. Will use it instead of argument\n",
      "  warnings.warn(\"Found `{}` in params. Will use it instead of argument\".format(alias))\n",
      "\n"
     ]
    },
    {
     "name": "stdout",
     "output_type": "stream",
     "text": [
      "Training until validation scores don't improve for 400 rounds.                                                         \n",
      "[1000]\ttraining's auc: 0.927769\tvalid_1's auc: 0.89228                                                                 \n",
      "[2000]\ttraining's auc: 0.947418\tvalid_1's auc: 0.89631                                                                 \n",
      "Early stopping, best iteration is:                                                                                     \n",
      "[2482]\ttraining's auc: 0.954998\tvalid_1's auc: 0.896658\n",
      "corrected params: {'bagging_fraction': 0.841688182386854, 'bagging_freq': 5, 'boosting_type': 'gbdt', 'feature_fraction': 0.05918667917131853, 'learning_rate': 0.04, 'max_depth': -1, 'metric': 'auc', 'min_data_in_leaf': 78, 'n_jobs': -1, 'num_leaves': 15, 'num_round': 3000, 'objective': 'binary'}\n",
      " 74%|██████████████████████████████████            | 111/150 [1:39:11<33:31, 51.59s/it, best loss: 0.04173368583042114]"
     ]
    },
    {
     "name": "stderr",
     "output_type": "stream",
     "text": [
      "C:\\Users\\tslow\\Anaconda3\\lib\\site-packages\\lightgbm\\engine.py:113: UserWarning: Found `num_round` in params. Will use it instead of argument\n",
      "  warnings.warn(\"Found `{}` in params. Will use it instead of argument\".format(alias))\n",
      "\n"
     ]
    },
    {
     "name": "stdout",
     "output_type": "stream",
     "text": [
      "Training until validation scores don't improve for 400 rounds.                                                         \n",
      "[1000]\ttraining's auc: 0.934845\tvalid_1's auc: 0.893498                                                                \n",
      "[2000]\ttraining's auc: 0.956544\tvalid_1's auc: 0.8965                                                                  \n",
      "Early stopping, best iteration is:                                                                                     \n",
      "[2368]\ttraining's auc: 0.962892\tvalid_1's auc: 0.896578\n",
      "corrected params: {'bagging_fraction': 0.7755883925843395, 'bagging_freq': 4, 'boosting_type': 'gbdt', 'feature_fraction': 0.11619997622598302, 'learning_rate': 0.04, 'max_depth': -1, 'metric': 'auc', 'min_data_in_leaf': 85, 'n_jobs': -1, 'num_leaves': 19, 'num_round': 3000, 'objective': 'binary'}\n",
      " 75%|██████████████████████████████████▎           | 112/150 [1:40:09<33:57, 53.62s/it, best loss: 0.04173368583042114]"
     ]
    },
    {
     "name": "stderr",
     "output_type": "stream",
     "text": [
      "C:\\Users\\tslow\\Anaconda3\\lib\\site-packages\\lightgbm\\engine.py:113: UserWarning: Found `num_round` in params. Will use it instead of argument\n",
      "  warnings.warn(\"Found `{}` in params. Will use it instead of argument\".format(alias))\n",
      "\n"
     ]
    },
    {
     "name": "stdout",
     "output_type": "stream",
     "text": [
      "Training until validation scores don't improve for 400 rounds.                                                         \n",
      "[1000]\ttraining's auc: 0.948135\tvalid_1's auc: 0.894104                                                                \n",
      "[2000]\ttraining's auc: 0.973172\tvalid_1's auc: 0.895511                                                                \n",
      "Early stopping, best iteration is:                                                                                     \n",
      "[2230]\ttraining's auc: 0.977328\tvalid_1's auc: 0.895585\n",
      "corrected params: {'bagging_fraction': 0.7079424319182773, 'bagging_freq': 3, 'boosting_type': 'gbdt', 'feature_fraction': 0.130019030585349, 'learning_rate': 0.04, 'max_depth': -1, 'metric': 'auc', 'min_data_in_leaf': 85, 'n_jobs': -1, 'num_leaves': 18, 'num_round': 3000, 'objective': 'binary'}\n",
      " 75%|██████████████████████████████████▋           | 113/150 [1:41:15<35:24, 57.41s/it, best loss: 0.04062706349138234]"
     ]
    },
    {
     "name": "stderr",
     "output_type": "stream",
     "text": [
      "C:\\Users\\tslow\\Anaconda3\\lib\\site-packages\\lightgbm\\engine.py:113: UserWarning: Found `num_round` in params. Will use it instead of argument\n",
      "  warnings.warn(\"Found `{}` in params. Will use it instead of argument\".format(alias))\n",
      "\n"
     ]
    },
    {
     "name": "stdout",
     "output_type": "stream",
     "text": [
      "Training until validation scores don't improve for 400 rounds.                                                         \n",
      "[1000]\ttraining's auc: 0.946718\tvalid_1's auc: 0.893941                                                                \n",
      "[2000]\ttraining's auc: 0.971534\tvalid_1's auc: 0.895635                                                                \n",
      "Early stopping, best iteration is:                                                                                     \n",
      "[1857]\ttraining's auc: 0.968673\tvalid_1's auc: 0.895891\n",
      "corrected params: {'bagging_fraction': 0.7702331015363936, 'bagging_freq': 3, 'boosting_type': 'gbdt', 'feature_fraction': 0.16348739420860814, 'learning_rate': 0.04, 'max_depth': -1, 'metric': 'auc', 'min_data_in_leaf': 84, 'n_jobs': -1, 'num_leaves': 20, 'num_round': 3000, 'objective': 'binary'}\n",
      " 76%|██████████████████████████████████▉           | 114/150 [1:42:17<35:09, 58.60s/it, best loss: 0.04062706349138234]"
     ]
    },
    {
     "name": "stderr",
     "output_type": "stream",
     "text": [
      "C:\\Users\\tslow\\Anaconda3\\lib\\site-packages\\lightgbm\\engine.py:113: UserWarning: Found `num_round` in params. Will use it instead of argument\n",
      "  warnings.warn(\"Found `{}` in params. Will use it instead of argument\".format(alias))\n",
      "\n"
     ]
    },
    {
     "name": "stdout",
     "output_type": "stream",
     "text": [
      "Training until validation scores don't improve for 400 rounds.                                                         \n",
      "[1000]\ttraining's auc: 0.952135\tvalid_1's auc: 0.89362                                                                 \n",
      "Early stopping, best iteration is:                                                                                     \n",
      "[1390]\ttraining's auc: 0.963928\tvalid_1's auc: 0.894886\n",
      "corrected params: {'bagging_fraction': 0.7290121433621811, 'bagging_freq': 3, 'boosting_type': 'gbdt', 'feature_fraction': 0.15571546256380808, 'learning_rate': 0.04, 'max_depth': -1, 'metric': 'auc', 'min_data_in_leaf': 85, 'n_jobs': -1, 'num_leaves': 10, 'num_round': 3000, 'objective': 'binary'}\n",
      " 77%|███████████████████████████████████▎          | 115/150 [1:43:11<33:24, 57.27s/it, best loss: 0.04062706349138234]"
     ]
    },
    {
     "name": "stderr",
     "output_type": "stream",
     "text": [
      "C:\\Users\\tslow\\Anaconda3\\lib\\site-packages\\lightgbm\\engine.py:113: UserWarning: Found `num_round` in params. Will use it instead of argument\n",
      "  warnings.warn(\"Found `{}` in params. Will use it instead of argument\".format(alias))\n",
      "\n"
     ]
    },
    {
     "name": "stdout",
     "output_type": "stream",
     "text": [
      "Training until validation scores don't improve for 400 rounds.                                                         \n",
      "[1000]\ttraining's auc: 0.926391\tvalid_1's auc: 0.891514                                                                \n",
      "[2000]\ttraining's auc: 0.945547\tvalid_1's auc: 0.895639                                                                \n",
      "Early stopping, best iteration is:                                                                                     \n",
      "[2487]\ttraining's auc: 0.95308\tvalid_1's auc: 0.895917\n",
      "corrected params: {'bagging_fraction': 0.6872419278416855, 'bagging_freq': 4, 'boosting_type': 'gbdt', 'feature_fraction': 0.11563179495579964, 'learning_rate': 0.04, 'max_depth': -1, 'metric': 'auc', 'min_data_in_leaf': 85, 'n_jobs': -1, 'num_leaves': 19, 'num_round': 3000, 'objective': 'binary'}\n",
      " 77%|███████████████████████████████████▌          | 116/150 [1:44:21<34:36, 61.07s/it, best loss: 0.04062706349138234]"
     ]
    },
    {
     "name": "stderr",
     "output_type": "stream",
     "text": [
      "C:\\Users\\tslow\\Anaconda3\\lib\\site-packages\\lightgbm\\engine.py:113: UserWarning: Found `num_round` in params. Will use it instead of argument\n",
      "  warnings.warn(\"Found `{}` in params. Will use it instead of argument\".format(alias))\n",
      "\n"
     ]
    },
    {
     "name": "stdout",
     "output_type": "stream",
     "text": [
      "Training until validation scores don't improve for 400 rounds.                                                         \n",
      "[1000]\ttraining's auc: 0.94757\tvalid_1's auc: 0.893456                                                                 \n",
      "[2000]\ttraining's auc: 0.972723\tvalid_1's auc: 0.894804                                                                \n",
      "Early stopping, best iteration is:                                                                                     \n",
      "[2144]\ttraining's auc: 0.975524\tvalid_1's auc: 0.894909\n",
      "corrected params: {'bagging_fraction': 0.5523175209153673, 'bagging_freq': 4, 'boosting_type': 'gbdt', 'feature_fraction': 0.100444614538278, 'learning_rate': 0.04, 'max_depth': -1, 'metric': 'auc', 'min_data_in_leaf': 85, 'n_jobs': -1, 'num_leaves': 16, 'num_round': 3000, 'objective': 'binary'}\n",
      " 78%|███████████████████████████████████▉          | 117/150 [1:45:23<33:41, 61.25s/it, best loss: 0.04062706349138234]"
     ]
    },
    {
     "name": "stderr",
     "output_type": "stream",
     "text": [
      "C:\\Users\\tslow\\Anaconda3\\lib\\site-packages\\lightgbm\\engine.py:113: UserWarning: Found `num_round` in params. Will use it instead of argument\n",
      "  warnings.warn(\"Found `{}` in params. Will use it instead of argument\".format(alias))\n",
      "\n"
     ]
    },
    {
     "name": "stdout",
     "output_type": "stream",
     "text": [
      "Training until validation scores don't improve for 400 rounds.                                                         \n",
      "[1000]\ttraining's auc: 0.939097\tvalid_1's auc: 0.893814                                                                \n",
      "[2000]\ttraining's auc: 0.962819\tvalid_1's auc: 0.895868                                                                \n",
      "Early stopping, best iteration is:                                                                                     \n",
      "[1761]\ttraining's auc: 0.957972\tvalid_1's auc: 0.896022\n",
      "corrected params: {'bagging_fraction': 0.6806378914482256, 'bagging_freq': 4, 'boosting_type': 'gbdt', 'feature_fraction': 0.1414094159740858, 'learning_rate': 0.04, 'max_depth': -1, 'metric': 'auc', 'min_data_in_leaf': 85, 'n_jobs': -1, 'num_leaves': 17, 'num_round': 3000, 'objective': 'binary'}\n",
      " 79%|████████████████████████████████████▏         | 118/150 [1:46:08<30:07, 56.48s/it, best loss: 0.04062706349138234]"
     ]
    },
    {
     "name": "stderr",
     "output_type": "stream",
     "text": [
      "C:\\Users\\tslow\\Anaconda3\\lib\\site-packages\\lightgbm\\engine.py:113: UserWarning: Found `num_round` in params. Will use it instead of argument\n",
      "  warnings.warn(\"Found `{}` in params. Will use it instead of argument\".format(alias))\n",
      "\n"
     ]
    },
    {
     "name": "stdout",
     "output_type": "stream",
     "text": [
      "Training until validation scores don't improve for 400 rounds.                                                         \n",
      "[1000]\ttraining's auc: 0.944559\tvalid_1's auc: 0.892581                                                                \n",
      "[2000]\ttraining's auc: 0.969193\tvalid_1's auc: 0.894021                                                                \n",
      "Early stopping, best iteration is:                                                                                     \n",
      "[1650]\ttraining's auc: 0.961595\tvalid_1's auc: 0.894235\n",
      "corrected params: {'bagging_fraction': 0.5766349117694445, 'bagging_freq': 3, 'boosting_type': 'gbdt', 'feature_fraction': 0.1360213425936279, 'learning_rate': 0.04, 'max_depth': -1, 'metric': 'auc', 'min_data_in_leaf': 84, 'n_jobs': -1, 'num_leaves': 18, 'num_round': 3000, 'objective': 'binary'}\n",
      " 79%|████████████████████████████████████▍         | 119/150 [1:46:58<28:08, 54.46s/it, best loss: 0.04062706349138234]"
     ]
    },
    {
     "name": "stderr",
     "output_type": "stream",
     "text": [
      "C:\\Users\\tslow\\Anaconda3\\lib\\site-packages\\lightgbm\\engine.py:113: UserWarning: Found `num_round` in params. Will use it instead of argument\n",
      "  warnings.warn(\"Found `{}` in params. Will use it instead of argument\".format(alias))\n",
      "\n"
     ]
    },
    {
     "name": "stdout",
     "output_type": "stream",
     "text": [
      "Training until validation scores don't improve for 400 rounds.                                                         \n",
      "[1000]\ttraining's auc: 0.945513\tvalid_1's auc: 0.8937                                                                  \n",
      "Early stopping, best iteration is:                                                                                     \n",
      "[1538]\ttraining's auc: 0.96068\tvalid_1's auc: 0.895076\n",
      "corrected params: {'bagging_fraction': 0.5064029856034118, 'bagging_freq': 4, 'boosting_type': 'gbdt', 'feature_fraction': 0.11725937253160723, 'learning_rate': 0.04, 'max_depth': -1, 'metric': 'auc', 'min_data_in_leaf': 85, 'n_jobs': -1, 'num_leaves': 19, 'num_round': 3000, 'objective': 'binary'}\n",
      " 80%|████████████████████████████████████▊         | 120/150 [1:47:45<26:08, 52.29s/it, best loss: 0.04062706349138234]"
     ]
    },
    {
     "name": "stderr",
     "output_type": "stream",
     "text": [
      "C:\\Users\\tslow\\Anaconda3\\lib\\site-packages\\lightgbm\\engine.py:113: UserWarning: Found `num_round` in params. Will use it instead of argument\n",
      "  warnings.warn(\"Found `{}` in params. Will use it instead of argument\".format(alias))\n",
      "\n"
     ]
    },
    {
     "name": "stdout",
     "output_type": "stream",
     "text": [
      "Training until validation scores don't improve for 400 rounds.                                                         \n",
      "[1000]\ttraining's auc: 0.946484\tvalid_1's auc: 0.893907                                                                \n",
      "[2000]\ttraining's auc: 0.971945\tvalid_1's auc: 0.894439                                                                \n",
      "Early stopping, best iteration is:                                                                                     \n",
      "[1739]\ttraining's auc: 0.966373\tvalid_1's auc: 0.895093\n",
      "corrected params: {'bagging_fraction': 0.6094316371183315, 'bagging_freq': 3, 'boosting_type': 'gbdt', 'feature_fraction': 0.11236300314654976, 'learning_rate': 0.04, 'max_depth': -1, 'metric': 'auc', 'min_data_in_leaf': 85, 'n_jobs': -1, 'num_leaves': 16, 'num_round': 3000, 'objective': 'binary'}\n",
      " 81%|█████████████████████████████████████         | 121/150 [1:48:34<24:45, 51.23s/it, best loss: 0.04062706349138234]"
     ]
    },
    {
     "name": "stderr",
     "output_type": "stream",
     "text": [
      "C:\\Users\\tslow\\Anaconda3\\lib\\site-packages\\lightgbm\\engine.py:113: UserWarning: Found `num_round` in params. Will use it instead of argument\n",
      "  warnings.warn(\"Found `{}` in params. Will use it instead of argument\".format(alias))\n",
      "\n"
     ]
    },
    {
     "name": "stdout",
     "output_type": "stream",
     "text": [
      "Training until validation scores don't improve for 400 rounds.                                                         \n",
      "[1000]\ttraining's auc: 0.940404\tvalid_1's auc: 0.894488                                                                \n",
      "[2000]\ttraining's auc: 0.964207\tvalid_1's auc: 0.895793                                                                \n",
      "Early stopping, best iteration is:                                                                                     \n",
      "[1631]\ttraining's auc: 0.956529\tvalid_1's auc: 0.896154\n",
      "corrected params: {'bagging_fraction': 0.6280863575580861, 'bagging_freq': 4, 'boosting_type': 'gbdt', 'feature_fraction': 0.10595243505967948, 'learning_rate': 0.04, 'max_depth': -1, 'metric': 'auc', 'min_data_in_leaf': 84, 'n_jobs': -1, 'num_leaves': 17, 'num_round': 3000, 'objective': 'binary'}\n",
      " 81%|█████████████████████████████████████▍        | 122/150 [1:49:23<23:41, 50.77s/it, best loss: 0.04062706349138234]"
     ]
    },
    {
     "name": "stderr",
     "output_type": "stream",
     "text": [
      "C:\\Users\\tslow\\Anaconda3\\lib\\site-packages\\lightgbm\\engine.py:113: UserWarning: Found `num_round` in params. Will use it instead of argument\n",
      "  warnings.warn(\"Found `{}` in params. Will use it instead of argument\".format(alias))\n",
      "\n"
     ]
    },
    {
     "name": "stdout",
     "output_type": "stream",
     "text": [
      "Training until validation scores don't improve for 400 rounds.                                                         \n",
      "[1000]\ttraining's auc: 0.942532\tvalid_1's auc: 0.893779                                                                \n",
      "[2000]\ttraining's auc: 0.966745\tvalid_1's auc: 0.895184                                                                \n",
      "Early stopping, best iteration is:                                                                                     \n",
      "[1722]\ttraining's auc: 0.961024\tvalid_1's auc: 0.895323\n",
      "corrected params: {'bagging_fraction': 0.6456375372765378, 'bagging_freq': 3, 'boosting_type': 'gbdt', 'feature_fraction': 0.13366552894103506, 'learning_rate': 0.04, 'max_depth': -1, 'metric': 'auc', 'min_data_in_leaf': 84, 'n_jobs': -1, 'num_leaves': 18, 'num_round': 3000, 'objective': 'binary'}\n",
      " 82%|█████████████████████████████████████▋        | 123/150 [1:50:09<22:05, 49.10s/it, best loss: 0.04062706349138234]"
     ]
    },
    {
     "name": "stderr",
     "output_type": "stream",
     "text": [
      "C:\\Users\\tslow\\Anaconda3\\lib\\site-packages\\lightgbm\\engine.py:113: UserWarning: Found `num_round` in params. Will use it instead of argument\n",
      "  warnings.warn(\"Found `{}` in params. Will use it instead of argument\".format(alias))\n",
      "\n"
     ]
    },
    {
     "name": "stdout",
     "output_type": "stream",
     "text": [
      "Training until validation scores don't improve for 400 rounds.                                                         \n",
      "[1000]\ttraining's auc: 0.945886\tvalid_1's auc: 0.894174                                                                \n",
      "Early stopping, best iteration is:                                                                                     \n",
      "[1524]\ttraining's auc: 0.960519\tvalid_1's auc: 0.89556\n",
      "corrected params: {'bagging_fraction': 0.5650871391979366, 'bagging_freq': 4, 'boosting_type': 'gbdt', 'feature_fraction': 0.12419693568175429, 'learning_rate': 0.04, 'max_depth': -1, 'metric': 'auc', 'min_data_in_leaf': 85, 'n_jobs': -1, 'num_leaves': 14, 'num_round': 3000, 'objective': 'binary'}\n",
      " 83%|██████████████████████████████████████        | 124/150 [1:50:54<20:48, 48.02s/it, best loss: 0.04062706349138234]"
     ]
    },
    {
     "name": "stderr",
     "output_type": "stream",
     "text": [
      "C:\\Users\\tslow\\Anaconda3\\lib\\site-packages\\lightgbm\\engine.py:113: UserWarning: Found `num_round` in params. Will use it instead of argument\n",
      "  warnings.warn(\"Found `{}` in params. Will use it instead of argument\".format(alias))\n",
      "\n"
     ]
    },
    {
     "name": "stdout",
     "output_type": "stream",
     "text": [
      "Training until validation scores don't improve for 400 rounds.                                                         \n",
      "[1000]\ttraining's auc: 0.935585\tvalid_1's auc: 0.893242                                                                \n",
      "[2000]\ttraining's auc: 0.958245\tvalid_1's auc: 0.895253                                                                \n",
      "Early stopping, best iteration is:                                                                                     \n",
      "[2423]\ttraining's auc: 0.965628\tvalid_1's auc: 0.89544\n",
      "corrected params: {'bagging_fraction': 0.4749959688714889, 'bagging_freq': 3, 'boosting_type': 'gbdt', 'feature_fraction': 0.09328383097311468, 'learning_rate': 0.04, 'max_depth': -1, 'metric': 'auc', 'min_data_in_leaf': 84, 'n_jobs': -1, 'num_leaves': 15, 'num_round': 3000, 'objective': 'binary'}\n",
      " 83%|██████████████████████████████████████▎       | 125/150 [1:51:56<21:48, 52.33s/it, best loss: 0.04062706349138234]"
     ]
    },
    {
     "name": "stderr",
     "output_type": "stream",
     "text": [
      "C:\\Users\\tslow\\Anaconda3\\lib\\site-packages\\lightgbm\\engine.py:113: UserWarning: Found `num_round` in params. Will use it instead of argument\n",
      "  warnings.warn(\"Found `{}` in params. Will use it instead of argument\".format(alias))\n",
      "\n"
     ]
    },
    {
     "name": "stdout",
     "output_type": "stream",
     "text": [
      "Training until validation scores don't improve for 400 rounds.                                                         \n",
      "[1000]\ttraining's auc: 0.935856\tvalid_1's auc: 0.893982                                                                \n",
      "[2000]\ttraining's auc: 0.958573\tvalid_1's auc: 0.895216                                                                \n",
      "Early stopping, best iteration is:                                                                                     \n",
      "[1642]\ttraining's auc: 0.951468\tvalid_1's auc: 0.895704\n",
      "corrected params: {'bagging_fraction': 0.6898597264401777, 'bagging_freq': 4, 'boosting_type': 'gbdt', 'feature_fraction': 0.11348238512155255, 'learning_rate': 0.04, 'max_depth': -1, 'metric': 'auc', 'min_data_in_leaf': 83, 'n_jobs': -1, 'num_leaves': 19, 'num_round': 3000, 'objective': 'binary'}\n",
      " 84%|██████████████████████████████████████▋       | 126/150 [1:52:40<19:53, 49.72s/it, best loss: 0.04062706349138234]"
     ]
    },
    {
     "name": "stderr",
     "output_type": "stream",
     "text": [
      "C:\\Users\\tslow\\Anaconda3\\lib\\site-packages\\lightgbm\\engine.py:113: UserWarning: Found `num_round` in params. Will use it instead of argument\n",
      "  warnings.warn(\"Found `{}` in params. Will use it instead of argument\".format(alias))\n",
      "\n"
     ]
    },
    {
     "name": "stdout",
     "output_type": "stream",
     "text": [
      "Training until validation scores don't improve for 400 rounds.                                                         \n",
      "[1000]\ttraining's auc: 0.947346\tvalid_1's auc: 0.893086                                                                \n",
      "[2000]\ttraining's auc: 0.972354\tvalid_1's auc: 0.89448                                                                 \n",
      "Early stopping, best iteration is:                                                                                     \n",
      "[1636]\ttraining's auc: 0.964669\tvalid_1's auc: 0.894572\n",
      "corrected params: {'bagging_fraction': 0.7779234373213019, 'bagging_freq': 5, 'boosting_type': 'gbdt', 'feature_fraction': 0.14358789023772808, 'learning_rate': 0.04, 'max_depth': -1, 'metric': 'auc', 'min_data_in_leaf': 85, 'n_jobs': -1, 'num_leaves': 12, 'num_round': 3000, 'objective': 'binary'}\n",
      " 85%|██████████████████████████████████████▉       | 127/150 [1:53:29<18:56, 49.41s/it, best loss: 0.04062706349138234]"
     ]
    },
    {
     "name": "stderr",
     "output_type": "stream",
     "text": [
      "C:\\Users\\tslow\\Anaconda3\\lib\\site-packages\\lightgbm\\engine.py:113: UserWarning: Found `num_round` in params. Will use it instead of argument\n",
      "  warnings.warn(\"Found `{}` in params. Will use it instead of argument\".format(alias))\n",
      "\n"
     ]
    },
    {
     "name": "stdout",
     "output_type": "stream",
     "text": [
      "Training until validation scores don't improve for 400 rounds.                                                         \n",
      "[1000]\ttraining's auc: 0.932133\tvalid_1's auc: 0.891844                                                                \n",
      "[2000]\ttraining's auc: 0.953391\tvalid_1's auc: 0.895632                                                                \n",
      "Early stopping, best iteration is:                                                                                     \n",
      "[2118]\ttraining's auc: 0.955407\tvalid_1's auc: 0.895749\n",
      "corrected params: {'bagging_fraction': 0.6606394624642142, 'bagging_freq': 3, 'boosting_type': 'gbdt', 'feature_fraction': 0.09720381762415367, 'learning_rate': 0.04, 'max_depth': -1, 'metric': 'auc', 'min_data_in_leaf': 84, 'n_jobs': -1, 'num_leaves': 19, 'num_round': 3000, 'objective': 'binary'}\n",
      " 85%|███████████████████████████████████████▎      | 128/150 [1:54:27<19:02, 51.95s/it, best loss: 0.04062706349138234]"
     ]
    },
    {
     "name": "stderr",
     "output_type": "stream",
     "text": [
      "C:\\Users\\tslow\\Anaconda3\\lib\\site-packages\\lightgbm\\engine.py:113: UserWarning: Found `num_round` in params. Will use it instead of argument\n",
      "  warnings.warn(\"Found `{}` in params. Will use it instead of argument\".format(alias))\n",
      "\n"
     ]
    },
    {
     "name": "stdout",
     "output_type": "stream",
     "text": [
      "Training until validation scores don't improve for 400 rounds.                                                         \n",
      "[1000]\ttraining's auc: 0.946232\tvalid_1's auc: 0.894074                                                                \n",
      "[2000]\ttraining's auc: 0.971065\tvalid_1's auc: 0.895595                                                                \n",
      "Early stopping, best iteration is:                                                                                     \n",
      "[1620]\ttraining's auc: 0.963104\tvalid_1's auc: 0.895798\n",
      "corrected params: {'bagging_fraction': 0.7341785122932016, 'bagging_freq': 4, 'boosting_type': 'gbdt', 'feature_fraction': 0.10399352827295102, 'learning_rate': 0.04, 'max_depth': -1, 'metric': 'auc', 'min_data_in_leaf': 83, 'n_jobs': -1, 'num_leaves': 16, 'num_round': 3000, 'objective': 'binary'}\n",
      " 86%|███████████████████████████████████████▌      | 129/150 [1:55:16<17:53, 51.10s/it, best loss: 0.04062706349138234]"
     ]
    },
    {
     "name": "stderr",
     "output_type": "stream",
     "text": [
      "C:\\Users\\tslow\\Anaconda3\\lib\\site-packages\\lightgbm\\engine.py:113: UserWarning: Found `num_round` in params. Will use it instead of argument\n",
      "  warnings.warn(\"Found `{}` in params. Will use it instead of argument\".format(alias))\n",
      "\n"
     ]
    },
    {
     "name": "stdout",
     "output_type": "stream",
     "text": [
      "Training until validation scores don't improve for 400 rounds.                                                         \n",
      "[1000]\ttraining's auc: 0.940323\tvalid_1's auc: 0.893664                                                                \n",
      "[2000]\ttraining's auc: 0.963915\tvalid_1's auc: 0.895927                                                                \n",
      "Early stopping, best iteration is:                                                                                     \n",
      "[1910]\ttraining's auc: 0.962069\tvalid_1's auc: 0.896082\n",
      "corrected params: {'bagging_fraction': 0.7144525133289223, 'bagging_freq': 5, 'boosting_type': 'gbdt', 'feature_fraction': 0.08418290247078625, 'learning_rate': 0.04, 'max_depth': -1, 'metric': 'auc', 'min_data_in_leaf': 85, 'n_jobs': -1, 'num_leaves': 17, 'num_round': 3000, 'objective': 'binary'}\n",
      " 87%|███████████████████████████████████████▊      | 130/150 [1:56:08<17:08, 51.43s/it, best loss: 0.04062706349138234]"
     ]
    },
    {
     "name": "stderr",
     "output_type": "stream",
     "text": [
      "C:\\Users\\tslow\\Anaconda3\\lib\\site-packages\\lightgbm\\engine.py:113: UserWarning: Found `num_round` in params. Will use it instead of argument\n",
      "  warnings.warn(\"Found `{}` in params. Will use it instead of argument\".format(alias))\n",
      "\n"
     ]
    },
    {
     "name": "stdout",
     "output_type": "stream",
     "text": [
      "Training until validation scores don't improve for 400 rounds.                                                         \n",
      "[1000]\ttraining's auc: 0.940989\tvalid_1's auc: 0.894218                                                                \n",
      "[2000]\ttraining's auc: 0.964657\tvalid_1's auc: 0.896148                                                                \n",
      "Early stopping, best iteration is:                                                                                     \n",
      "[1855]\ttraining's auc: 0.961805\tvalid_1's auc: 0.896298\n",
      "corrected params: {'bagging_fraction': 0.5401433976681287, 'bagging_freq': 4, 'boosting_type': 'gbdt', 'feature_fraction': 0.12842427682567853, 'learning_rate': 0.04, 'max_depth': -1, 'metric': 'auc', 'min_data_in_leaf': 84, 'n_jobs': -1, 'num_leaves': 18, 'num_round': 3000, 'objective': 'binary'}\n",
      " 87%|████████████████████████████████████████▏     | 131/150 [1:56:56<15:55, 50.28s/it, best loss: 0.04062706349138234]"
     ]
    },
    {
     "name": "stderr",
     "output_type": "stream",
     "text": [
      "C:\\Users\\tslow\\Anaconda3\\lib\\site-packages\\lightgbm\\engine.py:113: UserWarning: Found `num_round` in params. Will use it instead of argument\n",
      "  warnings.warn(\"Found `{}` in params. Will use it instead of argument\".format(alias))\n",
      "\n"
     ]
    },
    {
     "name": "stdout",
     "output_type": "stream",
     "text": [
      "Training until validation scores don't improve for 400 rounds.                                                         \n",
      "[1000]\ttraining's auc: 0.945193\tvalid_1's auc: 0.89424                                                                 \n",
      "Early stopping, best iteration is:                                                                                     \n",
      "[1443]\ttraining's auc: 0.957198\tvalid_1's auc: 0.895009\n",
      "corrected params: {'bagging_fraction': 0.85330579545727, 'bagging_freq': 3, 'boosting_type': 'gbdt', 'feature_fraction': 0.11990137474906185, 'learning_rate': 0.04, 'max_depth': -1, 'metric': 'auc', 'min_data_in_leaf': 83, 'n_jobs': -1, 'num_leaves': 20, 'num_round': 3000, 'objective': 'binary'}\n",
      " 88%|████████████████████████████████████████▍     | 132/150 [1:57:38<14:21, 47.88s/it, best loss: 0.04062706349138234]"
     ]
    },
    {
     "name": "stderr",
     "output_type": "stream",
     "text": [
      "C:\\Users\\tslow\\Anaconda3\\lib\\site-packages\\lightgbm\\engine.py:113: UserWarning: Found `num_round` in params. Will use it instead of argument\n",
      "  warnings.warn(\"Found `{}` in params. Will use it instead of argument\".format(alias))\n",
      "\n"
     ]
    },
    {
     "name": "stdout",
     "output_type": "stream",
     "text": [
      "Training until validation scores don't improve for 400 rounds.                                                         \n",
      "[1000]\ttraining's auc: 0.950603\tvalid_1's auc: 0.894449                                                                \n",
      "[2000]\ttraining's auc: 0.97581\tvalid_1's auc: 0.896492                                                                 \n",
      "Early stopping, best iteration is:                                                                                     \n",
      "[1807]\ttraining's auc: 0.971893\tvalid_1's auc: 0.896669\n",
      "corrected params: {'bagging_fraction': 0.589279724525378, 'bagging_freq': 5, 'boosting_type': 'gbdt', 'feature_fraction': 0.14624825862456647, 'learning_rate': 0.04, 'max_depth': -1, 'metric': 'auc', 'min_data_in_leaf': 85, 'n_jobs': -1, 'num_leaves': 13, 'num_round': 3000, 'objective': 'binary'}\n",
      " 89%|████████████████████████████████████████▊     | 133/150 [1:58:39<14:43, 51.98s/it, best loss: 0.04062706349138234]"
     ]
    },
    {
     "name": "stderr",
     "output_type": "stream",
     "text": [
      "C:\\Users\\tslow\\Anaconda3\\lib\\site-packages\\lightgbm\\engine.py:113: UserWarning: Found `num_round` in params. Will use it instead of argument\n",
      "  warnings.warn(\"Found `{}` in params. Will use it instead of argument\".format(alias))\n",
      "\n"
     ]
    },
    {
     "name": "stdout",
     "output_type": "stream",
     "text": [
      "Training until validation scores don't improve for 400 rounds.                                                         \n",
      "[1000]\ttraining's auc: 0.934243\tvalid_1's auc: 0.893457                                                                \n",
      "[2000]\ttraining's auc: 0.956222\tvalid_1's auc: 0.895732                                                                \n",
      "Early stopping, best iteration is:                                                                                     \n",
      "[1707]\ttraining's auc: 0.950515\tvalid_1's auc: 0.895859\n",
      "corrected params: {'bagging_fraction': 0.7568711946200093, 'bagging_freq': 3, 'boosting_type': 'gbdt', 'feature_fraction': 0.1509854033153052, 'learning_rate': 0.04, 'max_depth': -1, 'metric': 'auc', 'min_data_in_leaf': 78, 'n_jobs': -1, 'num_leaves': 20, 'num_round': 3000, 'objective': 'binary'}\n",
      " 89%|█████████████████████████████████████████     | 134/150 [1:59:28<13:36, 51.01s/it, best loss: 0.04062706349138234]"
     ]
    },
    {
     "name": "stderr",
     "output_type": "stream",
     "text": [
      "C:\\Users\\tslow\\Anaconda3\\lib\\site-packages\\lightgbm\\engine.py:113: UserWarning: Found `num_round` in params. Will use it instead of argument\n",
      "  warnings.warn(\"Found `{}` in params. Will use it instead of argument\".format(alias))\n",
      "\n"
     ]
    },
    {
     "name": "stdout",
     "output_type": "stream",
     "text": [
      "Training until validation scores don't improve for 400 rounds.                                                         \n",
      "[1000]\ttraining's auc: 0.951974\tvalid_1's auc: 0.893659                                                                \n",
      "Early stopping, best iteration is:                                                                                     \n",
      "[1312]\ttraining's auc: 0.961595\tvalid_1's auc: 0.894786\n",
      "corrected params: {'bagging_fraction': 0.8205937634018066, 'bagging_freq': 4, 'boosting_type': 'gbdt', 'feature_fraction': 0.0895021281428163, 'learning_rate': 0.04, 'max_depth': -1, 'metric': 'auc', 'min_data_in_leaf': 84, 'n_jobs': -1, 'num_leaves': 19, 'num_round': 3000, 'objective': 'binary'}\n",
      " 90%|█████████████████████████████████████████▍    | 135/150 [2:00:18<12:40, 50.71s/it, best loss: 0.04062706349138234]"
     ]
    },
    {
     "name": "stderr",
     "output_type": "stream",
     "text": [
      "C:\\Users\\tslow\\Anaconda3\\lib\\site-packages\\lightgbm\\engine.py:113: UserWarning: Found `num_round` in params. Will use it instead of argument\n",
      "  warnings.warn(\"Found `{}` in params. Will use it instead of argument\".format(alias))\n",
      "\n"
     ]
    },
    {
     "name": "stdout",
     "output_type": "stream",
     "text": [
      "Training until validation scores don't improve for 400 rounds.                                                         \n",
      "[1000]\ttraining's auc: 0.945942\tvalid_1's auc: 0.894189                                                                \n",
      "[2000]\ttraining's auc: 0.970792\tvalid_1's auc: 0.895858                                                                \n",
      "Early stopping, best iteration is:                                                                                     \n",
      "[2015]\ttraining's auc: 0.971052\tvalid_1's auc: 0.895893\n",
      "corrected params: {'bagging_fraction': 0.7933946616125237, 'bagging_freq': 5, 'boosting_type': 'gbdt', 'feature_fraction': 0.07016379420839164, 'learning_rate': 0.04, 'max_depth': -1, 'metric': 'auc', 'min_data_in_leaf': 85, 'n_jobs': -1, 'num_leaves': 17, 'num_round': 3000, 'objective': 'binary'}\n",
      " 91%|█████████████████████████████████████████▋    | 136/150 [2:01:16<12:18, 52.74s/it, best loss: 0.04062706349138234]"
     ]
    },
    {
     "name": "stderr",
     "output_type": "stream",
     "text": [
      "C:\\Users\\tslow\\Anaconda3\\lib\\site-packages\\lightgbm\\engine.py:113: UserWarning: Found `num_round` in params. Will use it instead of argument\n",
      "  warnings.warn(\"Found `{}` in params. Will use it instead of argument\".format(alias))\n",
      "\n"
     ]
    },
    {
     "name": "stdout",
     "output_type": "stream",
     "text": [
      "Training until validation scores don't improve for 400 rounds.                                                         \n",
      "[1000]\ttraining's auc: 0.940074\tvalid_1's auc: 0.893569                                                                \n",
      "[2000]\ttraining's auc: 0.963972\tvalid_1's auc: 0.895725                                                                \n",
      "Early stopping, best iteration is:                                                                                     \n",
      "[2057]\ttraining's auc: 0.965014\tvalid_1's auc: 0.895792\n",
      "corrected params: {'bagging_fraction': 0.6754982279540513, 'bagging_freq': 4, 'boosting_type': 'gbdt', 'feature_fraction': 0.07545831538454632, 'learning_rate': 0.04, 'max_depth': -1, 'metric': 'auc', 'min_data_in_leaf': 77, 'n_jobs': -1, 'num_leaves': 18, 'num_round': 3000, 'objective': 'binary'}\n",
      " 91%|██████████████████████████████████████████    | 137/150 [2:02:09<11:29, 53.06s/it, best loss: 0.04062706349138234]"
     ]
    },
    {
     "name": "stderr",
     "output_type": "stream",
     "text": [
      "C:\\Users\\tslow\\Anaconda3\\lib\\site-packages\\lightgbm\\engine.py:113: UserWarning: Found `num_round` in params. Will use it instead of argument\n",
      "  warnings.warn(\"Found `{}` in params. Will use it instead of argument\".format(alias))\n",
      "\n"
     ]
    },
    {
     "name": "stdout",
     "output_type": "stream",
     "text": [
      "Training until validation scores don't improve for 400 rounds.                                                         \n",
      "[1000]\ttraining's auc: 0.942758\tvalid_1's auc: 0.894243                                                                \n",
      "[2000]\ttraining's auc: 0.967287\tvalid_1's auc: 0.896327                                                                \n",
      "Early stopping, best iteration is:                                                                                     \n",
      "[1865]\ttraining's auc: 0.964532\tvalid_1's auc: 0.89654\n",
      "corrected params: {'bagging_fraction': 0.4198490769546408, 'bagging_freq': 5, 'boosting_type': 'gbdt', 'feature_fraction': 0.09622648070019477, 'learning_rate': 0.04, 'max_depth': -1, 'metric': 'auc', 'min_data_in_leaf': 83, 'n_jobs': -1, 'num_leaves': 20, 'num_round': 3000, 'objective': 'binary'}\n",
      " 92%|██████████████████████████████████████████▎   | 138/150 [2:02:59<10:23, 52.00s/it, best loss: 0.04062706349138234]"
     ]
    },
    {
     "name": "stderr",
     "output_type": "stream",
     "text": [
      "C:\\Users\\tslow\\Anaconda3\\lib\\site-packages\\lightgbm\\engine.py:113: UserWarning: Found `num_round` in params. Will use it instead of argument\n",
      "  warnings.warn(\"Found `{}` in params. Will use it instead of argument\".format(alias))\n",
      "\n"
     ]
    },
    {
     "name": "stdout",
     "output_type": "stream",
     "text": [
      "Training until validation scores don't improve for 400 rounds.                                                         \n",
      "[1000]\ttraining's auc: 0.946559\tvalid_1's auc: 0.893731                                                                \n",
      "Early stopping, best iteration is:                                                                                     \n",
      "[1440]\ttraining's auc: 0.959116\tvalid_1's auc: 0.894821\n",
      "corrected params: {'bagging_fraction': 0.8058001045969183, 'bagging_freq': 3, 'boosting_type': 'gbdt', 'feature_fraction': 0.10771069041136508, 'learning_rate': 0.04, 'max_depth': -1, 'metric': 'auc', 'min_data_in_leaf': 82, 'n_jobs': -1, 'num_leaves': 19, 'num_round': 3000, 'objective': 'binary'}\n",
      " 93%|██████████████████████████████████████████▋   | 139/150 [2:03:37<08:45, 47.79s/it, best loss: 0.04062706349138234]"
     ]
    },
    {
     "name": "stderr",
     "output_type": "stream",
     "text": [
      "C:\\Users\\tslow\\Anaconda3\\lib\\site-packages\\lightgbm\\engine.py:113: UserWarning: Found `num_round` in params. Will use it instead of argument\n",
      "  warnings.warn(\"Found `{}` in params. Will use it instead of argument\".format(alias))\n",
      "\n"
     ]
    },
    {
     "name": "stdout",
     "output_type": "stream",
     "text": [
      "Training until validation scores don't improve for 400 rounds.                                                         \n",
      "[1000]\ttraining's auc: 0.947425\tvalid_1's auc: 0.894167                                                                \n",
      "[2000]\ttraining's auc: 0.972746\tvalid_1's auc: 0.895433                                                                \n",
      "Early stopping, best iteration is:                                                                                     \n",
      "[1620]\ttraining's auc: 0.964537\tvalid_1's auc: 0.895865\n",
      "corrected params: {'bagging_fraction': 0.4992501192018781, 'bagging_freq': 4, 'boosting_type': 'gbdt', 'feature_fraction': 0.1160257069070495, 'learning_rate': 0.04, 'max_depth': -1, 'metric': 'auc', 'min_data_in_leaf': 83, 'n_jobs': -1, 'num_leaves': 18, 'num_round': 3000, 'objective': 'binary'}\n",
      " 93%|██████████████████████████████████████████▉   | 140/150 [2:04:31<08:16, 49.66s/it, best loss: 0.04062706349138234]"
     ]
    },
    {
     "name": "stderr",
     "output_type": "stream",
     "text": [
      "C:\\Users\\tslow\\Anaconda3\\lib\\site-packages\\lightgbm\\engine.py:113: UserWarning: Found `num_round` in params. Will use it instead of argument\n",
      "  warnings.warn(\"Found `{}` in params. Will use it instead of argument\".format(alias))\n",
      "\n"
     ]
    },
    {
     "name": "stdout",
     "output_type": "stream",
     "text": [
      "Training until validation scores don't improve for 400 rounds.                                                         \n",
      "[1000]\ttraining's auc: 0.94436\tvalid_1's auc: 0.89418                                                                  \n",
      "Early stopping, best iteration is:                                                                                     \n",
      "[1403]\ttraining's auc: 0.955951\tvalid_1's auc: 0.895515\n",
      "corrected params: {'bagging_fraction': 0.6553813312367833, 'bagging_freq': 5, 'boosting_type': 'gbdt', 'feature_fraction': 0.15685578014415863, 'learning_rate': 0.04, 'max_depth': -1, 'metric': 'auc', 'min_data_in_leaf': 84, 'n_jobs': -1, 'num_leaves': 16, 'num_round': 3000, 'objective': 'binary'}\n",
      " 94%|███████████████████████████████████████████▏  | 141/150 [2:05:09<06:55, 46.19s/it, best loss: 0.04062706349138234]"
     ]
    },
    {
     "name": "stderr",
     "output_type": "stream",
     "text": [
      "C:\\Users\\tslow\\Anaconda3\\lib\\site-packages\\lightgbm\\engine.py:113: UserWarning: Found `num_round` in params. Will use it instead of argument\n",
      "  warnings.warn(\"Found `{}` in params. Will use it instead of argument\".format(alias))\n",
      "\n"
     ]
    },
    {
     "name": "stdout",
     "output_type": "stream",
     "text": [
      "Training until validation scores don't improve for 400 rounds.                                                         \n",
      "[1000]\ttraining's auc: 0.942413\tvalid_1's auc: 0.893729                                                                \n",
      "Early stopping, best iteration is:                                                                                     \n",
      "[1403]\ttraining's auc: 0.953526\tvalid_1's auc: 0.895106\n",
      "corrected params: {'bagging_fraction': 0.5300417847828869, 'bagging_freq': 4, 'boosting_type': 'gbdt', 'feature_fraction': 0.10191998479905119, 'learning_rate': 0.04, 'max_depth': -1, 'metric': 'auc', 'min_data_in_leaf': 85, 'n_jobs': -1, 'num_leaves': 14, 'num_round': 3000, 'objective': 'binary'}\n",
      " 95%|███████████████████████████████████████████▌  | 142/150 [2:05:53<06:03, 45.46s/it, best loss: 0.04062706349138234]"
     ]
    },
    {
     "name": "stderr",
     "output_type": "stream",
     "text": [
      "C:\\Users\\tslow\\Anaconda3\\lib\\site-packages\\lightgbm\\engine.py:113: UserWarning: Found `num_round` in params. Will use it instead of argument\n",
      "  warnings.warn(\"Found `{}` in params. Will use it instead of argument\".format(alias))\n",
      "\n"
     ]
    },
    {
     "name": "stdout",
     "output_type": "stream",
     "text": [
      "Training until validation scores don't improve for 400 rounds.                                                         \n",
      "[1000]\ttraining's auc: 0.934699\tvalid_1's auc: 0.893907                                                                \n",
      "[2000]\ttraining's auc: 0.956755\tvalid_1's auc: 0.896562                                                                \n",
      "Early stopping, best iteration is:                                                                                     \n",
      "[1806]\ttraining's auc: 0.952949\tvalid_1's auc: 0.896802\n",
      "corrected params: {'bagging_fraction': 0.8325881779515855, 'bagging_freq': 3, 'boosting_type': 'gbdt', 'feature_fraction': 0.04854063807799379, 'learning_rate': 0.04, 'max_depth': -1, 'metric': 'auc', 'min_data_in_leaf': 83, 'n_jobs': -1, 'num_leaves': 17, 'num_round': 3000, 'objective': 'binary'}\n",
      " 95%|███████████████████████████████████████████▊  | 143/150 [2:06:38<05:17, 45.41s/it, best loss: 0.04062706349138234]"
     ]
    },
    {
     "name": "stderr",
     "output_type": "stream",
     "text": [
      "C:\\Users\\tslow\\Anaconda3\\lib\\site-packages\\lightgbm\\engine.py:113: UserWarning: Found `num_round` in params. Will use it instead of argument\n",
      "  warnings.warn(\"Found `{}` in params. Will use it instead of argument\".format(alias))\n",
      "\n"
     ]
    },
    {
     "name": "stdout",
     "output_type": "stream",
     "text": [
      "Training until validation scores don't improve for 400 rounds.                                                         \n",
      "[1000]\ttraining's auc: 0.937875\tvalid_1's auc: 0.894294                                                                \n",
      "[2000]\ttraining's auc: 0.960072\tvalid_1's auc: 0.896429                                                                \n",
      "Early stopping, best iteration is:                                                                                     \n",
      "[2076]\ttraining's auc: 0.961415\tvalid_1's auc: 0.896569\n",
      "corrected params: {'bagging_fraction': 0.6372091629978678, 'bagging_freq': 5, 'boosting_type': 'gbdt', 'feature_fraction': 0.08077342660294422, 'learning_rate': 0.04, 'max_depth': -1, 'metric': 'auc', 'min_data_in_leaf': 82, 'n_jobs': -1, 'num_leaves': 19, 'num_round': 3000, 'objective': 'binary'}\n",
      " 96%|████████████████████████████████████████████▏ | 144/150 [2:07:34<04:51, 48.56s/it, best loss: 0.04062706349138234]"
     ]
    },
    {
     "name": "stderr",
     "output_type": "stream",
     "text": [
      "C:\\Users\\tslow\\Anaconda3\\lib\\site-packages\\lightgbm\\engine.py:113: UserWarning: Found `num_round` in params. Will use it instead of argument\n",
      "  warnings.warn(\"Found `{}` in params. Will use it instead of argument\".format(alias))\n",
      "\n"
     ]
    },
    {
     "name": "stdout",
     "output_type": "stream",
     "text": [
      "Training until validation scores don't improve for 400 rounds.                                                         \n",
      "[1000]\ttraining's auc: 0.9449\tvalid_1's auc: 0.894034                                                                  \n",
      "[2000]\ttraining's auc: 0.969827\tvalid_1's auc: 0.895674                                                                \n",
      "Early stopping, best iteration is:                                                                                     \n",
      "[1888]\ttraining's auc: 0.967554\tvalid_1's auc: 0.895818\n",
      "corrected params: {'bagging_fraction': 0.8544692507745169, 'bagging_freq': 7, 'boosting_type': 'gbdt', 'feature_fraction': 0.1681578617328101, 'learning_rate': 0.04, 'max_depth': -1, 'metric': 'auc', 'min_data_in_leaf': 80, 'n_jobs': -1, 'num_leaves': 20, 'num_round': 3000, 'objective': 'binary'}\n",
      " 97%|████████████████████████████████████████████▍ | 145/150 [2:08:25<04:06, 49.38s/it, best loss: 0.04062706349138234]"
     ]
    },
    {
     "name": "stderr",
     "output_type": "stream",
     "text": [
      "C:\\Users\\tslow\\Anaconda3\\lib\\site-packages\\lightgbm\\engine.py:113: UserWarning: Found `num_round` in params. Will use it instead of argument\n",
      "  warnings.warn(\"Found `{}` in params. Will use it instead of argument\".format(alias))\n",
      "\n"
     ]
    },
    {
     "name": "stdout",
     "output_type": "stream",
     "text": [
      "Training until validation scores don't improve for 400 rounds.                                                         \n",
      "[1000]\ttraining's auc: 0.95355\tvalid_1's auc: 0.893462                                                                 \n",
      "[2000]\ttraining's auc: 0.978708\tvalid_1's auc: 0.894626                                                                \n",
      "Early stopping, best iteration is:                                                                                     \n",
      "[1731]\ttraining's auc: 0.973357\tvalid_1's auc: 0.895007\n",
      "corrected params: {'bagging_fraction': 0.8771816912046614, 'bagging_freq': 8, 'boosting_type': 'gbdt', 'feature_fraction': 0.17725965567952492, 'learning_rate': 0.04, 'max_depth': -1, 'metric': 'auc', 'min_data_in_leaf': 81, 'n_jobs': -1, 'num_leaves': 20, 'num_round': 3000, 'objective': 'binary'}\n",
      " 97%|████████████████████████████████████████████▊ | 146/150 [2:09:23<03:27, 51.77s/it, best loss: 0.04062706349138234]"
     ]
    },
    {
     "name": "stderr",
     "output_type": "stream",
     "text": [
      "C:\\Users\\tslow\\Anaconda3\\lib\\site-packages\\lightgbm\\engine.py:113: UserWarning: Found `num_round` in params. Will use it instead of argument\n",
      "  warnings.warn(\"Found `{}` in params. Will use it instead of argument\".format(alias))\n",
      "\n"
     ]
    },
    {
     "name": "stdout",
     "output_type": "stream",
     "text": [
      "Training until validation scores don't improve for 400 rounds.                                                         \n",
      "[1000]\ttraining's auc: 0.953804\tvalid_1's auc: 0.892981                                                                \n",
      "Early stopping, best iteration is:                                                                                     \n",
      "[1393]\ttraining's auc: 0.965475\tvalid_1's auc: 0.894527\n",
      "corrected params: {'bagging_fraction': 0.8890350043202997, 'bagging_freq': 7, 'boosting_type': 'gbdt', 'feature_fraction': 0.08650572205086848, 'learning_rate': 0.04, 'max_depth': -1, 'metric': 'auc', 'min_data_in_leaf': 82, 'n_jobs': -1, 'num_leaves': 20, 'num_round': 3000, 'objective': 'binary'}\n",
      " 98%|█████████████████████████████████████████████ | 147/150 [2:10:12<02:33, 51.02s/it, best loss: 0.04062706349138234]"
     ]
    },
    {
     "name": "stderr",
     "output_type": "stream",
     "text": [
      "C:\\Users\\tslow\\Anaconda3\\lib\\site-packages\\lightgbm\\engine.py:113: UserWarning: Found `num_round` in params. Will use it instead of argument\n",
      "  warnings.warn(\"Found `{}` in params. Will use it instead of argument\".format(alias))\n",
      "\n"
     ]
    },
    {
     "name": "stdout",
     "output_type": "stream",
     "text": [
      "Training until validation scores don't improve for 400 rounds.                                                         \n",
      "[1000]\ttraining's auc: 0.948216\tvalid_1's auc: 0.893799                                                                \n",
      "Early stopping, best iteration is:                                                                                     \n",
      "[1483]\ttraining's auc: 0.962158\tvalid_1's auc: 0.895594\n",
      "corrected params: {'bagging_fraction': 0.7465902585104937, 'bagging_freq': 8, 'boosting_type': 'gbdt', 'feature_fraction': 0.12484661093913012, 'learning_rate': 0.04, 'max_depth': -1, 'metric': 'auc', 'min_data_in_leaf': 79, 'n_jobs': -1, 'num_leaves': 19, 'num_round': 3000, 'objective': 'binary'}\n",
      " 99%|█████████████████████████████████████████████▍| 148/150 [2:10:53<01:36, 48.13s/it, best loss: 0.04062706349138234]"
     ]
    },
    {
     "name": "stderr",
     "output_type": "stream",
     "text": [
      "C:\\Users\\tslow\\Anaconda3\\lib\\site-packages\\lightgbm\\engine.py:113: UserWarning: Found `num_round` in params. Will use it instead of argument\n",
      "  warnings.warn(\"Found `{}` in params. Will use it instead of argument\".format(alias))\n",
      "\n"
     ]
    },
    {
     "name": "stdout",
     "output_type": "stream",
     "text": [
      "Training until validation scores don't improve for 400 rounds.                                                         \n",
      "[1000]\ttraining's auc: 0.948223\tvalid_1's auc: 0.893377                                                                \n",
      "[2000]\ttraining's auc: 0.973447\tvalid_1's auc: 0.895021                                                                \n",
      "Early stopping, best iteration is:                                                                                     \n",
      "[1616]\ttraining's auc: 0.965174\tvalid_1's auc: 0.895223\n",
      "corrected params: {'bagging_fraction': 0.8992580503177581, 'bagging_freq': 6, 'boosting_type': 'gbdt', 'feature_fraction': 0.13684603175864024, 'learning_rate': 0.04, 'max_depth': -1, 'metric': 'auc', 'min_data_in_leaf': 82, 'n_jobs': -1, 'num_leaves': 19, 'num_round': 3000, 'objective': 'binary'}\n",
      " 99%|█████████████████████████████████████████████▋| 149/150 [2:11:37<00:46, 46.95s/it, best loss: 0.04062706349138234]"
     ]
    },
    {
     "name": "stderr",
     "output_type": "stream",
     "text": [
      "C:\\Users\\tslow\\Anaconda3\\lib\\site-packages\\lightgbm\\engine.py:113: UserWarning: Found `num_round` in params. Will use it instead of argument\n",
      "  warnings.warn(\"Found `{}` in params. Will use it instead of argument\".format(alias))\n",
      "\n"
     ]
    },
    {
     "name": "stdout",
     "output_type": "stream",
     "text": [
      "Training until validation scores don't improve for 400 rounds.                                                         \n",
      "[1000]\ttraining's auc: 0.950139\tvalid_1's auc: 0.892696                                                                \n",
      "[2000]\ttraining's auc: 0.974902\tvalid_1's auc: 0.894597                                                                \n",
      "Early stopping, best iteration is:                                                                                     \n",
      "[2002]\ttraining's auc: 0.974949\tvalid_1's auc: 0.894612\n",
      "100%|██████████████████████████████████████████████| 150/150 [2:12:35<00:00, 50.14s/it, best loss: 0.04062706349138234]\n",
      "{'bagging_fraction': 0.7755883925843395, 'bagging_freq': 4.0, 'feature_fraction': 0.11619997622598302, 'min_data_in_leaf': 85.0, 'num_leaves': 19.0}\n"
     ]
    }
   ],
   "source": [
    "best_classifier = fmin(check_model,space,algo=tpe.suggest,max_evals=150)\n",
    "print(best_classifier)\n"
   ]
  },
  {
   "cell_type": "markdown",
   "metadata": {},
   "source": [
    "## final training\n",
    "Kfold with best found hyperparameters. Predicted probabilities are mean of predictions from all folds."
   ]
  },
  {
   "cell_type": "code",
   "execution_count": 39,
   "metadata": {},
   "outputs": [],
   "source": [
    "X_test=df_test.values"
   ]
  },
  {
   "cell_type": "code",
   "execution_count": 41,
   "metadata": {},
   "outputs": [
    {
     "name": "stdout",
     "output_type": "stream",
     "text": [
      "Calculating fold 1/5...\n"
     ]
    },
    {
     "name": "stderr",
     "output_type": "stream",
     "text": [
      "C:\\Users\\tslow\\Anaconda3\\lib\\site-packages\\lightgbm\\engine.py:113: UserWarning: Found `num_rounds` in params. Will use it instead of argument\n",
      "  warnings.warn(\"Found `{}` in params. Will use it instead of argument\".format(alias))\n"
     ]
    },
    {
     "name": "stdout",
     "output_type": "stream",
     "text": [
      "Training until validation scores don't improve for 400 rounds.\n",
      "[500]\ttraining's auc: 0.950332\tvalid_1's auc: 0.895778\n"
     ]
    },
    {
     "ename": "KeyboardInterrupt",
     "evalue": "",
     "output_type": "error",
     "traceback": [
      "\u001b[1;31m---------------------------------------------------------------------------\u001b[0m",
      "\u001b[1;31mKeyboardInterrupt\u001b[0m                         Traceback (most recent call last)",
      "\u001b[1;32m<ipython-input-41-1770c8da53d1>\u001b[0m in \u001b[0;36m<module>\u001b[1;34m\u001b[0m\n\u001b[0;32m     18\u001b[0m     \u001b[0mtrain_set\u001b[0m \u001b[1;33m=\u001b[0m \u001b[0mlgb\u001b[0m\u001b[1;33m.\u001b[0m\u001b[0mDataset\u001b[0m\u001b[1;33m(\u001b[0m\u001b[0mdf_train\u001b[0m\u001b[1;33m.\u001b[0m\u001b[0miloc\u001b[0m\u001b[1;33m[\u001b[0m\u001b[0mtrain_index\u001b[0m\u001b[1;33m]\u001b[0m\u001b[1;33m,\u001b[0m \u001b[0mlabel\u001b[0m\u001b[1;33m=\u001b[0m\u001b[0mdf_target\u001b[0m\u001b[1;33m.\u001b[0m\u001b[0miloc\u001b[0m\u001b[1;33m[\u001b[0m\u001b[0mtrain_index\u001b[0m\u001b[1;33m]\u001b[0m\u001b[1;33m)\u001b[0m\u001b[1;33m\u001b[0m\u001b[1;33m\u001b[0m\u001b[0m\n\u001b[0;32m     19\u001b[0m     \u001b[0mval_set\u001b[0m \u001b[1;33m=\u001b[0m \u001b[0mlgb\u001b[0m\u001b[1;33m.\u001b[0m\u001b[0mDataset\u001b[0m\u001b[1;33m(\u001b[0m\u001b[0mdf_train\u001b[0m\u001b[1;33m.\u001b[0m\u001b[0miloc\u001b[0m\u001b[1;33m[\u001b[0m\u001b[0mvalid_index\u001b[0m\u001b[1;33m]\u001b[0m\u001b[1;33m,\u001b[0m \u001b[0mlabel\u001b[0m\u001b[1;33m=\u001b[0m\u001b[0mdf_target\u001b[0m\u001b[1;33m.\u001b[0m\u001b[0miloc\u001b[0m\u001b[1;33m[\u001b[0m\u001b[0mvalid_index\u001b[0m\u001b[1;33m]\u001b[0m\u001b[1;33m)\u001b[0m\u001b[1;33m\u001b[0m\u001b[1;33m\u001b[0m\u001b[0m\n\u001b[1;32m---> 20\u001b[1;33m     \u001b[0mclf\u001b[0m \u001b[1;33m=\u001b[0m \u001b[0mlgb\u001b[0m\u001b[1;33m.\u001b[0m\u001b[0mtrain\u001b[0m\u001b[1;33m(\u001b[0m\u001b[0mbest_param\u001b[0m\u001b[1;33m,\u001b[0m \u001b[0mtrain_set\u001b[0m\u001b[1;33m,\u001b[0m \u001b[0mvalid_sets\u001b[0m\u001b[1;33m=\u001b[0m\u001b[1;33m[\u001b[0m\u001b[0mtrain_set\u001b[0m\u001b[1;33m,\u001b[0m \u001b[0mval_set\u001b[0m\u001b[1;33m]\u001b[0m\u001b[1;33m,\u001b[0m \u001b[0mverbose_eval\u001b[0m\u001b[1;33m=\u001b[0m\u001b[1;36m500\u001b[0m\u001b[1;33m,\u001b[0m \u001b[0mearly_stopping_rounds\u001b[0m \u001b[1;33m=\u001b[0m \u001b[1;36m400\u001b[0m\u001b[1;33m)\u001b[0m\u001b[1;33m\u001b[0m\u001b[1;33m\u001b[0m\u001b[0m\n\u001b[0m\u001b[0;32m     21\u001b[0m     \u001b[1;31m# y_probs += clf.predict(df_test.values, num_iteration=clf.best_iteration)/fold_n\u001b[0m\u001b[1;33m\u001b[0m\u001b[1;33m\u001b[0m\u001b[1;33m\u001b[0m\u001b[0m\n\u001b[0;32m     22\u001b[0m     \u001b[0my_probs\u001b[0m \u001b[1;33m+=\u001b[0m \u001b[0mclf\u001b[0m\u001b[1;33m.\u001b[0m\u001b[0mpredict\u001b[0m\u001b[1;33m(\u001b[0m\u001b[0mdf_test\u001b[0m\u001b[1;33m.\u001b[0m\u001b[0mvalues\u001b[0m\u001b[1;33m)\u001b[0m\u001b[1;33m/\u001b[0m\u001b[0mfold_n\u001b[0m\u001b[1;33m\u001b[0m\u001b[1;33m\u001b[0m\u001b[0m\n",
      "\u001b[1;32m~\\Anaconda3\\lib\\site-packages\\lightgbm\\engine.py\u001b[0m in \u001b[0;36mtrain\u001b[1;34m(params, train_set, num_boost_round, valid_sets, valid_names, fobj, feval, init_model, feature_name, categorical_feature, early_stopping_rounds, evals_result, verbose_eval, learning_rates, keep_training_booster, callbacks)\u001b[0m\n\u001b[0;32m    211\u001b[0m                                     evaluation_result_list=None))\n\u001b[0;32m    212\u001b[0m \u001b[1;33m\u001b[0m\u001b[0m\n\u001b[1;32m--> 213\u001b[1;33m         \u001b[0mbooster\u001b[0m\u001b[1;33m.\u001b[0m\u001b[0mupdate\u001b[0m\u001b[1;33m(\u001b[0m\u001b[0mfobj\u001b[0m\u001b[1;33m=\u001b[0m\u001b[0mfobj\u001b[0m\u001b[1;33m)\u001b[0m\u001b[1;33m\u001b[0m\u001b[1;33m\u001b[0m\u001b[0m\n\u001b[0m\u001b[0;32m    214\u001b[0m \u001b[1;33m\u001b[0m\u001b[0m\n\u001b[0;32m    215\u001b[0m         \u001b[0mevaluation_result_list\u001b[0m \u001b[1;33m=\u001b[0m \u001b[1;33m[\u001b[0m\u001b[1;33m]\u001b[0m\u001b[1;33m\u001b[0m\u001b[1;33m\u001b[0m\u001b[0m\n",
      "\u001b[1;32m~\\Anaconda3\\lib\\site-packages\\lightgbm\\basic.py\u001b[0m in \u001b[0;36mupdate\u001b[1;34m(self, train_set, fobj)\u001b[0m\n\u001b[0;32m   1753\u001b[0m             _safe_call(_LIB.LGBM_BoosterUpdateOneIter(\n\u001b[0;32m   1754\u001b[0m                 \u001b[0mself\u001b[0m\u001b[1;33m.\u001b[0m\u001b[0mhandle\u001b[0m\u001b[1;33m,\u001b[0m\u001b[1;33m\u001b[0m\u001b[1;33m\u001b[0m\u001b[0m\n\u001b[1;32m-> 1755\u001b[1;33m                 ctypes.byref(is_finished)))\n\u001b[0m\u001b[0;32m   1756\u001b[0m             \u001b[0mself\u001b[0m\u001b[1;33m.\u001b[0m\u001b[0m__is_predicted_cur_iter\u001b[0m \u001b[1;33m=\u001b[0m \u001b[1;33m[\u001b[0m\u001b[1;32mFalse\u001b[0m \u001b[1;32mfor\u001b[0m \u001b[0m_\u001b[0m \u001b[1;32min\u001b[0m \u001b[0mrange_\u001b[0m\u001b[1;33m(\u001b[0m\u001b[0mself\u001b[0m\u001b[1;33m.\u001b[0m\u001b[0m__num_dataset\u001b[0m\u001b[1;33m)\u001b[0m\u001b[1;33m]\u001b[0m\u001b[1;33m\u001b[0m\u001b[1;33m\u001b[0m\u001b[0m\n\u001b[0;32m   1757\u001b[0m             \u001b[1;32mreturn\u001b[0m \u001b[0mis_finished\u001b[0m\u001b[1;33m.\u001b[0m\u001b[0mvalue\u001b[0m \u001b[1;33m==\u001b[0m \u001b[1;36m1\u001b[0m\u001b[1;33m\u001b[0m\u001b[1;33m\u001b[0m\u001b[0m\n",
      "\u001b[1;31mKeyboardInterrupt\u001b[0m: "
     ]
    }
   ],
   "source": [
    "# 0.900\n",
    "# best_param = {'objective': 'binary', 'metric': 'auc', 'learning_rate': 0.02, 'feature_fraction': 0.023,\n",
    "#              'num_leaves': 10, 'min_data_in_leaf': 80, 'bagging_fraction': 0.46, 'bagging_freq': 18, \n",
    "#              'min_sum_hessian_in_leaf': 1.45, 'num_rounds': 5000, 'verbose': 1}\n",
    "# fold_n=4\n",
    "best_param = {'objective': 'binary', 'metric': 'auc', 'bagging_fraction': 0.7755883925843395, 'bagging_freq': 4,\n",
    "              'feature_fraction': 0.11619997622598302, 'min_data_in_leaf': 85, 'num_leaves': 19,\n",
    "              'learning_rate': 0.04, 'max_depth': -1, 'num_rounds': 5000, 'verbose': 1}\n",
    "        # , 'device': 'gpu', 'gpu_use_dp': False}\n",
    "fold_n=5\n",
    "\n",
    "# predicted probabilities on test set (competition set)\n",
    "y_probs = np.zeros(len(df_test.values))\n",
    "folds = StratifiedKFold(n_splits=fold_n, shuffle=True, random_state=30)\n",
    "for i, (train_index, valid_index) in enumerate(folds.split(df_train,df_target)):\n",
    "    tic=time.time()\n",
    "    print(f'Calculating fold {i+1}/{fold_n}...')\n",
    "    train_set = lgb.Dataset(df_train.iloc[train_index], label=df_target.iloc[train_index])\n",
    "    val_set = lgb.Dataset(df_train.iloc[valid_index], label=df_target.iloc[valid_index])\n",
    "    clf = lgb.train(best_param, train_set, valid_sets=[train_set, val_set], verbose_eval=500, early_stopping_rounds = 400)\n",
    "    # y_probs += clf.predict(df_test.values, num_iteration=clf.best_iteration)/fold_n\n",
    "    y_probs += clf.predict(df_test.values)/fold_n\n",
    "    toc=time.time()\n",
    "    print(f'Fold {i+1} calcutated in {toc-tic}.')\n"
   ]
  },
  {
   "cell_type": "code",
   "execution_count": null,
   "metadata": {},
   "outputs": [],
   "source": [
    "#y_val_probs=clf.predict(X_val)\n",
    "#y_val_preds=np.where(y_val_probs>0.5,1,0)"
   ]
  },
  {
   "cell_type": "code",
   "execution_count": null,
   "metadata": {},
   "outputs": [],
   "source": [
    "#roc_auc_score(y_val, y_val_probs)"
   ]
  },
  {
   "cell_type": "code",
   "execution_count": null,
   "metadata": {},
   "outputs": [],
   "source": [
    "#y_probs=clf.predict(X_test)"
   ]
  },
  {
   "cell_type": "code",
   "execution_count": null,
   "metadata": {},
   "outputs": [],
   "source": [
    "y_probs\n"
   ]
  },
  {
   "cell_type": "code",
   "execution_count": null,
   "metadata": {},
   "outputs": [],
   "source": []
  },
  {
   "cell_type": "markdown",
   "metadata": {},
   "source": [
    "## submision"
   ]
  },
  {
   "cell_type": "code",
   "execution_count": 21,
   "metadata": {},
   "outputs": [],
   "source": [
    "submission_df = pd.DataFrame({\"ID_code\":test_dataset[\"ID_code\"].values})\n",
    "submission_df[\"target\"] = y_probs\n",
    "submission_df.to_csv(\"submission.csv\", index=False)"
   ]
  },
  {
   "cell_type": "code",
   "execution_count": null,
   "metadata": {},
   "outputs": [],
   "source": []
  }
 ],
 "metadata": {
  "kernelspec": {
   "display_name": "Python 3",
   "language": "python",
   "name": "python3"
  },
  "language_info": {
   "codemirror_mode": {
    "name": "ipython",
    "version": 3
   },
   "file_extension": ".py",
   "mimetype": "text/x-python",
   "name": "python",
   "nbconvert_exporter": "python",
   "pygments_lexer": "ipython3",
   "version": "3.7.1"
  }
 },
 "nbformat": 4,
 "nbformat_minor": 2
}

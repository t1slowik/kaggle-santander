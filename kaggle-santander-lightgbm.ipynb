{
 "cells": [
  {
   "cell_type": "markdown",
   "metadata": {},
   "source": [
    "# Kaggle Santander competition"
   ]
  },
  {
   "cell_type": "code",
   "execution_count": 9,
   "metadata": {},
   "outputs": [],
   "source": [
    "# general & data analysis imports\n",
    "import numpy as np\n",
    "import pandas as pd\n",
    "# import matplotlib.pyplot as plt\n",
    "# import seaborn as sns\n",
    "from sklearn.model_selection import train_test_split\n",
    "from sklearn.model_selection import cross_val_score\n",
    "from sklearn.metrics import confusion_matrix\n",
    "from sklearn.model_selection import KFold\n",
    "from sklearn.metrics import roc_auc_score\n",
    "from sklearn.metrics import auc\n",
    "from sklearn.model_selection import StratifiedKFold\n",
    "from imblearn.over_sampling import SMOTE\n",
    "\n",
    "import lightgbm as lgb\n",
    "import time\n",
    "\n",
    "\n",
    "\n"
   ]
  },
  {
   "cell_type": "markdown",
   "metadata": {},
   "source": [
    "## data load"
   ]
  },
  {
   "cell_type": "code",
   "execution_count": 2,
   "metadata": {},
   "outputs": [],
   "source": [
    "train_dataset=pd.read_csv('train.csv')\n",
    "test_dataset=pd.read_csv('test.csv')"
   ]
  },
  {
   "cell_type": "markdown",
   "metadata": {},
   "source": [
    "## data analysis"
   ]
  },
  {
   "cell_type": "code",
   "execution_count": null,
   "metadata": {},
   "outputs": [],
   "source": [
    "train_dataset.info()"
   ]
  },
  {
   "cell_type": "code",
   "execution_count": null,
   "metadata": {},
   "outputs": [],
   "source": [
    "train_dataset.describe()"
   ]
  },
  {
   "cell_type": "code",
   "execution_count": null,
   "metadata": {},
   "outputs": [],
   "source": [
    "train_dataset.columns"
   ]
  },
  {
   "cell_type": "code",
   "execution_count": null,
   "metadata": {},
   "outputs": [],
   "source": [
    "train_dataset.head()"
   ]
  },
  {
   "cell_type": "code",
   "execution_count": null,
   "metadata": {},
   "outputs": [],
   "source": [
    "train_dataset.isnull().sum().sum()"
   ]
  },
  {
   "cell_type": "markdown",
   "metadata": {},
   "source": [
    "## data preprocessing"
   ]
  },
  {
   "cell_type": "code",
   "execution_count": 3,
   "metadata": {},
   "outputs": [],
   "source": [
    "# remove dependent variable from train set to have the same structure as test set\n",
    "df_target=train_dataset['target'].copy()\n",
    "df_train=train_dataset.drop(['ID_code','target'], axis=1)\n",
    "df_test=test_dataset.drop('ID_code', axis=1)"
   ]
  },
  {
   "cell_type": "code",
   "execution_count": 4,
   "metadata": {},
   "outputs": [],
   "source": [
    "#X_train,X_val,y_train,y_val=train_test_split(df_train.values,df_target.values,test_size=0.15,random_state=1, shuffle=True)\n",
    "X_test=df_test.values"
   ]
  },
  {
   "cell_type": "code",
   "execution_count": 5,
   "metadata": {},
   "outputs": [],
   "source": [
    "#sm = SMOTE(random_state=1)\n",
    "#X_train, y_train = sm.fit_resample(X_train, y_train)\n",
    "#X_val, y_val = sm.fit_resample(X_val, y_val)"
   ]
  },
  {
   "cell_type": "code",
   "execution_count": null,
   "metadata": {},
   "outputs": [],
   "source": [
    "print(X_train.shape)\n",
    "print(y_train.shape)\n",
    "print(X_val.shape)\n",
    "print(y_val.shape)\n",
    "print(X_test.shape)"
   ]
  },
  {
   "cell_type": "code",
   "execution_count": null,
   "metadata": {},
   "outputs": [],
   "source": []
  },
  {
   "cell_type": "markdown",
   "metadata": {},
   "source": [
    "## training and evaluation"
   ]
  },
  {
   "cell_type": "code",
   "execution_count": 16,
   "metadata": {},
   "outputs": [
    {
     "name": "stdout",
     "output_type": "stream",
     "text": [
      "Calculating fold 1/2...\n"
     ]
    },
    {
     "name": "stderr",
     "output_type": "stream",
     "text": [
      "/home/tsl/anaconda3/lib/python3.7/site-packages/lightgbm/engine.py:118: UserWarning: Found `num_rounds` in params. Will use it instead of argument\n",
      "  warnings.warn(\"Found `{}` in params. Will use it instead of argument\".format(alias))\n"
     ]
    },
    {
     "name": "stdout",
     "output_type": "stream",
     "text": [
      "Training until validation scores don't improve for 400 rounds.\n",
      "[200]\ttraining's auc: 0.863846\tvalid_1's auc: 0.811589\n",
      "[400]\ttraining's auc: 0.905308\tvalid_1's auc: 0.843182\n",
      "[600]\ttraining's auc: 0.926754\tvalid_1's auc: 0.858061\n",
      "[800]\ttraining's auc: 0.940904\tvalid_1's auc: 0.867434\n",
      "[1000]\ttraining's auc: 0.951521\tvalid_1's auc: 0.873778\n",
      "[1200]\ttraining's auc: 0.959486\tvalid_1's auc: 0.878296\n",
      "[1400]\ttraining's auc: 0.965913\tvalid_1's auc: 0.881625\n",
      "[1600]\ttraining's auc: 0.971285\tvalid_1's auc: 0.884177\n",
      "[1800]\ttraining's auc: 0.975624\tvalid_1's auc: 0.886154\n",
      "[2000]\ttraining's auc: 0.979317\tvalid_1's auc: 0.887588\n",
      "Did not meet early stopping. Best iteration is:\n",
      "[2000]\ttraining's auc: 0.979317\tvalid_1's auc: 0.887588\n",
      "Fold 1 calcutated in 158.90864825248718.\n",
      "Calculating fold 2/2...\n",
      "Training until validation scores don't improve for 400 rounds.\n",
      "[200]\ttraining's auc: 0.864172\tvalid_1's auc: 0.810007\n",
      "[400]\ttraining's auc: 0.906164\tvalid_1's auc: 0.840448\n",
      "[600]\ttraining's auc: 0.928207\tvalid_1's auc: 0.855595\n",
      "[800]\ttraining's auc: 0.942375\tvalid_1's auc: 0.865061\n",
      "[1000]\ttraining's auc: 0.952688\tvalid_1's auc: 0.871498\n",
      "[1200]\ttraining's auc: 0.960347\tvalid_1's auc: 0.876023\n",
      "[1400]\ttraining's auc: 0.966579\tvalid_1's auc: 0.879459\n",
      "[1600]\ttraining's auc: 0.971643\tvalid_1's auc: 0.882136\n",
      "[1800]\ttraining's auc: 0.975859\tvalid_1's auc: 0.884175\n",
      "[2000]\ttraining's auc: 0.979482\tvalid_1's auc: 0.885764\n",
      "Did not meet early stopping. Best iteration is:\n",
      "[2000]\ttraining's auc: 0.979482\tvalid_1's auc: 0.885764\n",
      "Fold 2 calcutated in 159.28012466430664.\n"
     ]
    }
   ],
   "source": [
    "param = {'objective': 'binary', 'metric': 'auc', 'learning_rate': 0.01, 'num_rounds': 2000, 'verbose': 1}\n",
    "        # , 'device': 'gpu', 'gpu_use_dp': False}\n",
    "\n",
    "# predicted probabilities on test set (competition set)\n",
    "y_probs = np.zeros(len(X_test))\n",
    "fold_n=2\n",
    "folds = StratifiedKFold(n_splits=fold_n, shuffle=True, random_state=30)\n",
    "for i, (train_index, valid_index) in enumerate(folds.split(df_train,df_target)):\n",
    "    tic=time.time()\n",
    "    print(f'Calculating fold {i+1}/{fold_n}...')\n",
    "    train_set = lgb.Dataset(df_train.iloc[train_index], label=df_target.iloc[train_index])\n",
    "    val_set = lgb.Dataset(df_train.iloc[valid_index], label=df_target.iloc[valid_index])\n",
    "    clf = lgb.train(param, train_set, valid_sets=[train_set,val_set], verbose_eval=200,early_stopping_rounds = 400)\n",
    "    y_probs += clf.predict(X_test, num_iteration=clf.best_iteration)/fold_n\n",
    "    toc=time.time()\n",
    "    print(f'Fold {i+1} calcutated in {toc-tic}.')\n"
   ]
  },
  {
   "cell_type": "code",
   "execution_count": null,
   "metadata": {},
   "outputs": [],
   "source": [
    "#y_val_probs=clf.predict(X_val)\n",
    "#y_val_preds=np.where(y_val_probs>0.5,1,0)"
   ]
  },
  {
   "cell_type": "code",
   "execution_count": null,
   "metadata": {},
   "outputs": [],
   "source": [
    "#roc_auc_score(y_val, y_val_probs)"
   ]
  },
  {
   "cell_type": "code",
   "execution_count": null,
   "metadata": {},
   "outputs": [],
   "source": [
    "#y_probs=clf.predict(X_test)"
   ]
  },
  {
   "cell_type": "code",
   "execution_count": null,
   "metadata": {},
   "outputs": [],
   "source": [
    "y_probs\n"
   ]
  },
  {
   "cell_type": "code",
   "execution_count": null,
   "metadata": {},
   "outputs": [],
   "source": []
  },
  {
   "cell_type": "markdown",
   "metadata": {},
   "source": [
    "## submision"
   ]
  },
  {
   "cell_type": "code",
   "execution_count": null,
   "metadata": {},
   "outputs": [],
   "source": [
    "submission_df = pd.DataFrame({\"ID_code\":test_dataset[\"ID_code\"].values})\n",
    "submission_df[\"target\"] = y_probs\n",
    "submission_df.to_csv(\"submission.csv\", index=False)"
   ]
  },
  {
   "cell_type": "code",
   "execution_count": null,
   "metadata": {},
   "outputs": [],
   "source": []
  }
 ],
 "metadata": {
  "kernelspec": {
   "display_name": "Python 3",
   "language": "python",
   "name": "python3"
  },
  "language_info": {
   "codemirror_mode": {
    "name": "ipython",
    "version": 3
   },
   "file_extension": ".py",
   "mimetype": "text/x-python",
   "name": "python",
   "nbconvert_exporter": "python",
   "pygments_lexer": "ipython3",
   "version": "3.7.2"
  }
 },
 "nbformat": 4,
 "nbformat_minor": 2
}
